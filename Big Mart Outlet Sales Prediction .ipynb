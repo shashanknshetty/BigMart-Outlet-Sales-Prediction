{
 "cells": [
  {
   "cell_type": "code",
   "execution_count": 1,
   "id": "13a10887",
   "metadata": {
    "id": "13a10887"
   },
   "outputs": [],
   "source": [
    "# importing the libraries\n",
    "\n",
    "import pandas as pd\n",
    "import numpy as np\n",
    "import matplotlib.pyplot as plt\n",
    "import seaborn as sns\n",
    "from warnings import filterwarnings\n",
    "filterwarnings('ignore')\n",
    "pd.set_option('display.max_columns',None)"
   ]
  },
  {
   "cell_type": "code",
   "execution_count": 2,
   "id": "71ba6e8d",
   "metadata": {
    "colab": {
     "base_uri": "https://localhost:8080/"
    },
    "id": "71ba6e8d",
    "outputId": "8006d46c-0a67-4049-d341-e0468e32e592"
   },
   "outputs": [
    {
     "name": "stdout",
     "output_type": "stream",
     "text": [
      "(8523, 12) (5681, 11)\n"
     ]
    }
   ],
   "source": [
    "train = pd.read_csv('train.csv')\n",
    "test = pd.read_csv('test.csv')\n",
    "print(train.shape,test.shape)"
   ]
  },
  {
   "cell_type": "code",
   "execution_count": 3,
   "id": "06480abb",
   "metadata": {
    "id": "06480abb"
   },
   "outputs": [],
   "source": [
    "df=pd.concat([train,test],axis=0)"
   ]
  },
  {
   "cell_type": "code",
   "execution_count": 4,
   "id": "3be2e507",
   "metadata": {
    "colab": {
     "base_uri": "https://localhost:8080/",
     "height": 357
    },
    "id": "3be2e507",
    "outputId": "586cdeed-7295-48f3-d74e-5a7d8b0eb20e",
    "scrolled": true
   },
   "outputs": [
    {
     "data": {
      "text/html": [
       "<div>\n",
       "<style scoped>\n",
       "    .dataframe tbody tr th:only-of-type {\n",
       "        vertical-align: middle;\n",
       "    }\n",
       "\n",
       "    .dataframe tbody tr th {\n",
       "        vertical-align: top;\n",
       "    }\n",
       "\n",
       "    .dataframe thead th {\n",
       "        text-align: right;\n",
       "    }\n",
       "</style>\n",
       "<table border=\"1\" class=\"dataframe\">\n",
       "  <thead>\n",
       "    <tr style=\"text-align: right;\">\n",
       "      <th></th>\n",
       "      <th>Item_Identifier</th>\n",
       "      <th>Item_Weight</th>\n",
       "      <th>Item_Fat_Content</th>\n",
       "      <th>Item_Visibility</th>\n",
       "      <th>Item_Type</th>\n",
       "      <th>Item_MRP</th>\n",
       "      <th>Outlet_Identifier</th>\n",
       "      <th>Outlet_Establishment_Year</th>\n",
       "      <th>Outlet_Size</th>\n",
       "      <th>Outlet_Location_Type</th>\n",
       "      <th>Outlet_Type</th>\n",
       "      <th>Item_Outlet_Sales</th>\n",
       "    </tr>\n",
       "  </thead>\n",
       "  <tbody>\n",
       "    <tr>\n",
       "      <th>0</th>\n",
       "      <td>FDA15</td>\n",
       "      <td>9.30</td>\n",
       "      <td>Low Fat</td>\n",
       "      <td>0.016047</td>\n",
       "      <td>Dairy</td>\n",
       "      <td>249.8092</td>\n",
       "      <td>OUT049</td>\n",
       "      <td>1999</td>\n",
       "      <td>Medium</td>\n",
       "      <td>Tier 1</td>\n",
       "      <td>Supermarket Type1</td>\n",
       "      <td>3735.1380</td>\n",
       "    </tr>\n",
       "    <tr>\n",
       "      <th>1</th>\n",
       "      <td>DRC01</td>\n",
       "      <td>5.92</td>\n",
       "      <td>Regular</td>\n",
       "      <td>0.019278</td>\n",
       "      <td>Soft Drinks</td>\n",
       "      <td>48.2692</td>\n",
       "      <td>OUT018</td>\n",
       "      <td>2009</td>\n",
       "      <td>Medium</td>\n",
       "      <td>Tier 3</td>\n",
       "      <td>Supermarket Type2</td>\n",
       "      <td>443.4228</td>\n",
       "    </tr>\n",
       "    <tr>\n",
       "      <th>2</th>\n",
       "      <td>FDN15</td>\n",
       "      <td>17.50</td>\n",
       "      <td>Low Fat</td>\n",
       "      <td>0.016760</td>\n",
       "      <td>Meat</td>\n",
       "      <td>141.6180</td>\n",
       "      <td>OUT049</td>\n",
       "      <td>1999</td>\n",
       "      <td>Medium</td>\n",
       "      <td>Tier 1</td>\n",
       "      <td>Supermarket Type1</td>\n",
       "      <td>2097.2700</td>\n",
       "    </tr>\n",
       "    <tr>\n",
       "      <th>3</th>\n",
       "      <td>FDX07</td>\n",
       "      <td>19.20</td>\n",
       "      <td>Regular</td>\n",
       "      <td>0.000000</td>\n",
       "      <td>Fruits and Vegetables</td>\n",
       "      <td>182.0950</td>\n",
       "      <td>OUT010</td>\n",
       "      <td>1998</td>\n",
       "      <td>NaN</td>\n",
       "      <td>Tier 3</td>\n",
       "      <td>Grocery Store</td>\n",
       "      <td>732.3800</td>\n",
       "    </tr>\n",
       "    <tr>\n",
       "      <th>4</th>\n",
       "      <td>NCD19</td>\n",
       "      <td>8.93</td>\n",
       "      <td>Low Fat</td>\n",
       "      <td>0.000000</td>\n",
       "      <td>Household</td>\n",
       "      <td>53.8614</td>\n",
       "      <td>OUT013</td>\n",
       "      <td>1987</td>\n",
       "      <td>High</td>\n",
       "      <td>Tier 3</td>\n",
       "      <td>Supermarket Type1</td>\n",
       "      <td>994.7052</td>\n",
       "    </tr>\n",
       "  </tbody>\n",
       "</table>\n",
       "</div>"
      ],
      "text/plain": [
       "  Item_Identifier  Item_Weight Item_Fat_Content  Item_Visibility  \\\n",
       "0           FDA15         9.30          Low Fat         0.016047   \n",
       "1           DRC01         5.92          Regular         0.019278   \n",
       "2           FDN15        17.50          Low Fat         0.016760   \n",
       "3           FDX07        19.20          Regular         0.000000   \n",
       "4           NCD19         8.93          Low Fat         0.000000   \n",
       "\n",
       "               Item_Type  Item_MRP Outlet_Identifier  \\\n",
       "0                  Dairy  249.8092            OUT049   \n",
       "1            Soft Drinks   48.2692            OUT018   \n",
       "2                   Meat  141.6180            OUT049   \n",
       "3  Fruits and Vegetables  182.0950            OUT010   \n",
       "4              Household   53.8614            OUT013   \n",
       "\n",
       "   Outlet_Establishment_Year Outlet_Size Outlet_Location_Type  \\\n",
       "0                       1999      Medium               Tier 1   \n",
       "1                       2009      Medium               Tier 3   \n",
       "2                       1999      Medium               Tier 1   \n",
       "3                       1998         NaN               Tier 3   \n",
       "4                       1987        High               Tier 3   \n",
       "\n",
       "         Outlet_Type  Item_Outlet_Sales  \n",
       "0  Supermarket Type1          3735.1380  \n",
       "1  Supermarket Type2           443.4228  \n",
       "2  Supermarket Type1          2097.2700  \n",
       "3      Grocery Store           732.3800  \n",
       "4  Supermarket Type1           994.7052  "
      ]
     },
     "execution_count": 4,
     "metadata": {},
     "output_type": "execute_result"
    }
   ],
   "source": [
    "df.head()"
   ]
  },
  {
   "cell_type": "code",
   "execution_count": 5,
   "id": "e5411eee",
   "metadata": {
    "colab": {
     "base_uri": "https://localhost:8080/"
    },
    "id": "e5411eee",
    "outputId": "fcedfade-d08a-46ec-d318-8f80dfa03301"
   },
   "outputs": [
    {
     "data": {
      "text/plain": [
       "(14204, 12)"
      ]
     },
     "execution_count": 5,
     "metadata": {},
     "output_type": "execute_result"
    }
   ],
   "source": [
    "df.shape"
   ]
  },
  {
   "cell_type": "code",
   "execution_count": 6,
   "id": "bc138501",
   "metadata": {
    "colab": {
     "base_uri": "https://localhost:8080/"
    },
    "id": "bc138501",
    "outputId": "45d32b48-f173-4cc7-90c7-0c7a039cd4e2"
   },
   "outputs": [
    {
     "name": "stdout",
     "output_type": "stream",
     "text": [
      "<class 'pandas.core.frame.DataFrame'>\n",
      "Int64Index: 14204 entries, 0 to 5680\n",
      "Data columns (total 12 columns):\n",
      " #   Column                     Non-Null Count  Dtype  \n",
      "---  ------                     --------------  -----  \n",
      " 0   Item_Identifier            14204 non-null  object \n",
      " 1   Item_Weight                11765 non-null  float64\n",
      " 2   Item_Fat_Content           14204 non-null  object \n",
      " 3   Item_Visibility            14204 non-null  float64\n",
      " 4   Item_Type                  14204 non-null  object \n",
      " 5   Item_MRP                   14204 non-null  float64\n",
      " 6   Outlet_Identifier          14204 non-null  object \n",
      " 7   Outlet_Establishment_Year  14204 non-null  int64  \n",
      " 8   Outlet_Size                10188 non-null  object \n",
      " 9   Outlet_Location_Type       14204 non-null  object \n",
      " 10  Outlet_Type                14204 non-null  object \n",
      " 11  Item_Outlet_Sales          8523 non-null   float64\n",
      "dtypes: float64(4), int64(1), object(7)\n",
      "memory usage: 1.4+ MB\n"
     ]
    }
   ],
   "source": [
    "df.info()"
   ]
  },
  {
   "cell_type": "code",
   "execution_count": 7,
   "id": "4fce4a84",
   "metadata": {
    "colab": {
     "base_uri": "https://localhost:8080/",
     "height": 300
    },
    "id": "4fce4a84",
    "outputId": "5ebe4873-d99a-49dd-8917-485d208f3947"
   },
   "outputs": [
    {
     "data": {
      "text/html": [
       "<div>\n",
       "<style scoped>\n",
       "    .dataframe tbody tr th:only-of-type {\n",
       "        vertical-align: middle;\n",
       "    }\n",
       "\n",
       "    .dataframe tbody tr th {\n",
       "        vertical-align: top;\n",
       "    }\n",
       "\n",
       "    .dataframe thead th {\n",
       "        text-align: right;\n",
       "    }\n",
       "</style>\n",
       "<table border=\"1\" class=\"dataframe\">\n",
       "  <thead>\n",
       "    <tr style=\"text-align: right;\">\n",
       "      <th></th>\n",
       "      <th>Item_Weight</th>\n",
       "      <th>Item_Visibility</th>\n",
       "      <th>Item_MRP</th>\n",
       "      <th>Outlet_Establishment_Year</th>\n",
       "      <th>Item_Outlet_Sales</th>\n",
       "    </tr>\n",
       "  </thead>\n",
       "  <tbody>\n",
       "    <tr>\n",
       "      <th>count</th>\n",
       "      <td>11765.000000</td>\n",
       "      <td>14204.000000</td>\n",
       "      <td>14204.000000</td>\n",
       "      <td>14204.000000</td>\n",
       "      <td>8523.000000</td>\n",
       "    </tr>\n",
       "    <tr>\n",
       "      <th>mean</th>\n",
       "      <td>12.792854</td>\n",
       "      <td>0.065953</td>\n",
       "      <td>141.004977</td>\n",
       "      <td>1997.830681</td>\n",
       "      <td>2181.288914</td>\n",
       "    </tr>\n",
       "    <tr>\n",
       "      <th>std</th>\n",
       "      <td>4.652502</td>\n",
       "      <td>0.051459</td>\n",
       "      <td>62.086938</td>\n",
       "      <td>8.371664</td>\n",
       "      <td>1706.499616</td>\n",
       "    </tr>\n",
       "    <tr>\n",
       "      <th>min</th>\n",
       "      <td>4.555000</td>\n",
       "      <td>0.000000</td>\n",
       "      <td>31.290000</td>\n",
       "      <td>1985.000000</td>\n",
       "      <td>33.290000</td>\n",
       "    </tr>\n",
       "    <tr>\n",
       "      <th>25%</th>\n",
       "      <td>8.710000</td>\n",
       "      <td>0.027036</td>\n",
       "      <td>94.012000</td>\n",
       "      <td>1987.000000</td>\n",
       "      <td>834.247400</td>\n",
       "    </tr>\n",
       "    <tr>\n",
       "      <th>50%</th>\n",
       "      <td>12.600000</td>\n",
       "      <td>0.054021</td>\n",
       "      <td>142.247000</td>\n",
       "      <td>1999.000000</td>\n",
       "      <td>1794.331000</td>\n",
       "    </tr>\n",
       "    <tr>\n",
       "      <th>75%</th>\n",
       "      <td>16.750000</td>\n",
       "      <td>0.094037</td>\n",
       "      <td>185.855600</td>\n",
       "      <td>2004.000000</td>\n",
       "      <td>3101.296400</td>\n",
       "    </tr>\n",
       "    <tr>\n",
       "      <th>max</th>\n",
       "      <td>21.350000</td>\n",
       "      <td>0.328391</td>\n",
       "      <td>266.888400</td>\n",
       "      <td>2009.000000</td>\n",
       "      <td>13086.964800</td>\n",
       "    </tr>\n",
       "  </tbody>\n",
       "</table>\n",
       "</div>"
      ],
      "text/plain": [
       "        Item_Weight  Item_Visibility      Item_MRP  Outlet_Establishment_Year  \\\n",
       "count  11765.000000     14204.000000  14204.000000               14204.000000   \n",
       "mean      12.792854         0.065953    141.004977                1997.830681   \n",
       "std        4.652502         0.051459     62.086938                   8.371664   \n",
       "min        4.555000         0.000000     31.290000                1985.000000   \n",
       "25%        8.710000         0.027036     94.012000                1987.000000   \n",
       "50%       12.600000         0.054021    142.247000                1999.000000   \n",
       "75%       16.750000         0.094037    185.855600                2004.000000   \n",
       "max       21.350000         0.328391    266.888400                2009.000000   \n",
       "\n",
       "       Item_Outlet_Sales  \n",
       "count        8523.000000  \n",
       "mean         2181.288914  \n",
       "std          1706.499616  \n",
       "min            33.290000  \n",
       "25%           834.247400  \n",
       "50%          1794.331000  \n",
       "75%          3101.296400  \n",
       "max         13086.964800  "
      ]
     },
     "execution_count": 7,
     "metadata": {},
     "output_type": "execute_result"
    }
   ],
   "source": [
    "df.describe()"
   ]
  },
  {
   "cell_type": "markdown",
   "id": "db5ec604",
   "metadata": {
    "id": "db5ec604"
   },
   "source": [
    "The data preprocessing steps to be done \n",
    "\n",
    "1. Item_Visibility should not be having 0 as its minimum \n",
    "2. In Item_Identifier we can take only starting 2 char and will use for prediction\n",
    "3. In Item_Fat_Content we have only 2 levels but due to typoerror we have 5 levels\n",
    "4. will convert Outlet_Establishment_Year to the age of the store establishment\n"
   ]
  },
  {
   "cell_type": "markdown",
   "id": "605178d9",
   "metadata": {
    "id": "605178d9"
   },
   "source": [
    "## Will check for missing values"
   ]
  },
  {
   "cell_type": "code",
   "execution_count": 8,
   "id": "4dc27432",
   "metadata": {
    "colab": {
     "base_uri": "https://localhost:8080/"
    },
    "id": "4dc27432",
    "outputId": "e7cea3d5-b3c4-4d41-e203-f301a73a229e"
   },
   "outputs": [
    {
     "data": {
      "text/plain": [
       "Item_Weight          2439\n",
       "Outlet_Size          4016\n",
       "Item_Outlet_Sales    5681\n",
       "dtype: int64"
      ]
     },
     "execution_count": 8,
     "metadata": {},
     "output_type": "execute_result"
    }
   ],
   "source": [
    "miss_val=df.isnull().sum()\n",
    "miss_val[miss_val>0]"
   ]
  },
  {
   "cell_type": "markdown",
   "id": "7a313393",
   "metadata": {
    "id": "7a313393"
   },
   "source": [
    "Item_Outlet_Sales has no missing values where in test data we dont have the target variable so we are getting the null counts here so we should not treat the target variable [Item_Outlet_Sales]"
   ]
  },
  {
   "cell_type": "code",
   "execution_count": 9,
   "id": "68883fa1",
   "metadata": {
    "colab": {
     "base_uri": "https://localhost:8080/",
     "height": 357
    },
    "id": "68883fa1",
    "outputId": "1bc61813-afe2-42bc-b243-7aa09c78bbe6"
   },
   "outputs": [
    {
     "data": {
      "text/html": [
       "<div>\n",
       "<style scoped>\n",
       "    .dataframe tbody tr th:only-of-type {\n",
       "        vertical-align: middle;\n",
       "    }\n",
       "\n",
       "    .dataframe tbody tr th {\n",
       "        vertical-align: top;\n",
       "    }\n",
       "\n",
       "    .dataframe thead th {\n",
       "        text-align: right;\n",
       "    }\n",
       "</style>\n",
       "<table border=\"1\" class=\"dataframe\">\n",
       "  <thead>\n",
       "    <tr style=\"text-align: right;\">\n",
       "      <th></th>\n",
       "      <th>Item_Identifier</th>\n",
       "      <th>Item_Weight</th>\n",
       "      <th>Item_Fat_Content</th>\n",
       "      <th>Item_Visibility</th>\n",
       "      <th>Item_Type</th>\n",
       "      <th>Item_MRP</th>\n",
       "      <th>Outlet_Identifier</th>\n",
       "      <th>Outlet_Establishment_Year</th>\n",
       "      <th>Outlet_Size</th>\n",
       "      <th>Outlet_Location_Type</th>\n",
       "      <th>Outlet_Type</th>\n",
       "      <th>Item_Outlet_Sales</th>\n",
       "    </tr>\n",
       "  </thead>\n",
       "  <tbody>\n",
       "    <tr>\n",
       "      <th>0</th>\n",
       "      <td>FDA15</td>\n",
       "      <td>9.30</td>\n",
       "      <td>Low Fat</td>\n",
       "      <td>0.016047</td>\n",
       "      <td>Dairy</td>\n",
       "      <td>249.8092</td>\n",
       "      <td>OUT049</td>\n",
       "      <td>1999</td>\n",
       "      <td>Medium</td>\n",
       "      <td>Tier 1</td>\n",
       "      <td>Supermarket Type1</td>\n",
       "      <td>3735.1380</td>\n",
       "    </tr>\n",
       "    <tr>\n",
       "      <th>1</th>\n",
       "      <td>DRC01</td>\n",
       "      <td>5.92</td>\n",
       "      <td>Regular</td>\n",
       "      <td>0.019278</td>\n",
       "      <td>Soft Drinks</td>\n",
       "      <td>48.2692</td>\n",
       "      <td>OUT018</td>\n",
       "      <td>2009</td>\n",
       "      <td>Medium</td>\n",
       "      <td>Tier 3</td>\n",
       "      <td>Supermarket Type2</td>\n",
       "      <td>443.4228</td>\n",
       "    </tr>\n",
       "    <tr>\n",
       "      <th>2</th>\n",
       "      <td>FDN15</td>\n",
       "      <td>17.50</td>\n",
       "      <td>Low Fat</td>\n",
       "      <td>0.016760</td>\n",
       "      <td>Meat</td>\n",
       "      <td>141.6180</td>\n",
       "      <td>OUT049</td>\n",
       "      <td>1999</td>\n",
       "      <td>Medium</td>\n",
       "      <td>Tier 1</td>\n",
       "      <td>Supermarket Type1</td>\n",
       "      <td>2097.2700</td>\n",
       "    </tr>\n",
       "    <tr>\n",
       "      <th>3</th>\n",
       "      <td>FDX07</td>\n",
       "      <td>19.20</td>\n",
       "      <td>Regular</td>\n",
       "      <td>0.000000</td>\n",
       "      <td>Fruits and Vegetables</td>\n",
       "      <td>182.0950</td>\n",
       "      <td>OUT010</td>\n",
       "      <td>1998</td>\n",
       "      <td>NaN</td>\n",
       "      <td>Tier 3</td>\n",
       "      <td>Grocery Store</td>\n",
       "      <td>732.3800</td>\n",
       "    </tr>\n",
       "    <tr>\n",
       "      <th>4</th>\n",
       "      <td>NCD19</td>\n",
       "      <td>8.93</td>\n",
       "      <td>Low Fat</td>\n",
       "      <td>0.000000</td>\n",
       "      <td>Household</td>\n",
       "      <td>53.8614</td>\n",
       "      <td>OUT013</td>\n",
       "      <td>1987</td>\n",
       "      <td>High</td>\n",
       "      <td>Tier 3</td>\n",
       "      <td>Supermarket Type1</td>\n",
       "      <td>994.7052</td>\n",
       "    </tr>\n",
       "  </tbody>\n",
       "</table>\n",
       "</div>"
      ],
      "text/plain": [
       "  Item_Identifier  Item_Weight Item_Fat_Content  Item_Visibility  \\\n",
       "0           FDA15         9.30          Low Fat         0.016047   \n",
       "1           DRC01         5.92          Regular         0.019278   \n",
       "2           FDN15        17.50          Low Fat         0.016760   \n",
       "3           FDX07        19.20          Regular         0.000000   \n",
       "4           NCD19         8.93          Low Fat         0.000000   \n",
       "\n",
       "               Item_Type  Item_MRP Outlet_Identifier  \\\n",
       "0                  Dairy  249.8092            OUT049   \n",
       "1            Soft Drinks   48.2692            OUT018   \n",
       "2                   Meat  141.6180            OUT049   \n",
       "3  Fruits and Vegetables  182.0950            OUT010   \n",
       "4              Household   53.8614            OUT013   \n",
       "\n",
       "   Outlet_Establishment_Year Outlet_Size Outlet_Location_Type  \\\n",
       "0                       1999      Medium               Tier 1   \n",
       "1                       2009      Medium               Tier 3   \n",
       "2                       1999      Medium               Tier 1   \n",
       "3                       1998         NaN               Tier 3   \n",
       "4                       1987        High               Tier 3   \n",
       "\n",
       "         Outlet_Type  Item_Outlet_Sales  \n",
       "0  Supermarket Type1          3735.1380  \n",
       "1  Supermarket Type2           443.4228  \n",
       "2  Supermarket Type1          2097.2700  \n",
       "3      Grocery Store           732.3800  \n",
       "4  Supermarket Type1           994.7052  "
      ]
     },
     "execution_count": 9,
     "metadata": {},
     "output_type": "execute_result"
    }
   ],
   "source": [
    "df.head(5)"
   ]
  },
  {
   "cell_type": "markdown",
   "id": "ed205a9b",
   "metadata": {
    "id": "ed205a9b"
   },
   "source": [
    "will treat the missing values \n",
    "\n",
    "will fill the Item_Weight based on the mean by grouping with the Item_Identifier so that the treatement of missing values will be more efficient\n"
   ]
  },
  {
   "cell_type": "code",
   "execution_count": 10,
   "id": "3cd78ac7",
   "metadata": {
    "colab": {
     "base_uri": "https://localhost:8080/",
     "height": 455
    },
    "id": "3cd78ac7",
    "outputId": "71295d78-f740-48ed-853a-e64f5e96eb9e"
   },
   "outputs": [
    {
     "data": {
      "text/html": [
       "<div>\n",
       "<style scoped>\n",
       "    .dataframe tbody tr th:only-of-type {\n",
       "        vertical-align: middle;\n",
       "    }\n",
       "\n",
       "    .dataframe tbody tr th {\n",
       "        vertical-align: top;\n",
       "    }\n",
       "\n",
       "    .dataframe thead th {\n",
       "        text-align: right;\n",
       "    }\n",
       "</style>\n",
       "<table border=\"1\" class=\"dataframe\">\n",
       "  <thead>\n",
       "    <tr style=\"text-align: right;\">\n",
       "      <th></th>\n",
       "      <th>Item_Weight</th>\n",
       "    </tr>\n",
       "    <tr>\n",
       "      <th>Item_Identifier</th>\n",
       "      <th></th>\n",
       "    </tr>\n",
       "  </thead>\n",
       "  <tbody>\n",
       "    <tr>\n",
       "      <th>DRA12</th>\n",
       "      <td>11.600</td>\n",
       "    </tr>\n",
       "    <tr>\n",
       "      <th>DRA24</th>\n",
       "      <td>19.350</td>\n",
       "    </tr>\n",
       "    <tr>\n",
       "      <th>DRA59</th>\n",
       "      <td>8.270</td>\n",
       "    </tr>\n",
       "    <tr>\n",
       "      <th>DRB01</th>\n",
       "      <td>7.390</td>\n",
       "    </tr>\n",
       "    <tr>\n",
       "      <th>DRB13</th>\n",
       "      <td>6.115</td>\n",
       "    </tr>\n",
       "    <tr>\n",
       "      <th>...</th>\n",
       "      <td>...</td>\n",
       "    </tr>\n",
       "    <tr>\n",
       "      <th>NCZ30</th>\n",
       "      <td>6.590</td>\n",
       "    </tr>\n",
       "    <tr>\n",
       "      <th>NCZ41</th>\n",
       "      <td>19.850</td>\n",
       "    </tr>\n",
       "    <tr>\n",
       "      <th>NCZ42</th>\n",
       "      <td>10.500</td>\n",
       "    </tr>\n",
       "    <tr>\n",
       "      <th>NCZ53</th>\n",
       "      <td>9.600</td>\n",
       "    </tr>\n",
       "    <tr>\n",
       "      <th>NCZ54</th>\n",
       "      <td>14.650</td>\n",
       "    </tr>\n",
       "  </tbody>\n",
       "</table>\n",
       "<p>1559 rows × 1 columns</p>\n",
       "</div>"
      ],
      "text/plain": [
       "                 Item_Weight\n",
       "Item_Identifier             \n",
       "DRA12                 11.600\n",
       "DRA24                 19.350\n",
       "DRA59                  8.270\n",
       "DRB01                  7.390\n",
       "DRB13                  6.115\n",
       "...                      ...\n",
       "NCZ30                  6.590\n",
       "NCZ41                 19.850\n",
       "NCZ42                 10.500\n",
       "NCZ53                  9.600\n",
       "NCZ54                 14.650\n",
       "\n",
       "[1559 rows x 1 columns]"
      ]
     },
     "execution_count": 10,
     "metadata": {},
     "output_type": "execute_result"
    }
   ],
   "source": [
    "grouped_Item_Weight=df.pivot_table(values='Item_Weight',index='Item_Identifier')\n",
    "grouped_Item_Weight"
   ]
  },
  {
   "cell_type": "code",
   "execution_count": 11,
   "id": "cd6e6f6d",
   "metadata": {
    "colab": {
     "base_uri": "https://localhost:8080/"
    },
    "id": "cd6e6f6d",
    "outputId": "87ffea12-19bc-4519-e743-20dc29266b8c"
   },
   "outputs": [
    {
     "data": {
      "text/plain": [
       "Int64Index([   7,   18,   21,   23,   29,   36,   38,   39,   49,   59,\n",
       "            ...\n",
       "            5627, 5634, 5640, 5643, 5648, 5655, 5656, 5661, 5665, 5669],\n",
       "           dtype='int64', length=2439)"
      ]
     },
     "execution_count": 11,
     "metadata": {},
     "output_type": "execute_result"
    }
   ],
   "source": [
    "# now will find the missing data in the Item_Weight column\n",
    "\n",
    "miss_idx=df[df['Item_Weight'].isnull()].index\n",
    "miss_idx"
   ]
  },
  {
   "cell_type": "code",
   "execution_count": 12,
   "id": "365d6d65",
   "metadata": {
    "id": "365d6d65"
   },
   "outputs": [],
   "source": [
    "for i,item in enumerate(df.Item_Identifier):\n",
    "    if i in miss_idx:\n",
    "        if item in grouped_Item_Weight.index:\n",
    "            df['Item_Weight'][i]=grouped_Item_Weight.loc[item]['Item_Weight']\n"
   ]
  },
  {
   "cell_type": "code",
   "execution_count": 13,
   "id": "9e51d5f7",
   "metadata": {
    "colab": {
     "base_uri": "https://localhost:8080/"
    },
    "id": "9e51d5f7",
    "outputId": "b054836d-00ef-47e4-a91b-bddf942252de"
   },
   "outputs": [
    {
     "data": {
      "text/plain": [
       "0"
      ]
     },
     "execution_count": 13,
     "metadata": {},
     "output_type": "execute_result"
    }
   ],
   "source": [
    "df['Item_Weight'].isnull().sum()"
   ]
  },
  {
   "cell_type": "code",
   "execution_count": 14,
   "id": "723cea78",
   "metadata": {
    "colab": {
     "base_uri": "https://localhost:8080/",
     "height": 357
    },
    "id": "723cea78",
    "outputId": "8d439872-a5e6-4bc4-8964-7ca143bb1d0f"
   },
   "outputs": [
    {
     "data": {
      "text/html": [
       "<div>\n",
       "<style scoped>\n",
       "    .dataframe tbody tr th:only-of-type {\n",
       "        vertical-align: middle;\n",
       "    }\n",
       "\n",
       "    .dataframe tbody tr th {\n",
       "        vertical-align: top;\n",
       "    }\n",
       "\n",
       "    .dataframe thead th {\n",
       "        text-align: right;\n",
       "    }\n",
       "</style>\n",
       "<table border=\"1\" class=\"dataframe\">\n",
       "  <thead>\n",
       "    <tr style=\"text-align: right;\">\n",
       "      <th></th>\n",
       "      <th>Item_Identifier</th>\n",
       "      <th>Item_Weight</th>\n",
       "      <th>Item_Fat_Content</th>\n",
       "      <th>Item_Visibility</th>\n",
       "      <th>Item_Type</th>\n",
       "      <th>Item_MRP</th>\n",
       "      <th>Outlet_Identifier</th>\n",
       "      <th>Outlet_Establishment_Year</th>\n",
       "      <th>Outlet_Size</th>\n",
       "      <th>Outlet_Location_Type</th>\n",
       "      <th>Outlet_Type</th>\n",
       "      <th>Item_Outlet_Sales</th>\n",
       "    </tr>\n",
       "  </thead>\n",
       "  <tbody>\n",
       "    <tr>\n",
       "      <th>0</th>\n",
       "      <td>FDA15</td>\n",
       "      <td>9.30</td>\n",
       "      <td>Low Fat</td>\n",
       "      <td>0.016047</td>\n",
       "      <td>Dairy</td>\n",
       "      <td>249.8092</td>\n",
       "      <td>OUT049</td>\n",
       "      <td>1999</td>\n",
       "      <td>Medium</td>\n",
       "      <td>Tier 1</td>\n",
       "      <td>Supermarket Type1</td>\n",
       "      <td>3735.1380</td>\n",
       "    </tr>\n",
       "    <tr>\n",
       "      <th>1</th>\n",
       "      <td>DRC01</td>\n",
       "      <td>5.92</td>\n",
       "      <td>Regular</td>\n",
       "      <td>0.019278</td>\n",
       "      <td>Soft Drinks</td>\n",
       "      <td>48.2692</td>\n",
       "      <td>OUT018</td>\n",
       "      <td>2009</td>\n",
       "      <td>Medium</td>\n",
       "      <td>Tier 3</td>\n",
       "      <td>Supermarket Type2</td>\n",
       "      <td>443.4228</td>\n",
       "    </tr>\n",
       "    <tr>\n",
       "      <th>2</th>\n",
       "      <td>FDN15</td>\n",
       "      <td>17.50</td>\n",
       "      <td>Low Fat</td>\n",
       "      <td>0.016760</td>\n",
       "      <td>Meat</td>\n",
       "      <td>141.6180</td>\n",
       "      <td>OUT049</td>\n",
       "      <td>1999</td>\n",
       "      <td>Medium</td>\n",
       "      <td>Tier 1</td>\n",
       "      <td>Supermarket Type1</td>\n",
       "      <td>2097.2700</td>\n",
       "    </tr>\n",
       "    <tr>\n",
       "      <th>3</th>\n",
       "      <td>FDX07</td>\n",
       "      <td>19.20</td>\n",
       "      <td>Regular</td>\n",
       "      <td>0.000000</td>\n",
       "      <td>Fruits and Vegetables</td>\n",
       "      <td>182.0950</td>\n",
       "      <td>OUT010</td>\n",
       "      <td>1998</td>\n",
       "      <td>NaN</td>\n",
       "      <td>Tier 3</td>\n",
       "      <td>Grocery Store</td>\n",
       "      <td>732.3800</td>\n",
       "    </tr>\n",
       "    <tr>\n",
       "      <th>4</th>\n",
       "      <td>NCD19</td>\n",
       "      <td>8.93</td>\n",
       "      <td>Low Fat</td>\n",
       "      <td>0.000000</td>\n",
       "      <td>Household</td>\n",
       "      <td>53.8614</td>\n",
       "      <td>OUT013</td>\n",
       "      <td>1987</td>\n",
       "      <td>High</td>\n",
       "      <td>Tier 3</td>\n",
       "      <td>Supermarket Type1</td>\n",
       "      <td>994.7052</td>\n",
       "    </tr>\n",
       "  </tbody>\n",
       "</table>\n",
       "</div>"
      ],
      "text/plain": [
       "  Item_Identifier  Item_Weight Item_Fat_Content  Item_Visibility  \\\n",
       "0           FDA15         9.30          Low Fat         0.016047   \n",
       "1           DRC01         5.92          Regular         0.019278   \n",
       "2           FDN15        17.50          Low Fat         0.016760   \n",
       "3           FDX07        19.20          Regular         0.000000   \n",
       "4           NCD19         8.93          Low Fat         0.000000   \n",
       "\n",
       "               Item_Type  Item_MRP Outlet_Identifier  \\\n",
       "0                  Dairy  249.8092            OUT049   \n",
       "1            Soft Drinks   48.2692            OUT018   \n",
       "2                   Meat  141.6180            OUT049   \n",
       "3  Fruits and Vegetables  182.0950            OUT010   \n",
       "4              Household   53.8614            OUT013   \n",
       "\n",
       "   Outlet_Establishment_Year Outlet_Size Outlet_Location_Type  \\\n",
       "0                       1999      Medium               Tier 1   \n",
       "1                       2009      Medium               Tier 3   \n",
       "2                       1999      Medium               Tier 1   \n",
       "3                       1998         NaN               Tier 3   \n",
       "4                       1987        High               Tier 3   \n",
       "\n",
       "         Outlet_Type  Item_Outlet_Sales  \n",
       "0  Supermarket Type1          3735.1380  \n",
       "1  Supermarket Type2           443.4228  \n",
       "2  Supermarket Type1          2097.2700  \n",
       "3      Grocery Store           732.3800  \n",
       "4  Supermarket Type1           994.7052  "
      ]
     },
     "execution_count": 14,
     "metadata": {},
     "output_type": "execute_result"
    }
   ],
   "source": [
    "df.head()"
   ]
  },
  {
   "cell_type": "code",
   "execution_count": 15,
   "id": "a58d3f14",
   "metadata": {
    "colab": {
     "base_uri": "https://localhost:8080/",
     "height": 206
    },
    "id": "a58d3f14",
    "outputId": "aa6af4a0-2728-41ba-c4ca-f9df5878abdd"
   },
   "outputs": [
    {
     "data": {
      "text/html": [
       "<div>\n",
       "<style scoped>\n",
       "    .dataframe tbody tr th:only-of-type {\n",
       "        vertical-align: middle;\n",
       "    }\n",
       "\n",
       "    .dataframe tbody tr th {\n",
       "        vertical-align: top;\n",
       "    }\n",
       "\n",
       "    .dataframe thead th {\n",
       "        text-align: right;\n",
       "    }\n",
       "</style>\n",
       "<table border=\"1\" class=\"dataframe\">\n",
       "  <thead>\n",
       "    <tr style=\"text-align: right;\">\n",
       "      <th></th>\n",
       "      <th>Outlet_Size</th>\n",
       "    </tr>\n",
       "    <tr>\n",
       "      <th>Outlet_Type</th>\n",
       "      <th></th>\n",
       "    </tr>\n",
       "  </thead>\n",
       "  <tbody>\n",
       "    <tr>\n",
       "      <th>Grocery Store</th>\n",
       "      <td>Small</td>\n",
       "    </tr>\n",
       "    <tr>\n",
       "      <th>Supermarket Type1</th>\n",
       "      <td>Small</td>\n",
       "    </tr>\n",
       "    <tr>\n",
       "      <th>Supermarket Type2</th>\n",
       "      <td>Medium</td>\n",
       "    </tr>\n",
       "    <tr>\n",
       "      <th>Supermarket Type3</th>\n",
       "      <td>Medium</td>\n",
       "    </tr>\n",
       "  </tbody>\n",
       "</table>\n",
       "</div>"
      ],
      "text/plain": [
       "                  Outlet_Size\n",
       "Outlet_Type                  \n",
       "Grocery Store           Small\n",
       "Supermarket Type1       Small\n",
       "Supermarket Type2      Medium\n",
       "Supermarket Type3      Medium"
      ]
     },
     "execution_count": 15,
     "metadata": {},
     "output_type": "execute_result"
    }
   ],
   "source": [
    "# now will impute the missing values which are present in the Outlet_Size by taking the mode because its a categorical variable\n",
    "\n",
    "grouped_Outlet_Size=df.pivot_table(values='Outlet_Size',index='Outlet_Type',aggfunc=(lambda x:x.mode()[0]))\n",
    "grouped_Outlet_Size"
   ]
  },
  {
   "cell_type": "code",
   "execution_count": 16,
   "id": "40bec6de",
   "metadata": {
    "colab": {
     "base_uri": "https://localhost:8080/"
    },
    "id": "40bec6de",
    "outputId": "bbdfb832-6839-4416-83dc-063e04947a6e"
   },
   "outputs": [
    {
     "data": {
      "text/plain": [
       "Int64Index([   3,    8,    9,   25,   28,   30,   33,   45,   46,   47,\n",
       "            ...\n",
       "            5647, 5649, 5650, 5652, 5662, 5668, 5670, 5678, 5679, 5680],\n",
       "           dtype='int64', length=4016)"
      ]
     },
     "execution_count": 16,
     "metadata": {},
     "output_type": "execute_result"
    }
   ],
   "source": [
    "miss_idx_Outlet_Size=df[df['Outlet_Size'].isnull()].index\n",
    "miss_idx_Outlet_Size"
   ]
  },
  {
   "cell_type": "code",
   "execution_count": 17,
   "id": "b9a1c92e",
   "metadata": {
    "id": "b9a1c92e"
   },
   "outputs": [],
   "source": [
    "for i,item in enumerate(df.Outlet_Type):\n",
    "    if i in miss_idx_Outlet_Size:\n",
    "        if item in grouped_Outlet_Size.index:\n",
    "            df['Outlet_Size'][i]=grouped_Outlet_Size.loc[item]['Outlet_Size']"
   ]
  },
  {
   "cell_type": "code",
   "execution_count": 18,
   "id": "67b77782",
   "metadata": {
    "colab": {
     "base_uri": "https://localhost:8080/"
    },
    "id": "67b77782",
    "outputId": "ca430f28-e3e8-4eed-c89b-2ca797ecbf0f"
   },
   "outputs": [
    {
     "data": {
      "text/plain": [
       "0"
      ]
     },
     "execution_count": 18,
     "metadata": {},
     "output_type": "execute_result"
    }
   ],
   "source": [
    "df['Outlet_Size'].isnull().sum()"
   ]
  },
  {
   "cell_type": "code",
   "execution_count": 19,
   "id": "83ca1a28",
   "metadata": {
    "id": "83ca1a28"
   },
   "outputs": [],
   "source": [
    "df1=df.copy(deep=True)"
   ]
  },
  {
   "cell_type": "code",
   "execution_count": 20,
   "id": "15afd2a0",
   "metadata": {
    "id": "15afd2a0"
   },
   "outputs": [],
   "source": [
    "df=df1.copy(deep=True)"
   ]
  },
  {
   "cell_type": "code",
   "execution_count": 21,
   "id": "dcc729ba",
   "metadata": {
    "id": "dcc729ba",
    "scrolled": true
   },
   "outputs": [],
   "source": [
    "df=df.reset_index()"
   ]
  },
  {
   "cell_type": "code",
   "execution_count": 22,
   "id": "ffc627be",
   "metadata": {
    "colab": {
     "base_uri": "https://localhost:8080/"
    },
    "id": "ffc627be",
    "outputId": "f3d9da71-479e-491e-bc14-44939215aeaf",
    "scrolled": true
   },
   "outputs": [
    {
     "data": {
      "text/plain": [
       "0.065953"
      ]
     },
     "execution_count": 22,
     "metadata": {},
     "output_type": "execute_result"
    }
   ],
   "source": [
    "# Now we are going to impute the 0 values in Item_Visibility with the mean of it \n",
    "\n",
    "mean_Item_Visibility=round(df['Item_Visibility'].mean(),6)\n",
    "mean_Item_Visibility"
   ]
  },
  {
   "cell_type": "code",
   "execution_count": 23,
   "id": "96d22bd5",
   "metadata": {
    "colab": {
     "base_uri": "https://localhost:8080/"
    },
    "id": "96d22bd5",
    "outputId": "28f6c2e0-b168-4f49-e41e-7e77836c2548"
   },
   "outputs": [
    {
     "data": {
      "text/plain": [
       "Int64Index([    3,     4,     5,    10,    32,    33,    46,    60,    72,\n",
       "               79,\n",
       "            ...\n",
       "            14120, 14126, 14134, 14137, 14158, 14166, 14171, 14177, 14184,\n",
       "            14202],\n",
       "           dtype='int64', length=879)"
      ]
     },
     "execution_count": 23,
     "metadata": {},
     "output_type": "execute_result"
    }
   ],
   "source": [
    "idx=df[df['Item_Visibility']==0].index\n",
    "idx"
   ]
  },
  {
   "cell_type": "code",
   "execution_count": 24,
   "id": "4f567563",
   "metadata": {
    "colab": {
     "base_uri": "https://localhost:8080/"
    },
    "id": "4f567563",
    "outputId": "94a590a0-ca86-4aa6-81f3-c95a32e59bc9",
    "scrolled": true
   },
   "outputs": [
    {
     "data": {
      "text/plain": [
       "(14204, 13)"
      ]
     },
     "execution_count": 24,
     "metadata": {},
     "output_type": "execute_result"
    }
   ],
   "source": [
    "df.shape"
   ]
  },
  {
   "cell_type": "code",
   "execution_count": 25,
   "id": "5d7b7dd5",
   "metadata": {
    "id": "5d7b7dd5",
    "scrolled": true
   },
   "outputs": [],
   "source": [
    "df.iloc[idx,:]=df[df['Item_Visibility']==0].replace({0:mean_Item_Visibility})"
   ]
  },
  {
   "cell_type": "code",
   "execution_count": 26,
   "id": "18104067",
   "metadata": {
    "colab": {
     "base_uri": "https://localhost:8080/",
     "height": 113
    },
    "id": "18104067",
    "outputId": "fef2fa7c-1604-4b32-9389-6cadc3a138e1"
   },
   "outputs": [
    {
     "data": {
      "text/html": [
       "<div>\n",
       "<style scoped>\n",
       "    .dataframe tbody tr th:only-of-type {\n",
       "        vertical-align: middle;\n",
       "    }\n",
       "\n",
       "    .dataframe tbody tr th {\n",
       "        vertical-align: top;\n",
       "    }\n",
       "\n",
       "    .dataframe thead th {\n",
       "        text-align: right;\n",
       "    }\n",
       "</style>\n",
       "<table border=\"1\" class=\"dataframe\">\n",
       "  <thead>\n",
       "    <tr style=\"text-align: right;\">\n",
       "      <th></th>\n",
       "      <th>index</th>\n",
       "      <th>Item_Identifier</th>\n",
       "      <th>Item_Weight</th>\n",
       "      <th>Item_Fat_Content</th>\n",
       "      <th>Item_Visibility</th>\n",
       "      <th>Item_Type</th>\n",
       "      <th>Item_MRP</th>\n",
       "      <th>Outlet_Identifier</th>\n",
       "      <th>Outlet_Establishment_Year</th>\n",
       "      <th>Outlet_Size</th>\n",
       "      <th>Outlet_Location_Type</th>\n",
       "      <th>Outlet_Type</th>\n",
       "      <th>Item_Outlet_Sales</th>\n",
       "    </tr>\n",
       "  </thead>\n",
       "  <tbody>\n",
       "  </tbody>\n",
       "</table>\n",
       "</div>"
      ],
      "text/plain": [
       "Empty DataFrame\n",
       "Columns: [index, Item_Identifier, Item_Weight, Item_Fat_Content, Item_Visibility, Item_Type, Item_MRP, Outlet_Identifier, Outlet_Establishment_Year, Outlet_Size, Outlet_Location_Type, Outlet_Type, Item_Outlet_Sales]\n",
       "Index: []"
      ]
     },
     "execution_count": 26,
     "metadata": {},
     "output_type": "execute_result"
    }
   ],
   "source": [
    "df[df['Item_Visibility']==0]"
   ]
  },
  {
   "cell_type": "code",
   "execution_count": 27,
   "id": "5f6d8034",
   "metadata": {
    "colab": {
     "base_uri": "https://localhost:8080/",
     "height": 357
    },
    "id": "5f6d8034",
    "outputId": "96172357-a4a9-4aee-98c8-a44c757a8417"
   },
   "outputs": [
    {
     "data": {
      "text/html": [
       "<div>\n",
       "<style scoped>\n",
       "    .dataframe tbody tr th:only-of-type {\n",
       "        vertical-align: middle;\n",
       "    }\n",
       "\n",
       "    .dataframe tbody tr th {\n",
       "        vertical-align: top;\n",
       "    }\n",
       "\n",
       "    .dataframe thead th {\n",
       "        text-align: right;\n",
       "    }\n",
       "</style>\n",
       "<table border=\"1\" class=\"dataframe\">\n",
       "  <thead>\n",
       "    <tr style=\"text-align: right;\">\n",
       "      <th></th>\n",
       "      <th>index</th>\n",
       "      <th>Item_Identifier</th>\n",
       "      <th>Item_Weight</th>\n",
       "      <th>Item_Fat_Content</th>\n",
       "      <th>Item_Visibility</th>\n",
       "      <th>Item_Type</th>\n",
       "      <th>Item_MRP</th>\n",
       "      <th>Outlet_Identifier</th>\n",
       "      <th>Outlet_Establishment_Year</th>\n",
       "      <th>Outlet_Size</th>\n",
       "      <th>Outlet_Location_Type</th>\n",
       "      <th>Outlet_Type</th>\n",
       "      <th>Item_Outlet_Sales</th>\n",
       "    </tr>\n",
       "  </thead>\n",
       "  <tbody>\n",
       "    <tr>\n",
       "      <th>0</th>\n",
       "      <td>0</td>\n",
       "      <td>FDA15</td>\n",
       "      <td>9.30</td>\n",
       "      <td>Low Fat</td>\n",
       "      <td>0.016047</td>\n",
       "      <td>Dairy</td>\n",
       "      <td>249.8092</td>\n",
       "      <td>OUT049</td>\n",
       "      <td>1999</td>\n",
       "      <td>Medium</td>\n",
       "      <td>Tier 1</td>\n",
       "      <td>Supermarket Type1</td>\n",
       "      <td>3735.1380</td>\n",
       "    </tr>\n",
       "    <tr>\n",
       "      <th>1</th>\n",
       "      <td>1</td>\n",
       "      <td>DRC01</td>\n",
       "      <td>5.92</td>\n",
       "      <td>Regular</td>\n",
       "      <td>0.019278</td>\n",
       "      <td>Soft Drinks</td>\n",
       "      <td>48.2692</td>\n",
       "      <td>OUT018</td>\n",
       "      <td>2009</td>\n",
       "      <td>Medium</td>\n",
       "      <td>Tier 3</td>\n",
       "      <td>Supermarket Type2</td>\n",
       "      <td>443.4228</td>\n",
       "    </tr>\n",
       "    <tr>\n",
       "      <th>2</th>\n",
       "      <td>2</td>\n",
       "      <td>FDN15</td>\n",
       "      <td>17.50</td>\n",
       "      <td>Low Fat</td>\n",
       "      <td>0.016760</td>\n",
       "      <td>Meat</td>\n",
       "      <td>141.6180</td>\n",
       "      <td>OUT049</td>\n",
       "      <td>1999</td>\n",
       "      <td>Small</td>\n",
       "      <td>Tier 1</td>\n",
       "      <td>Supermarket Type1</td>\n",
       "      <td>2097.2700</td>\n",
       "    </tr>\n",
       "    <tr>\n",
       "      <th>3</th>\n",
       "      <td>3</td>\n",
       "      <td>FDX07</td>\n",
       "      <td>19.20</td>\n",
       "      <td>Regular</td>\n",
       "      <td>0.065953</td>\n",
       "      <td>Fruits and Vegetables</td>\n",
       "      <td>182.0950</td>\n",
       "      <td>OUT010</td>\n",
       "      <td>1998</td>\n",
       "      <td>Small</td>\n",
       "      <td>Tier 3</td>\n",
       "      <td>Grocery Store</td>\n",
       "      <td>732.3800</td>\n",
       "    </tr>\n",
       "    <tr>\n",
       "      <th>4</th>\n",
       "      <td>4</td>\n",
       "      <td>NCD19</td>\n",
       "      <td>8.93</td>\n",
       "      <td>Low Fat</td>\n",
       "      <td>0.065953</td>\n",
       "      <td>Household</td>\n",
       "      <td>53.8614</td>\n",
       "      <td>OUT013</td>\n",
       "      <td>1987</td>\n",
       "      <td>High</td>\n",
       "      <td>Tier 3</td>\n",
       "      <td>Supermarket Type1</td>\n",
       "      <td>994.7052</td>\n",
       "    </tr>\n",
       "  </tbody>\n",
       "</table>\n",
       "</div>"
      ],
      "text/plain": [
       "   index Item_Identifier  Item_Weight Item_Fat_Content  Item_Visibility  \\\n",
       "0      0           FDA15         9.30          Low Fat         0.016047   \n",
       "1      1           DRC01         5.92          Regular         0.019278   \n",
       "2      2           FDN15        17.50          Low Fat         0.016760   \n",
       "3      3           FDX07        19.20          Regular         0.065953   \n",
       "4      4           NCD19         8.93          Low Fat         0.065953   \n",
       "\n",
       "               Item_Type  Item_MRP Outlet_Identifier  \\\n",
       "0                  Dairy  249.8092            OUT049   \n",
       "1            Soft Drinks   48.2692            OUT018   \n",
       "2                   Meat  141.6180            OUT049   \n",
       "3  Fruits and Vegetables  182.0950            OUT010   \n",
       "4              Household   53.8614            OUT013   \n",
       "\n",
       "   Outlet_Establishment_Year Outlet_Size Outlet_Location_Type  \\\n",
       "0                       1999      Medium               Tier 1   \n",
       "1                       2009      Medium               Tier 3   \n",
       "2                       1999       Small               Tier 1   \n",
       "3                       1998       Small               Tier 3   \n",
       "4                       1987        High               Tier 3   \n",
       "\n",
       "         Outlet_Type  Item_Outlet_Sales  \n",
       "0  Supermarket Type1          3735.1380  \n",
       "1  Supermarket Type2           443.4228  \n",
       "2  Supermarket Type1          2097.2700  \n",
       "3      Grocery Store           732.3800  \n",
       "4  Supermarket Type1           994.7052  "
      ]
     },
     "execution_count": 27,
     "metadata": {},
     "output_type": "execute_result"
    }
   ],
   "source": [
    "# now will take only 2 char from the Item_Identifier\n",
    "\n",
    "df.head()"
   ]
  },
  {
   "cell_type": "code",
   "execution_count": 28,
   "id": "5a0f1c14",
   "metadata": {
    "colab": {
     "base_uri": "https://localhost:8080/"
    },
    "id": "5a0f1c14",
    "outputId": "a7080bd9-e761-4bc9-aa29-2218a7ac12af"
   },
   "outputs": [
    {
     "data": {
      "text/plain": [
       "Low Fat    8485\n",
       "Regular    4824\n",
       "LF          522\n",
       "reg         195\n",
       "low fat     178\n",
       "Name: Item_Fat_Content, dtype: int64"
      ]
     },
     "execution_count": 28,
     "metadata": {},
     "output_type": "execute_result"
    }
   ],
   "source": [
    "# will work on the typo error in the Item_Fat_Content\n",
    "\n",
    "df['Item_Fat_Content'].value_counts()"
   ]
  },
  {
   "cell_type": "code",
   "execution_count": 29,
   "id": "d31cfc71",
   "metadata": {
    "id": "d31cfc71"
   },
   "outputs": [],
   "source": [
    "# Now will replace the data accourdingly\n",
    "\n",
    "df['Item_Fat_Content'].replace({'LF':'Low Fat','low fat':'Low Fat','reg':'Regular'},inplace=True)"
   ]
  },
  {
   "cell_type": "code",
   "execution_count": 30,
   "id": "c943c563",
   "metadata": {
    "colab": {
     "base_uri": "https://localhost:8080/"
    },
    "id": "c943c563",
    "outputId": "898ad559-9381-4849-b962-84ec145d27ad"
   },
   "outputs": [
    {
     "data": {
      "text/plain": [
       "Low Fat    9185\n",
       "Regular    5019\n",
       "Name: Item_Fat_Content, dtype: int64"
      ]
     },
     "execution_count": 30,
     "metadata": {},
     "output_type": "execute_result"
    }
   ],
   "source": [
    "df['Item_Fat_Content'].value_counts()"
   ]
  },
  {
   "cell_type": "code",
   "execution_count": 31,
   "id": "d2145294",
   "metadata": {
    "id": "d2145294"
   },
   "outputs": [],
   "source": [
    "df['New_Item_Identifier']=df['Item_Identifier'].apply(lambda x : x[0:2])"
   ]
  },
  {
   "cell_type": "code",
   "execution_count": 32,
   "id": "fcf5077c",
   "metadata": {
    "colab": {
     "base_uri": "https://localhost:8080/"
    },
    "id": "fcf5077c",
    "outputId": "a8555445-7608-4ecf-a817-fdf3de56d71d"
   },
   "outputs": [
    {
     "data": {
      "text/plain": [
       "FD    10201\n",
       "NC     2686\n",
       "DR     1317\n",
       "Name: New_Item_Identifier, dtype: int64"
      ]
     },
     "execution_count": 32,
     "metadata": {},
     "output_type": "execute_result"
    }
   ],
   "source": [
    "df['New_Item_Identifier'].value_counts()"
   ]
  },
  {
   "cell_type": "code",
   "execution_count": 33,
   "id": "kuNZvo47lO2B",
   "metadata": {
    "colab": {
     "base_uri": "https://localhost:8080/"
    },
    "id": "kuNZvo47lO2B",
    "outputId": "5205c7d8-41fb-419c-fbcf-85cb9fc288a8"
   },
   "outputs": [
    {
     "data": {
      "text/plain": [
       "Low Fat    9185\n",
       "Regular    5019\n",
       "Name: Item_Fat_Content, dtype: int64"
      ]
     },
     "execution_count": 33,
     "metadata": {},
     "output_type": "execute_result"
    }
   ],
   "source": [
    "df.Item_Fat_Content.value_counts()"
   ]
  },
  {
   "cell_type": "code",
   "execution_count": 34,
   "id": "67a36e83",
   "metadata": {
    "id": "67a36e83"
   },
   "outputs": [],
   "source": [
    "# Now will replace the data where ever we having the NC in the New_Item_Identifier the Item_Fat_Content should be outers\n",
    "\n",
    "df.loc[df['New_Item_Identifier']=='NC','Item_Fat_Content']='others'"
   ]
  },
  {
   "cell_type": "code",
   "execution_count": 35,
   "id": "c113155d",
   "metadata": {
    "colab": {
     "base_uri": "https://localhost:8080/"
    },
    "id": "c113155d",
    "outputId": "2228ba04-a342-4ff5-d7c4-97ea9fc1c837"
   },
   "outputs": [
    {
     "data": {
      "text/plain": [
       "Low Fat    6499\n",
       "Regular    5019\n",
       "others     2686\n",
       "Name: Item_Fat_Content, dtype: int64"
      ]
     },
     "execution_count": 35,
     "metadata": {},
     "output_type": "execute_result"
    }
   ],
   "source": [
    "df['Item_Fat_Content'].value_counts()"
   ]
  },
  {
   "cell_type": "code",
   "execution_count": 36,
   "id": "6547c516",
   "metadata": {
    "id": "6547c516"
   },
   "outputs": [],
   "source": [
    "# We have collected the data from year 2013 so we are subtracting outlet Estiablishment year with 2013\n",
    "df['age_of_store']=2013-df.Outlet_Establishment_Year"
   ]
  },
  {
   "cell_type": "code",
   "execution_count": 37,
   "id": "ee607f52",
   "metadata": {
    "colab": {
     "base_uri": "https://localhost:8080/",
     "height": 357
    },
    "id": "ee607f52",
    "outputId": "56feb012-309b-4696-fd7e-4092470a3e74"
   },
   "outputs": [
    {
     "data": {
      "text/html": [
       "<div>\n",
       "<style scoped>\n",
       "    .dataframe tbody tr th:only-of-type {\n",
       "        vertical-align: middle;\n",
       "    }\n",
       "\n",
       "    .dataframe tbody tr th {\n",
       "        vertical-align: top;\n",
       "    }\n",
       "\n",
       "    .dataframe thead th {\n",
       "        text-align: right;\n",
       "    }\n",
       "</style>\n",
       "<table border=\"1\" class=\"dataframe\">\n",
       "  <thead>\n",
       "    <tr style=\"text-align: right;\">\n",
       "      <th></th>\n",
       "      <th>index</th>\n",
       "      <th>Item_Identifier</th>\n",
       "      <th>Item_Weight</th>\n",
       "      <th>Item_Fat_Content</th>\n",
       "      <th>Item_Visibility</th>\n",
       "      <th>Item_Type</th>\n",
       "      <th>Item_MRP</th>\n",
       "      <th>Outlet_Identifier</th>\n",
       "      <th>Outlet_Establishment_Year</th>\n",
       "      <th>Outlet_Size</th>\n",
       "      <th>Outlet_Location_Type</th>\n",
       "      <th>Outlet_Type</th>\n",
       "      <th>Item_Outlet_Sales</th>\n",
       "      <th>New_Item_Identifier</th>\n",
       "      <th>age_of_store</th>\n",
       "    </tr>\n",
       "  </thead>\n",
       "  <tbody>\n",
       "    <tr>\n",
       "      <th>0</th>\n",
       "      <td>0</td>\n",
       "      <td>FDA15</td>\n",
       "      <td>9.30</td>\n",
       "      <td>Low Fat</td>\n",
       "      <td>0.016047</td>\n",
       "      <td>Dairy</td>\n",
       "      <td>249.8092</td>\n",
       "      <td>OUT049</td>\n",
       "      <td>1999</td>\n",
       "      <td>Medium</td>\n",
       "      <td>Tier 1</td>\n",
       "      <td>Supermarket Type1</td>\n",
       "      <td>3735.1380</td>\n",
       "      <td>FD</td>\n",
       "      <td>14</td>\n",
       "    </tr>\n",
       "    <tr>\n",
       "      <th>1</th>\n",
       "      <td>1</td>\n",
       "      <td>DRC01</td>\n",
       "      <td>5.92</td>\n",
       "      <td>Regular</td>\n",
       "      <td>0.019278</td>\n",
       "      <td>Soft Drinks</td>\n",
       "      <td>48.2692</td>\n",
       "      <td>OUT018</td>\n",
       "      <td>2009</td>\n",
       "      <td>Medium</td>\n",
       "      <td>Tier 3</td>\n",
       "      <td>Supermarket Type2</td>\n",
       "      <td>443.4228</td>\n",
       "      <td>DR</td>\n",
       "      <td>4</td>\n",
       "    </tr>\n",
       "    <tr>\n",
       "      <th>2</th>\n",
       "      <td>2</td>\n",
       "      <td>FDN15</td>\n",
       "      <td>17.50</td>\n",
       "      <td>Low Fat</td>\n",
       "      <td>0.016760</td>\n",
       "      <td>Meat</td>\n",
       "      <td>141.6180</td>\n",
       "      <td>OUT049</td>\n",
       "      <td>1999</td>\n",
       "      <td>Small</td>\n",
       "      <td>Tier 1</td>\n",
       "      <td>Supermarket Type1</td>\n",
       "      <td>2097.2700</td>\n",
       "      <td>FD</td>\n",
       "      <td>14</td>\n",
       "    </tr>\n",
       "    <tr>\n",
       "      <th>3</th>\n",
       "      <td>3</td>\n",
       "      <td>FDX07</td>\n",
       "      <td>19.20</td>\n",
       "      <td>Regular</td>\n",
       "      <td>0.065953</td>\n",
       "      <td>Fruits and Vegetables</td>\n",
       "      <td>182.0950</td>\n",
       "      <td>OUT010</td>\n",
       "      <td>1998</td>\n",
       "      <td>Small</td>\n",
       "      <td>Tier 3</td>\n",
       "      <td>Grocery Store</td>\n",
       "      <td>732.3800</td>\n",
       "      <td>FD</td>\n",
       "      <td>15</td>\n",
       "    </tr>\n",
       "    <tr>\n",
       "      <th>4</th>\n",
       "      <td>4</td>\n",
       "      <td>NCD19</td>\n",
       "      <td>8.93</td>\n",
       "      <td>others</td>\n",
       "      <td>0.065953</td>\n",
       "      <td>Household</td>\n",
       "      <td>53.8614</td>\n",
       "      <td>OUT013</td>\n",
       "      <td>1987</td>\n",
       "      <td>High</td>\n",
       "      <td>Tier 3</td>\n",
       "      <td>Supermarket Type1</td>\n",
       "      <td>994.7052</td>\n",
       "      <td>NC</td>\n",
       "      <td>26</td>\n",
       "    </tr>\n",
       "  </tbody>\n",
       "</table>\n",
       "</div>"
      ],
      "text/plain": [
       "   index Item_Identifier  Item_Weight Item_Fat_Content  Item_Visibility  \\\n",
       "0      0           FDA15         9.30          Low Fat         0.016047   \n",
       "1      1           DRC01         5.92          Regular         0.019278   \n",
       "2      2           FDN15        17.50          Low Fat         0.016760   \n",
       "3      3           FDX07        19.20          Regular         0.065953   \n",
       "4      4           NCD19         8.93           others         0.065953   \n",
       "\n",
       "               Item_Type  Item_MRP Outlet_Identifier  \\\n",
       "0                  Dairy  249.8092            OUT049   \n",
       "1            Soft Drinks   48.2692            OUT018   \n",
       "2                   Meat  141.6180            OUT049   \n",
       "3  Fruits and Vegetables  182.0950            OUT010   \n",
       "4              Household   53.8614            OUT013   \n",
       "\n",
       "   Outlet_Establishment_Year Outlet_Size Outlet_Location_Type  \\\n",
       "0                       1999      Medium               Tier 1   \n",
       "1                       2009      Medium               Tier 3   \n",
       "2                       1999       Small               Tier 1   \n",
       "3                       1998       Small               Tier 3   \n",
       "4                       1987        High               Tier 3   \n",
       "\n",
       "         Outlet_Type  Item_Outlet_Sales New_Item_Identifier  age_of_store  \n",
       "0  Supermarket Type1          3735.1380                  FD            14  \n",
       "1  Supermarket Type2           443.4228                  DR             4  \n",
       "2  Supermarket Type1          2097.2700                  FD            14  \n",
       "3      Grocery Store           732.3800                  FD            15  \n",
       "4  Supermarket Type1           994.7052                  NC            26  "
      ]
     },
     "execution_count": 37,
     "metadata": {},
     "output_type": "execute_result"
    }
   ],
   "source": [
    "df.head()"
   ]
  },
  {
   "cell_type": "code",
   "execution_count": 38,
   "id": "40ffbea7",
   "metadata": {
    "id": "40ffbea7"
   },
   "outputs": [],
   "source": [
    "df2=df.copy(deep=True)"
   ]
  },
  {
   "cell_type": "code",
   "execution_count": 39,
   "id": "9a697bba",
   "metadata": {
    "id": "9a697bba"
   },
   "outputs": [],
   "source": [
    "df.drop(['index','Item_Identifier','Outlet_Identifier','Outlet_Establishment_Year'],axis=1,inplace=True)"
   ]
  },
  {
   "cell_type": "code",
   "execution_count": 40,
   "id": "eb0bd505",
   "metadata": {
    "colab": {
     "base_uri": "https://localhost:8080/",
     "height": 357
    },
    "id": "eb0bd505",
    "outputId": "108c1897-bb34-472b-958b-882b75812458"
   },
   "outputs": [
    {
     "data": {
      "text/html": [
       "<div>\n",
       "<style scoped>\n",
       "    .dataframe tbody tr th:only-of-type {\n",
       "        vertical-align: middle;\n",
       "    }\n",
       "\n",
       "    .dataframe tbody tr th {\n",
       "        vertical-align: top;\n",
       "    }\n",
       "\n",
       "    .dataframe thead th {\n",
       "        text-align: right;\n",
       "    }\n",
       "</style>\n",
       "<table border=\"1\" class=\"dataframe\">\n",
       "  <thead>\n",
       "    <tr style=\"text-align: right;\">\n",
       "      <th></th>\n",
       "      <th>Item_Weight</th>\n",
       "      <th>Item_Fat_Content</th>\n",
       "      <th>Item_Visibility</th>\n",
       "      <th>Item_Type</th>\n",
       "      <th>Item_MRP</th>\n",
       "      <th>Outlet_Size</th>\n",
       "      <th>Outlet_Location_Type</th>\n",
       "      <th>Outlet_Type</th>\n",
       "      <th>Item_Outlet_Sales</th>\n",
       "      <th>New_Item_Identifier</th>\n",
       "      <th>age_of_store</th>\n",
       "    </tr>\n",
       "  </thead>\n",
       "  <tbody>\n",
       "    <tr>\n",
       "      <th>0</th>\n",
       "      <td>9.30</td>\n",
       "      <td>Low Fat</td>\n",
       "      <td>0.016047</td>\n",
       "      <td>Dairy</td>\n",
       "      <td>249.8092</td>\n",
       "      <td>Medium</td>\n",
       "      <td>Tier 1</td>\n",
       "      <td>Supermarket Type1</td>\n",
       "      <td>3735.1380</td>\n",
       "      <td>FD</td>\n",
       "      <td>14</td>\n",
       "    </tr>\n",
       "    <tr>\n",
       "      <th>1</th>\n",
       "      <td>5.92</td>\n",
       "      <td>Regular</td>\n",
       "      <td>0.019278</td>\n",
       "      <td>Soft Drinks</td>\n",
       "      <td>48.2692</td>\n",
       "      <td>Medium</td>\n",
       "      <td>Tier 3</td>\n",
       "      <td>Supermarket Type2</td>\n",
       "      <td>443.4228</td>\n",
       "      <td>DR</td>\n",
       "      <td>4</td>\n",
       "    </tr>\n",
       "    <tr>\n",
       "      <th>2</th>\n",
       "      <td>17.50</td>\n",
       "      <td>Low Fat</td>\n",
       "      <td>0.016760</td>\n",
       "      <td>Meat</td>\n",
       "      <td>141.6180</td>\n",
       "      <td>Small</td>\n",
       "      <td>Tier 1</td>\n",
       "      <td>Supermarket Type1</td>\n",
       "      <td>2097.2700</td>\n",
       "      <td>FD</td>\n",
       "      <td>14</td>\n",
       "    </tr>\n",
       "    <tr>\n",
       "      <th>3</th>\n",
       "      <td>19.20</td>\n",
       "      <td>Regular</td>\n",
       "      <td>0.065953</td>\n",
       "      <td>Fruits and Vegetables</td>\n",
       "      <td>182.0950</td>\n",
       "      <td>Small</td>\n",
       "      <td>Tier 3</td>\n",
       "      <td>Grocery Store</td>\n",
       "      <td>732.3800</td>\n",
       "      <td>FD</td>\n",
       "      <td>15</td>\n",
       "    </tr>\n",
       "    <tr>\n",
       "      <th>4</th>\n",
       "      <td>8.93</td>\n",
       "      <td>others</td>\n",
       "      <td>0.065953</td>\n",
       "      <td>Household</td>\n",
       "      <td>53.8614</td>\n",
       "      <td>High</td>\n",
       "      <td>Tier 3</td>\n",
       "      <td>Supermarket Type1</td>\n",
       "      <td>994.7052</td>\n",
       "      <td>NC</td>\n",
       "      <td>26</td>\n",
       "    </tr>\n",
       "  </tbody>\n",
       "</table>\n",
       "</div>"
      ],
      "text/plain": [
       "   Item_Weight Item_Fat_Content  Item_Visibility              Item_Type  \\\n",
       "0         9.30          Low Fat         0.016047                  Dairy   \n",
       "1         5.92          Regular         0.019278            Soft Drinks   \n",
       "2        17.50          Low Fat         0.016760                   Meat   \n",
       "3        19.20          Regular         0.065953  Fruits and Vegetables   \n",
       "4         8.93           others         0.065953              Household   \n",
       "\n",
       "   Item_MRP Outlet_Size Outlet_Location_Type        Outlet_Type  \\\n",
       "0  249.8092      Medium               Tier 1  Supermarket Type1   \n",
       "1   48.2692      Medium               Tier 3  Supermarket Type2   \n",
       "2  141.6180       Small               Tier 1  Supermarket Type1   \n",
       "3  182.0950       Small               Tier 3      Grocery Store   \n",
       "4   53.8614        High               Tier 3  Supermarket Type1   \n",
       "\n",
       "   Item_Outlet_Sales New_Item_Identifier  age_of_store  \n",
       "0          3735.1380                  FD            14  \n",
       "1           443.4228                  DR             4  \n",
       "2          2097.2700                  FD            14  \n",
       "3           732.3800                  FD            15  \n",
       "4           994.7052                  NC            26  "
      ]
     },
     "execution_count": 40,
     "metadata": {},
     "output_type": "execute_result"
    }
   ],
   "source": [
    "df.head()"
   ]
  },
  {
   "cell_type": "code",
   "execution_count": 41,
   "id": "76adabfd",
   "metadata": {
    "id": "76adabfd"
   },
   "outputs": [],
   "source": [
    "from sklearn.preprocessing import LabelEncoder"
   ]
  },
  {
   "cell_type": "code",
   "execution_count": 42,
   "id": "3fdc336e",
   "metadata": {
    "id": "3fdc336e"
   },
   "outputs": [],
   "source": [
    "le=LabelEncoder()\n",
    "df['Item_Type']=le.fit_transform(df['Item_Type'])"
   ]
  },
  {
   "cell_type": "code",
   "execution_count": 43,
   "id": "cb7aef53",
   "metadata": {
    "colab": {
     "base_uri": "https://localhost:8080/",
     "height": 357
    },
    "id": "cb7aef53",
    "outputId": "78c6e508-73ab-4859-9dc6-8824048184b3"
   },
   "outputs": [
    {
     "data": {
      "text/html": [
       "<div>\n",
       "<style scoped>\n",
       "    .dataframe tbody tr th:only-of-type {\n",
       "        vertical-align: middle;\n",
       "    }\n",
       "\n",
       "    .dataframe tbody tr th {\n",
       "        vertical-align: top;\n",
       "    }\n",
       "\n",
       "    .dataframe thead th {\n",
       "        text-align: right;\n",
       "    }\n",
       "</style>\n",
       "<table border=\"1\" class=\"dataframe\">\n",
       "  <thead>\n",
       "    <tr style=\"text-align: right;\">\n",
       "      <th></th>\n",
       "      <th>Item_Weight</th>\n",
       "      <th>Item_Fat_Content</th>\n",
       "      <th>Item_Visibility</th>\n",
       "      <th>Item_Type</th>\n",
       "      <th>Item_MRP</th>\n",
       "      <th>Outlet_Size</th>\n",
       "      <th>Outlet_Location_Type</th>\n",
       "      <th>Outlet_Type</th>\n",
       "      <th>Item_Outlet_Sales</th>\n",
       "      <th>New_Item_Identifier</th>\n",
       "      <th>age_of_store</th>\n",
       "    </tr>\n",
       "  </thead>\n",
       "  <tbody>\n",
       "    <tr>\n",
       "      <th>0</th>\n",
       "      <td>9.30</td>\n",
       "      <td>Low Fat</td>\n",
       "      <td>0.016047</td>\n",
       "      <td>4</td>\n",
       "      <td>249.8092</td>\n",
       "      <td>Medium</td>\n",
       "      <td>Tier 1</td>\n",
       "      <td>Supermarket Type1</td>\n",
       "      <td>3735.1380</td>\n",
       "      <td>FD</td>\n",
       "      <td>14</td>\n",
       "    </tr>\n",
       "    <tr>\n",
       "      <th>1</th>\n",
       "      <td>5.92</td>\n",
       "      <td>Regular</td>\n",
       "      <td>0.019278</td>\n",
       "      <td>14</td>\n",
       "      <td>48.2692</td>\n",
       "      <td>Medium</td>\n",
       "      <td>Tier 3</td>\n",
       "      <td>Supermarket Type2</td>\n",
       "      <td>443.4228</td>\n",
       "      <td>DR</td>\n",
       "      <td>4</td>\n",
       "    </tr>\n",
       "    <tr>\n",
       "      <th>2</th>\n",
       "      <td>17.50</td>\n",
       "      <td>Low Fat</td>\n",
       "      <td>0.016760</td>\n",
       "      <td>10</td>\n",
       "      <td>141.6180</td>\n",
       "      <td>Small</td>\n",
       "      <td>Tier 1</td>\n",
       "      <td>Supermarket Type1</td>\n",
       "      <td>2097.2700</td>\n",
       "      <td>FD</td>\n",
       "      <td>14</td>\n",
       "    </tr>\n",
       "    <tr>\n",
       "      <th>3</th>\n",
       "      <td>19.20</td>\n",
       "      <td>Regular</td>\n",
       "      <td>0.065953</td>\n",
       "      <td>6</td>\n",
       "      <td>182.0950</td>\n",
       "      <td>Small</td>\n",
       "      <td>Tier 3</td>\n",
       "      <td>Grocery Store</td>\n",
       "      <td>732.3800</td>\n",
       "      <td>FD</td>\n",
       "      <td>15</td>\n",
       "    </tr>\n",
       "    <tr>\n",
       "      <th>4</th>\n",
       "      <td>8.93</td>\n",
       "      <td>others</td>\n",
       "      <td>0.065953</td>\n",
       "      <td>9</td>\n",
       "      <td>53.8614</td>\n",
       "      <td>High</td>\n",
       "      <td>Tier 3</td>\n",
       "      <td>Supermarket Type1</td>\n",
       "      <td>994.7052</td>\n",
       "      <td>NC</td>\n",
       "      <td>26</td>\n",
       "    </tr>\n",
       "  </tbody>\n",
       "</table>\n",
       "</div>"
      ],
      "text/plain": [
       "   Item_Weight Item_Fat_Content  Item_Visibility  Item_Type  Item_MRP  \\\n",
       "0         9.30          Low Fat         0.016047          4  249.8092   \n",
       "1         5.92          Regular         0.019278         14   48.2692   \n",
       "2        17.50          Low Fat         0.016760         10  141.6180   \n",
       "3        19.20          Regular         0.065953          6  182.0950   \n",
       "4         8.93           others         0.065953          9   53.8614   \n",
       "\n",
       "  Outlet_Size Outlet_Location_Type        Outlet_Type  Item_Outlet_Sales  \\\n",
       "0      Medium               Tier 1  Supermarket Type1          3735.1380   \n",
       "1      Medium               Tier 3  Supermarket Type2           443.4228   \n",
       "2       Small               Tier 1  Supermarket Type1          2097.2700   \n",
       "3       Small               Tier 3      Grocery Store           732.3800   \n",
       "4        High               Tier 3  Supermarket Type1           994.7052   \n",
       "\n",
       "  New_Item_Identifier  age_of_store  \n",
       "0                  FD            14  \n",
       "1                  DR             4  \n",
       "2                  FD            14  \n",
       "3                  FD            15  \n",
       "4                  NC            26  "
      ]
     },
     "execution_count": 43,
     "metadata": {},
     "output_type": "execute_result"
    }
   ],
   "source": [
    "df.head()"
   ]
  },
  {
   "cell_type": "code",
   "execution_count": 44,
   "id": "c65ead37",
   "metadata": {
    "colab": {
     "base_uri": "https://localhost:8080/"
    },
    "id": "c65ead37",
    "outputId": "dd5e3b1f-259c-4018-df17-b2f370c7f397"
   },
   "outputs": [
    {
     "data": {
      "text/plain": [
       "array(['Supermarket Type1', 'Supermarket Type2', 'Grocery Store',\n",
       "       'Supermarket Type3'], dtype=object)"
      ]
     },
     "execution_count": 44,
     "metadata": {},
     "output_type": "execute_result"
    }
   ],
   "source": [
    "df.Outlet_Type.unique()"
   ]
  },
  {
   "cell_type": "code",
   "execution_count": 45,
   "id": "260ee7f9",
   "metadata": {
    "id": "260ee7f9"
   },
   "outputs": [],
   "source": [
    "new_df=pd.get_dummies(columns=['Item_Fat_Content','Outlet_Size','Outlet_Location_Type','Outlet_Type','New_Item_Identifier'],data=df,drop_first=True)"
   ]
  },
  {
   "cell_type": "code",
   "execution_count": 46,
   "id": "6ab182af",
   "metadata": {
    "colab": {
     "base_uri": "https://localhost:8080/",
     "height": 288
    },
    "id": "6ab182af",
    "outputId": "0248b35f-57d1-4962-d183-81b5b6d347e2"
   },
   "outputs": [
    {
     "data": {
      "text/html": [
       "<div>\n",
       "<style scoped>\n",
       "    .dataframe tbody tr th:only-of-type {\n",
       "        vertical-align: middle;\n",
       "    }\n",
       "\n",
       "    .dataframe tbody tr th {\n",
       "        vertical-align: top;\n",
       "    }\n",
       "\n",
       "    .dataframe thead th {\n",
       "        text-align: right;\n",
       "    }\n",
       "</style>\n",
       "<table border=\"1\" class=\"dataframe\">\n",
       "  <thead>\n",
       "    <tr style=\"text-align: right;\">\n",
       "      <th></th>\n",
       "      <th>Item_Weight</th>\n",
       "      <th>Item_Visibility</th>\n",
       "      <th>Item_Type</th>\n",
       "      <th>Item_MRP</th>\n",
       "      <th>Item_Outlet_Sales</th>\n",
       "      <th>age_of_store</th>\n",
       "      <th>Item_Fat_Content_Regular</th>\n",
       "      <th>Item_Fat_Content_others</th>\n",
       "      <th>Outlet_Size_Medium</th>\n",
       "      <th>Outlet_Size_Small</th>\n",
       "      <th>Outlet_Location_Type_Tier 2</th>\n",
       "      <th>Outlet_Location_Type_Tier 3</th>\n",
       "      <th>Outlet_Type_Supermarket Type1</th>\n",
       "      <th>Outlet_Type_Supermarket Type2</th>\n",
       "      <th>Outlet_Type_Supermarket Type3</th>\n",
       "      <th>New_Item_Identifier_FD</th>\n",
       "      <th>New_Item_Identifier_NC</th>\n",
       "    </tr>\n",
       "  </thead>\n",
       "  <tbody>\n",
       "    <tr>\n",
       "      <th>0</th>\n",
       "      <td>9.30</td>\n",
       "      <td>0.016047</td>\n",
       "      <td>4</td>\n",
       "      <td>249.8092</td>\n",
       "      <td>3735.1380</td>\n",
       "      <td>14</td>\n",
       "      <td>0</td>\n",
       "      <td>0</td>\n",
       "      <td>1</td>\n",
       "      <td>0</td>\n",
       "      <td>0</td>\n",
       "      <td>0</td>\n",
       "      <td>1</td>\n",
       "      <td>0</td>\n",
       "      <td>0</td>\n",
       "      <td>1</td>\n",
       "      <td>0</td>\n",
       "    </tr>\n",
       "    <tr>\n",
       "      <th>1</th>\n",
       "      <td>5.92</td>\n",
       "      <td>0.019278</td>\n",
       "      <td>14</td>\n",
       "      <td>48.2692</td>\n",
       "      <td>443.4228</td>\n",
       "      <td>4</td>\n",
       "      <td>1</td>\n",
       "      <td>0</td>\n",
       "      <td>1</td>\n",
       "      <td>0</td>\n",
       "      <td>0</td>\n",
       "      <td>1</td>\n",
       "      <td>0</td>\n",
       "      <td>1</td>\n",
       "      <td>0</td>\n",
       "      <td>0</td>\n",
       "      <td>0</td>\n",
       "    </tr>\n",
       "    <tr>\n",
       "      <th>2</th>\n",
       "      <td>17.50</td>\n",
       "      <td>0.016760</td>\n",
       "      <td>10</td>\n",
       "      <td>141.6180</td>\n",
       "      <td>2097.2700</td>\n",
       "      <td>14</td>\n",
       "      <td>0</td>\n",
       "      <td>0</td>\n",
       "      <td>0</td>\n",
       "      <td>1</td>\n",
       "      <td>0</td>\n",
       "      <td>0</td>\n",
       "      <td>1</td>\n",
       "      <td>0</td>\n",
       "      <td>0</td>\n",
       "      <td>1</td>\n",
       "      <td>0</td>\n",
       "    </tr>\n",
       "    <tr>\n",
       "      <th>3</th>\n",
       "      <td>19.20</td>\n",
       "      <td>0.065953</td>\n",
       "      <td>6</td>\n",
       "      <td>182.0950</td>\n",
       "      <td>732.3800</td>\n",
       "      <td>15</td>\n",
       "      <td>1</td>\n",
       "      <td>0</td>\n",
       "      <td>0</td>\n",
       "      <td>1</td>\n",
       "      <td>0</td>\n",
       "      <td>1</td>\n",
       "      <td>0</td>\n",
       "      <td>0</td>\n",
       "      <td>0</td>\n",
       "      <td>1</td>\n",
       "      <td>0</td>\n",
       "    </tr>\n",
       "    <tr>\n",
       "      <th>4</th>\n",
       "      <td>8.93</td>\n",
       "      <td>0.065953</td>\n",
       "      <td>9</td>\n",
       "      <td>53.8614</td>\n",
       "      <td>994.7052</td>\n",
       "      <td>26</td>\n",
       "      <td>0</td>\n",
       "      <td>1</td>\n",
       "      <td>0</td>\n",
       "      <td>0</td>\n",
       "      <td>0</td>\n",
       "      <td>1</td>\n",
       "      <td>1</td>\n",
       "      <td>0</td>\n",
       "      <td>0</td>\n",
       "      <td>0</td>\n",
       "      <td>1</td>\n",
       "    </tr>\n",
       "  </tbody>\n",
       "</table>\n",
       "</div>"
      ],
      "text/plain": [
       "   Item_Weight  Item_Visibility  Item_Type  Item_MRP  Item_Outlet_Sales  \\\n",
       "0         9.30         0.016047          4  249.8092          3735.1380   \n",
       "1         5.92         0.019278         14   48.2692           443.4228   \n",
       "2        17.50         0.016760         10  141.6180          2097.2700   \n",
       "3        19.20         0.065953          6  182.0950           732.3800   \n",
       "4         8.93         0.065953          9   53.8614           994.7052   \n",
       "\n",
       "   age_of_store  Item_Fat_Content_Regular  Item_Fat_Content_others  \\\n",
       "0            14                         0                        0   \n",
       "1             4                         1                        0   \n",
       "2            14                         0                        0   \n",
       "3            15                         1                        0   \n",
       "4            26                         0                        1   \n",
       "\n",
       "   Outlet_Size_Medium  Outlet_Size_Small  Outlet_Location_Type_Tier 2  \\\n",
       "0                   1                  0                            0   \n",
       "1                   1                  0                            0   \n",
       "2                   0                  1                            0   \n",
       "3                   0                  1                            0   \n",
       "4                   0                  0                            0   \n",
       "\n",
       "   Outlet_Location_Type_Tier 3  Outlet_Type_Supermarket Type1  \\\n",
       "0                            0                              1   \n",
       "1                            1                              0   \n",
       "2                            0                              1   \n",
       "3                            1                              0   \n",
       "4                            1                              1   \n",
       "\n",
       "   Outlet_Type_Supermarket Type2  Outlet_Type_Supermarket Type3  \\\n",
       "0                              0                              0   \n",
       "1                              1                              0   \n",
       "2                              0                              0   \n",
       "3                              0                              0   \n",
       "4                              0                              0   \n",
       "\n",
       "   New_Item_Identifier_FD  New_Item_Identifier_NC  \n",
       "0                       1                       0  \n",
       "1                       0                       0  \n",
       "2                       1                       0  \n",
       "3                       1                       0  \n",
       "4                       0                       1  "
      ]
     },
     "execution_count": 46,
     "metadata": {},
     "output_type": "execute_result"
    }
   ],
   "source": [
    "new_df.head()"
   ]
  },
  {
   "cell_type": "code",
   "execution_count": 47,
   "id": "39919368",
   "metadata": {
    "colab": {
     "base_uri": "https://localhost:8080/"
    },
    "id": "39919368",
    "outputId": "8d65be7b-9782-453a-9170-30654fe48d96"
   },
   "outputs": [
    {
     "data": {
      "text/plain": [
       "(8523, 12)"
      ]
     },
     "execution_count": 47,
     "metadata": {},
     "output_type": "execute_result"
    }
   ],
   "source": [
    "train.shape"
   ]
  },
  {
   "cell_type": "code",
   "execution_count": 48,
   "id": "395a53c3",
   "metadata": {
    "colab": {
     "base_uri": "https://localhost:8080/"
    },
    "id": "395a53c3",
    "outputId": "8ee20425-9c4a-44d4-cfe2-6debcd5d8f4d"
   },
   "outputs": [
    {
     "data": {
      "text/plain": [
       "(5681, 11)"
      ]
     },
     "execution_count": 48,
     "metadata": {},
     "output_type": "execute_result"
    }
   ],
   "source": [
    "\n",
    "test.shape"
   ]
  },
  {
   "cell_type": "code",
   "execution_count": 49,
   "id": "8a882319",
   "metadata": {
    "id": "8a882319"
   },
   "outputs": [],
   "source": [
    "# will split the data to train and test\n",
    "\n",
    "result_test=new_df[new_df['Item_Outlet_Sales'].isnull()]\n",
    "result_train=new_df[~new_df['Item_Outlet_Sales'].isnull()]"
   ]
  },
  {
   "cell_type": "code",
   "execution_count": 50,
   "id": "2b65c3c3",
   "metadata": {
    "colab": {
     "base_uri": "https://localhost:8080/"
    },
    "id": "2b65c3c3",
    "outputId": "2233be45-9ac2-4d71-fc60-50c23c0b41c5"
   },
   "outputs": [
    {
     "name": "stdout",
     "output_type": "stream",
     "text": [
      "(8523, 17) (5681, 17)\n"
     ]
    }
   ],
   "source": [
    "print(result_train.shape,result_test.shape)"
   ]
  },
  {
   "cell_type": "code",
   "execution_count": 51,
   "id": "f95ed3bf",
   "metadata": {
    "id": "f95ed3bf"
   },
   "outputs": [],
   "source": [
    "X=result_train.drop('Item_Outlet_Sales',axis=1)\n",
    "y=result_train['Item_Outlet_Sales']"
   ]
  },
  {
   "cell_type": "code",
   "execution_count": 52,
   "id": "32a03ca0",
   "metadata": {
    "id": "32a03ca0"
   },
   "outputs": [],
   "source": [
    "from sklearn.model_selection import train_test_split"
   ]
  },
  {
   "cell_type": "code",
   "execution_count": 53,
   "id": "3e1336d2",
   "metadata": {
    "id": "3e1336d2"
   },
   "outputs": [],
   "source": [
    "X_train,X_test,y_train,y_test=train_test_split(X,y,test_size=0.2,random_state=42)"
   ]
  },
  {
   "cell_type": "code",
   "execution_count": 54,
   "id": "f13e10a1",
   "metadata": {
    "id": "f13e10a1"
   },
   "outputs": [],
   "source": [
    "from sklearn.linear_model import LinearRegression\n",
    "from sklearn.metrics import mean_squared_error,r2_score"
   ]
  },
  {
   "cell_type": "code",
   "execution_count": 55,
   "id": "0d4d7de8",
   "metadata": {
    "id": "0d4d7de8"
   },
   "outputs": [],
   "source": [
    "model1=LinearRegression()\n",
    "model1.fit(X_train,y_train)\n",
    "y_train_pred=model1.predict(X_train)\n",
    "y_test_pred=model1.predict(X_test)"
   ]
  },
  {
   "cell_type": "code",
   "execution_count": 56,
   "id": "3b52da5c",
   "metadata": {
    "colab": {
     "base_uri": "https://localhost:8080/"
    },
    "id": "3b52da5c",
    "outputId": "b9686ce7-ce94-4476-ed28-c5bef576ec4e"
   },
   "outputs": [
    {
     "name": "stdout",
     "output_type": "stream",
     "text": [
      "MSE_train = 1306659.0989638148\n",
      "MSE_test = 1143526.632615532\n",
      "RMSE_train = 1143.091903113575\n",
      "RMSE_test = 1069.358046968148\n"
     ]
    }
   ],
   "source": [
    "MSE_train= mean_squared_error(y_train,y_train_pred)\n",
    "MSE_test= mean_squared_error(y_test,y_test_pred)\n",
    "print('MSE_train =',MSE_train)\n",
    "print('MSE_test =',MSE_test)\n",
    "RMSE_train=np.sqrt(MSE_train)\n",
    "RMSE_test=np.sqrt(MSE_test)\n",
    "print('RMSE_train =',RMSE_train)\n",
    "print('RMSE_test =',RMSE_test)"
   ]
  },
  {
   "cell_type": "code",
   "execution_count": 57,
   "id": "33d8d9fa",
   "metadata": {
    "colab": {
     "base_uri": "https://localhost:8080/"
    },
    "id": "33d8d9fa",
    "outputId": "1ea1353a-eaf0-452a-b602-2122b38ca62b"
   },
   "outputs": [
    {
     "name": "stdout",
     "output_type": "stream",
     "text": [
      "r2_score_train = 0.5582701459538081\n",
      "r2_score_test = 0.5792718077874299\n"
     ]
    }
   ],
   "source": [
    "r2_score_train=r2_score(y_train,y_train_pred)\n",
    "r2_score_test=r2_score(y_test,y_test_pred)\n",
    "print('r2_score_train =',r2_score_train)\n",
    "print('r2_score_test =',r2_score_test)"
   ]
  },
  {
   "cell_type": "code",
   "execution_count": 58,
   "id": "d0f43e06",
   "metadata": {
    "colab": {
     "base_uri": "https://localhost:8080/",
     "height": 288
    },
    "id": "d0f43e06",
    "outputId": "43c554c5-7652-4cf8-eace-2548c3d43108"
   },
   "outputs": [
    {
     "data": {
      "text/html": [
       "<div>\n",
       "<style scoped>\n",
       "    .dataframe tbody tr th:only-of-type {\n",
       "        vertical-align: middle;\n",
       "    }\n",
       "\n",
       "    .dataframe tbody tr th {\n",
       "        vertical-align: top;\n",
       "    }\n",
       "\n",
       "    .dataframe thead th {\n",
       "        text-align: right;\n",
       "    }\n",
       "</style>\n",
       "<table border=\"1\" class=\"dataframe\">\n",
       "  <thead>\n",
       "    <tr style=\"text-align: right;\">\n",
       "      <th></th>\n",
       "      <th>Item_Weight</th>\n",
       "      <th>Item_Visibility</th>\n",
       "      <th>Item_Type</th>\n",
       "      <th>Item_MRP</th>\n",
       "      <th>Item_Outlet_Sales</th>\n",
       "      <th>age_of_store</th>\n",
       "      <th>Item_Fat_Content_Regular</th>\n",
       "      <th>Item_Fat_Content_others</th>\n",
       "      <th>Outlet_Size_Medium</th>\n",
       "      <th>Outlet_Size_Small</th>\n",
       "      <th>Outlet_Location_Type_Tier 2</th>\n",
       "      <th>Outlet_Location_Type_Tier 3</th>\n",
       "      <th>Outlet_Type_Supermarket Type1</th>\n",
       "      <th>Outlet_Type_Supermarket Type2</th>\n",
       "      <th>Outlet_Type_Supermarket Type3</th>\n",
       "      <th>New_Item_Identifier_FD</th>\n",
       "      <th>New_Item_Identifier_NC</th>\n",
       "    </tr>\n",
       "  </thead>\n",
       "  <tbody>\n",
       "    <tr>\n",
       "      <th>0</th>\n",
       "      <td>9.30</td>\n",
       "      <td>0.016047</td>\n",
       "      <td>4</td>\n",
       "      <td>249.8092</td>\n",
       "      <td>3735.1380</td>\n",
       "      <td>14</td>\n",
       "      <td>0</td>\n",
       "      <td>0</td>\n",
       "      <td>1</td>\n",
       "      <td>0</td>\n",
       "      <td>0</td>\n",
       "      <td>0</td>\n",
       "      <td>1</td>\n",
       "      <td>0</td>\n",
       "      <td>0</td>\n",
       "      <td>1</td>\n",
       "      <td>0</td>\n",
       "    </tr>\n",
       "    <tr>\n",
       "      <th>1</th>\n",
       "      <td>5.92</td>\n",
       "      <td>0.019278</td>\n",
       "      <td>14</td>\n",
       "      <td>48.2692</td>\n",
       "      <td>443.4228</td>\n",
       "      <td>4</td>\n",
       "      <td>1</td>\n",
       "      <td>0</td>\n",
       "      <td>1</td>\n",
       "      <td>0</td>\n",
       "      <td>0</td>\n",
       "      <td>1</td>\n",
       "      <td>0</td>\n",
       "      <td>1</td>\n",
       "      <td>0</td>\n",
       "      <td>0</td>\n",
       "      <td>0</td>\n",
       "    </tr>\n",
       "    <tr>\n",
       "      <th>2</th>\n",
       "      <td>17.50</td>\n",
       "      <td>0.016760</td>\n",
       "      <td>10</td>\n",
       "      <td>141.6180</td>\n",
       "      <td>2097.2700</td>\n",
       "      <td>14</td>\n",
       "      <td>0</td>\n",
       "      <td>0</td>\n",
       "      <td>0</td>\n",
       "      <td>1</td>\n",
       "      <td>0</td>\n",
       "      <td>0</td>\n",
       "      <td>1</td>\n",
       "      <td>0</td>\n",
       "      <td>0</td>\n",
       "      <td>1</td>\n",
       "      <td>0</td>\n",
       "    </tr>\n",
       "    <tr>\n",
       "      <th>3</th>\n",
       "      <td>19.20</td>\n",
       "      <td>0.065953</td>\n",
       "      <td>6</td>\n",
       "      <td>182.0950</td>\n",
       "      <td>732.3800</td>\n",
       "      <td>15</td>\n",
       "      <td>1</td>\n",
       "      <td>0</td>\n",
       "      <td>0</td>\n",
       "      <td>1</td>\n",
       "      <td>0</td>\n",
       "      <td>1</td>\n",
       "      <td>0</td>\n",
       "      <td>0</td>\n",
       "      <td>0</td>\n",
       "      <td>1</td>\n",
       "      <td>0</td>\n",
       "    </tr>\n",
       "    <tr>\n",
       "      <th>4</th>\n",
       "      <td>8.93</td>\n",
       "      <td>0.065953</td>\n",
       "      <td>9</td>\n",
       "      <td>53.8614</td>\n",
       "      <td>994.7052</td>\n",
       "      <td>26</td>\n",
       "      <td>0</td>\n",
       "      <td>1</td>\n",
       "      <td>0</td>\n",
       "      <td>0</td>\n",
       "      <td>0</td>\n",
       "      <td>1</td>\n",
       "      <td>1</td>\n",
       "      <td>0</td>\n",
       "      <td>0</td>\n",
       "      <td>0</td>\n",
       "      <td>1</td>\n",
       "    </tr>\n",
       "  </tbody>\n",
       "</table>\n",
       "</div>"
      ],
      "text/plain": [
       "   Item_Weight  Item_Visibility  Item_Type  Item_MRP  Item_Outlet_Sales  \\\n",
       "0         9.30         0.016047          4  249.8092          3735.1380   \n",
       "1         5.92         0.019278         14   48.2692           443.4228   \n",
       "2        17.50         0.016760         10  141.6180          2097.2700   \n",
       "3        19.20         0.065953          6  182.0950           732.3800   \n",
       "4         8.93         0.065953          9   53.8614           994.7052   \n",
       "\n",
       "   age_of_store  Item_Fat_Content_Regular  Item_Fat_Content_others  \\\n",
       "0            14                         0                        0   \n",
       "1             4                         1                        0   \n",
       "2            14                         0                        0   \n",
       "3            15                         1                        0   \n",
       "4            26                         0                        1   \n",
       "\n",
       "   Outlet_Size_Medium  Outlet_Size_Small  Outlet_Location_Type_Tier 2  \\\n",
       "0                   1                  0                            0   \n",
       "1                   1                  0                            0   \n",
       "2                   0                  1                            0   \n",
       "3                   0                  1                            0   \n",
       "4                   0                  0                            0   \n",
       "\n",
       "   Outlet_Location_Type_Tier 3  Outlet_Type_Supermarket Type1  \\\n",
       "0                            0                              1   \n",
       "1                            1                              0   \n",
       "2                            0                              1   \n",
       "3                            1                              0   \n",
       "4                            1                              1   \n",
       "\n",
       "   Outlet_Type_Supermarket Type2  Outlet_Type_Supermarket Type3  \\\n",
       "0                              0                              0   \n",
       "1                              1                              0   \n",
       "2                              0                              0   \n",
       "3                              0                              0   \n",
       "4                              0                              0   \n",
       "\n",
       "   New_Item_Identifier_FD  New_Item_Identifier_NC  \n",
       "0                       1                       0  \n",
       "1                       0                       0  \n",
       "2                       1                       0  \n",
       "3                       1                       0  \n",
       "4                       0                       1  "
      ]
     },
     "execution_count": 58,
     "metadata": {},
     "output_type": "execute_result"
    }
   ],
   "source": [
    "new_df.head()"
   ]
  },
  {
   "cell_type": "code",
   "execution_count": 59,
   "id": "3ebb8b3b",
   "metadata": {
    "colab": {
     "base_uri": "https://localhost:8080/",
     "height": 297
    },
    "id": "3ebb8b3b",
    "outputId": "34a8179d-20cf-4e88-c331-3da56965506a"
   },
   "outputs": [
    {
     "data": {
      "text/plain": [
       "<Axes: xlabel='Item_Outlet_Sales', ylabel='Density'>"
      ]
     },
     "execution_count": 59,
     "metadata": {},
     "output_type": "execute_result"
    },
    {
     "data": {
      "image/png": "[encoded data removed]",
      "text/plain": [
       "<Figure size 640x480 with 1 Axes>"
      ]
     },
     "metadata": {},
     "output_type": "display_data"
    }
   ],
   "source": [
    "sns.distplot(new_df.Item_Outlet_Sales)"
   ]
  },
  {
   "cell_type": "code",
   "execution_count": 60,
   "id": "35038b6c",
   "metadata": {
    "colab": {
     "base_uri": "https://localhost:8080/",
     "height": 297
    },
    "id": "35038b6c",
    "outputId": "d99a0740-dc5e-4df4-a5b5-59146e059e93"
   },
   "outputs": [
    {
     "data": {
      "text/plain": [
       "<Axes: xlabel='Item_Outlet_Sales', ylabel='Density'>"
      ]
     },
     "execution_count": 60,
     "metadata": {},
     "output_type": "execute_result"
    },
    {
     "data": {
      "image/png": "[encoded data removed]",
      "text/plain": [
       "<Figure size 640x480 with 1 Axes>"
      ]
     },
     "metadata": {},
     "output_type": "display_data"
    }
   ],
   "source": [
    "sns.distplot(new_df.Item_Outlet_Sales**(1/2))     # square root transformation "
   ]
  },
  {
   "cell_type": "code",
   "execution_count": 61,
   "id": "57716ac8",
   "metadata": {
    "id": "57716ac8"
   },
   "outputs": [],
   "source": [
    "y=result_train.Item_Outlet_Sales**(1/2)"
   ]
  },
  {
   "cell_type": "code",
   "execution_count": 62,
   "id": "640b6a68",
   "metadata": {
    "id": "640b6a68"
   },
   "outputs": [],
   "source": [
    "X_train,X_test,y_train,y_test=train_test_split(X,y,test_size=0.3,random_state=0)"
   ]
  },
  {
   "cell_type": "code",
   "execution_count": 63,
   "id": "e4a0db4b",
   "metadata": {
    "colab": {
     "base_uri": "https://localhost:8080/"
    },
    "id": "e4a0db4b",
    "outputId": "c1e75043-dfd8-43e7-e226-b2e501082fa2"
   },
   "outputs": [
    {
     "name": "stdout",
     "output_type": "stream",
     "text": [
      "MSE_train = 113.47750250754535\n",
      "MSE_test = 122.49879322988718\n",
      "RMSE_train = 10.65258196436645\n",
      "RMSE_test = 11.067917294138368\n",
      "r2_score_train = 0.657727455354724\n",
      "r2_score_test = 0.6497831666281407\n"
     ]
    }
   ],
   "source": [
    "model2=LinearRegression()\n",
    "model2.fit(X_train,y_train)\n",
    "y_train_pred=model2.predict(X_train)\n",
    "y_test_pred=model2.predict(X_test)\n",
    "MSE_train= mean_squared_error(y_train,y_train_pred)\n",
    "MSE_test= mean_squared_error(y_test,y_test_pred)\n",
    "print('MSE_train =',MSE_train)\n",
    "print('MSE_test =',MSE_test)\n",
    "RMSE_train=np.sqrt(MSE_train)\n",
    "RMSE_test=np.sqrt(MSE_test)\n",
    "print('RMSE_train =',RMSE_train)\n",
    "print('RMSE_test =',RMSE_test)\n",
    "r2_score_train=r2_score(y_train,y_train_pred)\n",
    "r2_score_test=r2_score(y_test,y_test_pred)\n",
    "print('r2_score_train =',r2_score_train)\n",
    "print('r2_score_test =',r2_score_test)"
   ]
  },
  {
   "cell_type": "code",
   "execution_count": 64,
   "id": "ebf94d62",
   "metadata": {
    "colab": {
     "base_uri": "https://localhost:8080/"
    },
    "id": "ebf94d62",
    "outputId": "341b842b-fbf2-4c26-db34-637c1c5e49b3"
   },
   "outputs": [
    {
     "name": "stdout",
     "output_type": "stream",
     "text": [
      "MSE_train = 16.826965471868647\n",
      "MSE_test = 129.03540966122634\n",
      "RMSE_train = 4.1020684382234105\n",
      "RMSE_test = 11.359375408059474\n",
      "r2_score_train = 0.9492462544253498\n",
      "r2_score_test = 0.6310953653266701\n"
     ]
    }
   ],
   "source": [
    "from sklearn.ensemble import RandomForestRegressor\n",
    "\n",
    "model3=RandomForestRegressor()\n",
    "model3.fit(X_train,y_train)\n",
    "y_train_pred=model3.predict(X_train)\n",
    "y_test_pred=model3.predict(X_test)\n",
    "MSE_train= mean_squared_error(y_train,y_train_pred)\n",
    "MSE_test= mean_squared_error(y_test,y_test_pred)\n",
    "print('MSE_train =',MSE_train)\n",
    "print('MSE_test =',MSE_test)\n",
    "RMSE_train=np.sqrt(MSE_train)\n",
    "RMSE_test=np.sqrt(MSE_test)\n",
    "print('RMSE_train =',RMSE_train)\n",
    "print('RMSE_test =',RMSE_test)\n",
    "r2_score_train=r2_score(y_train,y_train_pred)\n",
    "r2_score_test=r2_score(y_test,y_test_pred)\n",
    "print('r2_score_train =',r2_score_train)\n",
    "print('r2_score_test =',r2_score_test)"
   ]
  },
  {
   "cell_type": "code",
   "execution_count": 65,
   "id": "aeabddc9",
   "metadata": {
    "colab": {
     "base_uri": "https://localhost:8080/"
    },
    "id": "aeabddc9",
    "outputId": "6b5f7d32-c201-4b00-b7f3-b8afb58daa1a"
   },
   "outputs": [
    {
     "name": "stdout",
     "output_type": "stream",
     "text": [
      "MSE_train = 85.78108248510956\n",
      "MSE_test = 118.19235814739797\n",
      "RMSE_train = 9.261807733110722\n",
      "RMSE_test = 10.871630887194339\n",
      "r2_score_train = 0.7412658127310079\n",
      "r2_score_test = 0.6620950108344793\n"
     ]
    }
   ],
   "source": [
    "model4=RandomForestRegressor(criterion='squared_error',max_depth=8,max_features='auto',n_estimators=500)\n",
    "\n",
    "\n",
    "model4.fit(X_train,y_train)\n",
    "y_train_pred=model4.predict(X_train)\n",
    "y_test_pred=model4.predict(X_test)\n",
    "MSE_train= mean_squared_error(y_train,y_train_pred)\n",
    "MSE_test= mean_squared_error(y_test,y_test_pred)\n",
    "print('MSE_train =',MSE_train)\n",
    "print('MSE_test =',MSE_test)\n",
    "RMSE_train=np.sqrt(MSE_train)\n",
    "RMSE_test=np.sqrt(MSE_test)\n",
    "print('RMSE_train =',RMSE_train)\n",
    "print('RMSE_test =',RMSE_test)\n",
    "r2_score_train=r2_score(y_train,y_train_pred)\n",
    "r2_score_test=r2_score(y_test,y_test_pred)\n",
    "print('r2_score_train =',r2_score_train)\n",
    "print('r2_score_test =',r2_score_test)"
   ]
  },
  {
   "cell_type": "code",
   "execution_count": null,
   "id": "a91d4728",
   "metadata": {
    "id": "a91d4728"
   },
   "outputs": [],
   "source": []
  },
  {
   "cell_type": "code",
   "execution_count": 66,
   "id": "6b086611",
   "metadata": {
    "colab": {
     "base_uri": "https://localhost:8080/",
     "height": 288
    },
    "id": "6b086611",
    "outputId": "322e0edc-478c-4d0b-b2f0-8133fe6ad5a6"
   },
   "outputs": [
    {
     "data": {
      "text/html": [
       "<div>\n",
       "<style scoped>\n",
       "    .dataframe tbody tr th:only-of-type {\n",
       "        vertical-align: middle;\n",
       "    }\n",
       "\n",
       "    .dataframe tbody tr th {\n",
       "        vertical-align: top;\n",
       "    }\n",
       "\n",
       "    .dataframe thead th {\n",
       "        text-align: right;\n",
       "    }\n",
       "</style>\n",
       "<table border=\"1\" class=\"dataframe\">\n",
       "  <thead>\n",
       "    <tr style=\"text-align: right;\">\n",
       "      <th></th>\n",
       "      <th>Item_Weight</th>\n",
       "      <th>Item_Visibility</th>\n",
       "      <th>Item_Type</th>\n",
       "      <th>Item_MRP</th>\n",
       "      <th>Item_Outlet_Sales</th>\n",
       "      <th>age_of_store</th>\n",
       "      <th>Item_Fat_Content_Regular</th>\n",
       "      <th>Item_Fat_Content_others</th>\n",
       "      <th>Outlet_Size_Medium</th>\n",
       "      <th>Outlet_Size_Small</th>\n",
       "      <th>Outlet_Location_Type_Tier 2</th>\n",
       "      <th>Outlet_Location_Type_Tier 3</th>\n",
       "      <th>Outlet_Type_Supermarket Type1</th>\n",
       "      <th>Outlet_Type_Supermarket Type2</th>\n",
       "      <th>Outlet_Type_Supermarket Type3</th>\n",
       "      <th>New_Item_Identifier_FD</th>\n",
       "      <th>New_Item_Identifier_NC</th>\n",
       "    </tr>\n",
       "  </thead>\n",
       "  <tbody>\n",
       "    <tr>\n",
       "      <th>0</th>\n",
       "      <td>9.30</td>\n",
       "      <td>0.016047</td>\n",
       "      <td>4</td>\n",
       "      <td>249.8092</td>\n",
       "      <td>3735.1380</td>\n",
       "      <td>14</td>\n",
       "      <td>0</td>\n",
       "      <td>0</td>\n",
       "      <td>1</td>\n",
       "      <td>0</td>\n",
       "      <td>0</td>\n",
       "      <td>0</td>\n",
       "      <td>1</td>\n",
       "      <td>0</td>\n",
       "      <td>0</td>\n",
       "      <td>1</td>\n",
       "      <td>0</td>\n",
       "    </tr>\n",
       "    <tr>\n",
       "      <th>1</th>\n",
       "      <td>5.92</td>\n",
       "      <td>0.019278</td>\n",
       "      <td>14</td>\n",
       "      <td>48.2692</td>\n",
       "      <td>443.4228</td>\n",
       "      <td>4</td>\n",
       "      <td>1</td>\n",
       "      <td>0</td>\n",
       "      <td>1</td>\n",
       "      <td>0</td>\n",
       "      <td>0</td>\n",
       "      <td>1</td>\n",
       "      <td>0</td>\n",
       "      <td>1</td>\n",
       "      <td>0</td>\n",
       "      <td>0</td>\n",
       "      <td>0</td>\n",
       "    </tr>\n",
       "    <tr>\n",
       "      <th>2</th>\n",
       "      <td>17.50</td>\n",
       "      <td>0.016760</td>\n",
       "      <td>10</td>\n",
       "      <td>141.6180</td>\n",
       "      <td>2097.2700</td>\n",
       "      <td>14</td>\n",
       "      <td>0</td>\n",
       "      <td>0</td>\n",
       "      <td>0</td>\n",
       "      <td>1</td>\n",
       "      <td>0</td>\n",
       "      <td>0</td>\n",
       "      <td>1</td>\n",
       "      <td>0</td>\n",
       "      <td>0</td>\n",
       "      <td>1</td>\n",
       "      <td>0</td>\n",
       "    </tr>\n",
       "    <tr>\n",
       "      <th>3</th>\n",
       "      <td>19.20</td>\n",
       "      <td>0.065953</td>\n",
       "      <td>6</td>\n",
       "      <td>182.0950</td>\n",
       "      <td>732.3800</td>\n",
       "      <td>15</td>\n",
       "      <td>1</td>\n",
       "      <td>0</td>\n",
       "      <td>0</td>\n",
       "      <td>1</td>\n",
       "      <td>0</td>\n",
       "      <td>1</td>\n",
       "      <td>0</td>\n",
       "      <td>0</td>\n",
       "      <td>0</td>\n",
       "      <td>1</td>\n",
       "      <td>0</td>\n",
       "    </tr>\n",
       "    <tr>\n",
       "      <th>4</th>\n",
       "      <td>8.93</td>\n",
       "      <td>0.065953</td>\n",
       "      <td>9</td>\n",
       "      <td>53.8614</td>\n",
       "      <td>994.7052</td>\n",
       "      <td>26</td>\n",
       "      <td>0</td>\n",
       "      <td>1</td>\n",
       "      <td>0</td>\n",
       "      <td>0</td>\n",
       "      <td>0</td>\n",
       "      <td>1</td>\n",
       "      <td>1</td>\n",
       "      <td>0</td>\n",
       "      <td>0</td>\n",
       "      <td>0</td>\n",
       "      <td>1</td>\n",
       "    </tr>\n",
       "  </tbody>\n",
       "</table>\n",
       "</div>"
      ],
      "text/plain": [
       "   Item_Weight  Item_Visibility  Item_Type  Item_MRP  Item_Outlet_Sales  \\\n",
       "0         9.30         0.016047          4  249.8092          3735.1380   \n",
       "1         5.92         0.019278         14   48.2692           443.4228   \n",
       "2        17.50         0.016760         10  141.6180          2097.2700   \n",
       "3        19.20         0.065953          6  182.0950           732.3800   \n",
       "4         8.93         0.065953          9   53.8614           994.7052   \n",
       "\n",
       "   age_of_store  Item_Fat_Content_Regular  Item_Fat_Content_others  \\\n",
       "0            14                         0                        0   \n",
       "1             4                         1                        0   \n",
       "2            14                         0                        0   \n",
       "3            15                         1                        0   \n",
       "4            26                         0                        1   \n",
       "\n",
       "   Outlet_Size_Medium  Outlet_Size_Small  Outlet_Location_Type_Tier 2  \\\n",
       "0                   1                  0                            0   \n",
       "1                   1                  0                            0   \n",
       "2                   0                  1                            0   \n",
       "3                   0                  1                            0   \n",
       "4                   0                  0                            0   \n",
       "\n",
       "   Outlet_Location_Type_Tier 3  Outlet_Type_Supermarket Type1  \\\n",
       "0                            0                              1   \n",
       "1                            1                              0   \n",
       "2                            0                              1   \n",
       "3                            1                              0   \n",
       "4                            1                              1   \n",
       "\n",
       "   Outlet_Type_Supermarket Type2  Outlet_Type_Supermarket Type3  \\\n",
       "0                              0                              0   \n",
       "1                              1                              0   \n",
       "2                              0                              0   \n",
       "3                              0                              0   \n",
       "4                              0                              0   \n",
       "\n",
       "   New_Item_Identifier_FD  New_Item_Identifier_NC  \n",
       "0                       1                       0  \n",
       "1                       0                       0  \n",
       "2                       1                       0  \n",
       "3                       1                       0  \n",
       "4                       0                       1  "
      ]
     },
     "execution_count": 66,
     "metadata": {},
     "output_type": "execute_result"
    }
   ],
   "source": [
    "result_train.head()"
   ]
  },
  {
   "cell_type": "code",
   "execution_count": 67,
   "id": "8033cf8f",
   "metadata": {
    "colab": {
     "base_uri": "https://localhost:8080/"
    },
    "id": "8033cf8f",
    "outputId": "c872f200-4ded-4f40-8c28-e60cb0fefb2c"
   },
   "outputs": [
    {
     "data": {
      "text/plain": [
       "6     1232\n",
       "13    1200\n",
       "9      910\n",
       "5      856\n",
       "4      682\n",
       "3      649\n",
       "0      648\n",
       "8      520\n",
       "14     445\n",
       "10     425\n",
       "1      251\n",
       "7      214\n",
       "11     169\n",
       "15     148\n",
       "2      110\n",
       "12      64\n",
       "Name: Item_Type, dtype: int64"
      ]
     },
     "execution_count": 67,
     "metadata": {},
     "output_type": "execute_result"
    }
   ],
   "source": [
    "result_train.Item_Type.value_counts()"
   ]
  },
  {
   "cell_type": "code",
   "execution_count": 68,
   "id": "a01766a7",
   "metadata": {
    "id": "a01766a7"
   },
   "outputs": [],
   "source": [
    "import statsmodels.api as sm\n",
    "from statsmodels.formula.api import ols"
   ]
  },
  {
   "cell_type": "code",
   "execution_count": 69,
   "id": "7eaa93b3",
   "metadata": {
    "colab": {
     "base_uri": "https://localhost:8080/"
    },
    "id": "7eaa93b3",
    "outputId": "ff065b9b-dddc-49e5-8f8d-69bc0baca7c7"
   },
   "outputs": [
    {
     "name": "stdout",
     "output_type": "stream",
     "text": [
      "               df        sum_sq       mean_sq         F    PR(>F)\n",
      "Item_Type     1.0  7.212469e+06  7.212469e+06  2.477119  0.115551\n",
      "Residual   8521.0  2.481005e+10  2.911636e+06       NaN       NaN\n"
     ]
    }
   ],
   "source": [
    "mod_Item_Type=ols('Item_Outlet_Sales ~ Item_Type',data=result_train).fit()\n",
    "anova_Item_Type=sm.stats.anova_lm(mod_Item_Type,type=2)\n",
    "print(anova_Item_Type)"
   ]
  },
  {
   "cell_type": "code",
   "execution_count": 70,
   "id": "183e4893",
   "metadata": {
    "id": "183e4893"
   },
   "outputs": [],
   "source": [
    "from statsmodels.stats.multicomp import pairwise_tukeyhsd"
   ]
  },
  {
   "cell_type": "code",
   "execution_count": 71,
   "id": "ad0e280d",
   "metadata": {
    "colab": {
     "base_uri": "https://localhost:8080/"
    },
    "id": "ad0e280d",
    "outputId": "d93c8003-c00c-42eb-f146-b30b59b6fdab"
   },
   "outputs": [
    {
     "data": {
      "text/plain": [
       "0"
      ]
     },
     "execution_count": 71,
     "metadata": {},
     "output_type": "execute_result"
    }
   ],
   "source": [
    "result_train.Item_Outlet_Sales.isnull().sum()"
   ]
  },
  {
   "cell_type": "code",
   "execution_count": 72,
   "id": "dd574f42",
   "metadata": {
    "colab": {
     "base_uri": "https://localhost:8080/"
    },
    "id": "dd574f42",
    "outputId": "ba7fb3e3-0495-4afa-dc35-6bfd1385d8fd"
   },
   "outputs": [
    {
     "name": "stdout",
     "output_type": "stream",
     "text": [
      "   Multiple Comparison of Means - Tukey HSD, FWER=0.05    \n",
      "==========================================================\n",
      "group1 group2  meandiff p-adj    lower      upper   reject\n",
      "----------------------------------------------------------\n",
      "     0      1   251.161 0.8352   -182.986  685.3081  False\n",
      "     0      2  158.8374 0.9999  -443.3506  761.0255  False\n",
      "     0      3  272.2237 0.2268   -52.0722  596.5196  False\n",
      "     0      4  279.5714 0.1728   -40.7806  599.9234  False\n",
      "     0      5  179.8965   0.81  -124.1786  483.9717  False\n",
      "     0      6  336.0384  0.005    52.6595  619.4172   True\n",
      "     0      7  186.2504 0.9921  -274.1552   646.656  False\n",
      "     0      8   57.0291    1.0  -286.7771  400.8352  False\n",
      "     0      9  305.8131 0.0406     5.6503  605.9759   True\n",
      "     0     10  206.0067 0.8589  -158.4947  570.5081  False\n",
      "     0     11  -26.8315    1.0  -531.2158  477.5528  False\n",
      "     0     12  373.0947 0.9543  -392.0505 1138.2399  False\n",
      "     0     13  324.3505 0.0093    39.6723  609.0287   True\n",
      "     0     14   53.5405    1.0  -305.9802  413.0613  False\n",
      "     0     15  421.3616 0.3212  -110.6481  953.3712  False\n",
      "     1      2  -92.3236    1.0  -760.0549  575.4078  False\n",
      "     1      3   21.0627    1.0   -412.991  455.1163  False\n",
      "     1      4   28.4104    1.0  -402.7046  459.5254  False\n",
      "     1      5  -71.2645    1.0   -490.426  347.8971  False\n",
      "     1      6   84.8774    1.0  -319.5213   489.276  False\n",
      "     1      7  -64.9106    1.0  -608.2411  478.4199  False\n",
      "     1      8  -194.132 0.9846  -642.9497  254.6858  False\n",
      "     1      9   54.6521    1.0    -361.68  470.9842  False\n",
      "     1     10  -45.1543    1.0  -510.0156   419.707  False\n",
      "     1     11 -277.9925 0.9612   -859.059  303.0739  False\n",
      "     1     12  121.9337    1.0   -695.796  939.6634  False\n",
      "     1     13   73.1895    1.0  -332.1207  478.4998  False\n",
      "     1     14 -197.6205 0.9859  -658.5867  263.3457  False\n",
      "     1     15  170.2005 0.9999  -435.0011  775.4022  False\n",
      "     2      3  113.3863    1.0  -488.7344   715.507  False\n",
      "     2      4  120.7339    1.0  -479.2718  720.7397  False\n",
      "     2      5   21.0591    1.0  -570.4163  612.5345  False\n",
      "     2      6  177.2009 0.9997  -403.9058  758.3077  False\n",
      "     2      7    27.413    1.0  -657.6818  712.5077  False\n",
      "     2      8 -101.8084    1.0  -714.6576  511.0408  False\n",
      "     2      9  146.9756    1.0   -442.498  736.4493  False\n",
      "     2     10   47.1693    1.0  -577.5249  671.8634  False\n",
      "     2     11 -185.6689    1.0  -901.0604  529.7225  False\n",
      "     2     12  214.2573    1.0  -703.7997 1132.3143  False\n",
      "     2     13  165.5131 0.9999  -416.2284  747.2546  False\n",
      "     2     14 -105.2969    1.0   -727.098  516.5042  False\n",
      "     2     15  262.5241 0.9979  -472.6057  997.6539  False\n",
      "     3      4    7.3477    1.0  -312.8778  327.5731  False\n",
      "     3      5  -92.3272 0.9997  -396.2689  211.6146  False\n",
      "     3      6   63.8147    1.0  -219.4211  347.0504  False\n",
      "     3      7  -85.9733    1.0  -546.2908  374.3443  False\n",
      "     3      8 -215.1946 0.7351  -558.8828  128.4935  False\n",
      "     3      9   33.5894    1.0  -266.4383  333.6171  False\n",
      "     3     10   -66.217    1.0  -430.6072  298.1732  False\n",
      "     3     11 -299.0552 0.8072  -803.3591  205.2487  False\n",
      "     3     12   100.871    1.0  -664.2212  865.9632  False\n",
      "     3     13   52.1268    1.0  -232.4089  336.6626  False\n",
      "     3     14 -218.6832 0.7749  -578.0911  140.7248  False\n",
      "     3     15  149.1379 0.9999  -382.7956  681.0713  False\n",
      "     4      5  -99.6749 0.9991   -399.405  200.0553  False\n",
      "     4      6    56.467    1.0  -222.2444  335.1784  False\n",
      "     4      7   -93.321    1.0  -550.8686  364.2266  False\n",
      "     4      8 -222.5423  0.666  -562.5117   117.427  False\n",
      "     4      9   26.2417    1.0  -269.5187  322.0021  False\n",
      "     4     10  -73.5647    1.0  -434.4494  287.3201  False\n",
      "     4     11 -306.4029 0.7701  -808.1797  195.3739  False\n",
      "     4     12   93.5233    1.0  -669.9056  856.9522  False\n",
      "     4     13   44.7791    1.0  -235.2533  324.8116  False\n",
      "     4     14 -226.0309 0.7137  -581.8843  129.8225  False\n",
      "     4     15  141.7902 0.9999  -387.7481  671.3285  False\n",
      "     5      6  156.1418  0.791  -103.6972  415.9809  False\n",
      "     5      7    6.3539    1.0  -439.9488  452.6565  False\n",
      "     5      8 -122.8675 0.9961  -447.5449  201.8099  False\n",
      "     5      9  125.9166 0.9762   -152.131  403.9641  False\n",
      "     5     10   26.1102    1.0  -320.4069  372.6272  False\n",
      "     5     11  -206.728 0.9883  -698.2728  284.8167  False\n",
      "     5     12  193.1982    1.0  -563.5448  949.9412  False\n",
      "     5     13   144.454 0.8787  -116.8015  405.7095  False\n",
      "     5     14  -126.356 0.9969  -467.6299  214.9179  False\n",
      "     5     15   241.465 0.9701  -278.3879  761.3179  False\n",
      "     6      7  -149.788 0.9985  -582.2553  282.6793  False\n",
      "     6      8 -279.0093 0.1199  -584.3899   26.3712  False\n",
      "     6      9  -30.2253    1.0  -285.4749  225.0243  False\n",
      "     6     10 -130.0317 0.9937  -458.5373  198.4739  False\n",
      "     6     11 -362.8699 0.4012  -841.8878   116.148  False\n",
      "     6     12   37.0563    1.0  -711.6104   785.723  False\n",
      "     6     13  -11.6879    1.0  -248.5345  225.1588  False\n",
      "     6     14 -282.4979 0.1699  -605.4681   40.4724  False\n",
      "     6     15   85.3232    1.0  -422.7014  593.3477  False\n",
      "     7      8 -129.2214 0.9999  -603.4861  345.0434  False\n",
      "     7      9  119.5627 0.9999  -324.0837   563.209  False\n",
      "     7     10   19.7563    1.0  -469.7186  509.2312  False\n",
      "     7     11 -213.0819 0.9981  -814.0211  387.8572  False\n",
      "     7     12  186.8443    1.0  -645.1242 1018.8128  False\n",
      "     7     13  138.1001 0.9994  -295.2197  571.4199  False\n",
      "     7     14 -132.7099 0.9999  -618.4871  353.0674  False\n",
      "     7     15  235.1112 0.9963  -389.1954  859.4177  False\n",
      "     8      9   248.784 0.3597   -72.2322  569.8003  False\n",
      "     8     10  148.9776 0.9946  -232.8797   530.835  False\n",
      "     8     11  -83.8606    1.0  -600.9265  433.2054  False\n",
      "     8     12  316.0657 0.9912  -457.4981 1089.6294  False\n",
      "     8     13  267.3215 0.1739   -39.2652  573.9082  False\n",
      "     8     14   -3.4885    1.0  -380.5944  373.6174  False\n",
      "     8     15  364.3325 0.6276  -179.7153  908.3803  False\n",
      "     9     10  -99.8064 0.9998  -442.8954  243.2826  False\n",
      "     9     11 -332.6446 0.6006  -821.7788  156.4896  False\n",
      "     9     12   67.2816    1.0  -687.8978  822.4611  False\n",
      "     9     13   18.5374    1.0  -238.1539  275.2288  False\n",
      "     9     14 -252.2726 0.4276  -590.0653   85.5202  False\n",
      "     9     15  115.5485    1.0  -402.0258  633.1227  False\n",
      "    10     11 -232.8382 0.9825  -763.8899  298.2134  False\n",
      "    10     12   167.088    1.0  -615.8932  950.0692  False\n",
      "    10     13  118.3438 0.9978  -211.2833   447.971  False\n",
      "    10     14 -152.4662 0.9953  -548.5312  243.5989  False\n",
      "    10     15  215.3549 0.9951   -342.002  772.7117  False\n",
      "    11     12  399.9262 0.9688  -457.1629 1257.0153  False\n",
      "    11     13   351.182 0.4653  -128.6057  830.9697  False\n",
      "    11     14    80.372    1.0  -447.2734  608.0175  False\n",
      "    11     15  448.1931 0.5962  -209.2176 1105.6038  False\n",
      "    12     13  -48.7442    1.0  -797.9037  700.4153  False\n",
      "    12     14 -319.5542 0.9911 -1100.2292  461.1208  False\n",
      "    12     15   48.2668    1.0   -825.365  921.8987  False\n",
      "    13     14   -270.81 0.2338  -594.9209   53.3009  False\n",
      "    13     15    97.011    1.0  -411.7394  605.7615  False\n",
      "    14     15   367.821 0.6426  -186.2913  921.9334  False\n",
      "----------------------------------------------------------\n"
     ]
    }
   ],
   "source": [
    "tukey_Item_Type=pairwise_tukeyhsd(result_train.Item_Outlet_Sales,result_train.Item_Type,alpha=0.05)\n",
    "print(tukey_Item_Type)"
   ]
  },
  {
   "cell_type": "code",
   "execution_count": 73,
   "id": "9379af24",
   "metadata": {
    "id": "9379af24"
   },
   "outputs": [],
   "source": [
    "new_X=X.copy(deep=True)"
   ]
  },
  {
   "cell_type": "code",
   "execution_count": 74,
   "id": "09eb3787",
   "metadata": {
    "id": "09eb3787"
   },
   "outputs": [],
   "source": [
    "new_X.drop('Item_Type',axis=1,inplace=True)"
   ]
  },
  {
   "cell_type": "code",
   "execution_count": 75,
   "id": "77f0371e",
   "metadata": {
    "id": "77f0371e"
   },
   "outputs": [],
   "source": [
    "X_train,X_test,y_train,y_test=train_test_split(new_X,y,test_size=0.2,random_state=42)"
   ]
  },
  {
   "cell_type": "code",
   "execution_count": 76,
   "id": "8f80a9a1",
   "metadata": {
    "colab": {
     "background_save": true,
     "base_uri": "https://localhost:8080/"
    },
    "id": "8f80a9a1",
    "outputId": "41961029-4e33-476e-a938-505ad58a8dc8"
   },
   "outputs": [
    {
     "name": "stdout",
     "output_type": "stream",
     "text": [
      "MSE_train = 91.89183112913153\n",
      "MSE_test = 104.21545763689491\n",
      "RMSE_train = 9.586022696047173\n",
      "RMSE_test = 10.20859724138899\n",
      "r2_score_train = 0.7288416034594382\n",
      "r2_score_test = 0.6828852020664717\n"
     ]
    }
   ],
   "source": [
    "model5=RandomForestRegressor(criterion='squared_error',max_depth=8,max_features='auto',n_estimators=500)\n",
    "\n",
    "\n",
    "model5.fit(X_train,y_train)\n",
    "y_train_pred=model5.predict(X_train)\n",
    "y_test_pred=model5.predict(X_test)\n",
    "MSE_train= mean_squared_error(y_train,y_train_pred)\n",
    "MSE_test= mean_squared_error(y_test,y_test_pred)\n",
    "print('MSE_train =',MSE_train)\n",
    "print('MSE_test =',MSE_test)\n",
    "RMSE_train=np.sqrt(MSE_train)\n",
    "RMSE_test=np.sqrt(MSE_test)\n",
    "print('RMSE_train =',RMSE_train)\n",
    "print('RMSE_test =',RMSE_test)\n",
    "r2_score_train=r2_score(y_train,y_train_pred)\n",
    "r2_score_test=r2_score(y_test,y_test_pred)\n",
    "print('r2_score_train =',r2_score_train)\n",
    "print('r2_score_test =',r2_score_test)"
   ]
  },
  {
   "cell_type": "code",
   "execution_count": 77,
   "id": "7bf8937c",
   "metadata": {
    "colab": {
     "background_save": true,
     "base_uri": "https://localhost:8080/",
     "height": 288
    },
    "id": "7bf8937c",
    "outputId": "77ad6c8b-9353-4931-a81d-c8334e4d829a"
   },
   "outputs": [
    {
     "data": {
      "text/html": [
       "<div>\n",
       "<style scoped>\n",
       "    .dataframe tbody tr th:only-of-type {\n",
       "        vertical-align: middle;\n",
       "    }\n",
       "\n",
       "    .dataframe tbody tr th {\n",
       "        vertical-align: top;\n",
       "    }\n",
       "\n",
       "    .dataframe thead th {\n",
       "        text-align: right;\n",
       "    }\n",
       "</style>\n",
       "<table border=\"1\" class=\"dataframe\">\n",
       "  <thead>\n",
       "    <tr style=\"text-align: right;\">\n",
       "      <th></th>\n",
       "      <th>Item_Weight</th>\n",
       "      <th>Item_Visibility</th>\n",
       "      <th>Item_Type</th>\n",
       "      <th>Item_MRP</th>\n",
       "      <th>Item_Outlet_Sales</th>\n",
       "      <th>age_of_store</th>\n",
       "      <th>Item_Fat_Content_Regular</th>\n",
       "      <th>Item_Fat_Content_others</th>\n",
       "      <th>Outlet_Size_Medium</th>\n",
       "      <th>Outlet_Size_Small</th>\n",
       "      <th>Outlet_Location_Type_Tier 2</th>\n",
       "      <th>Outlet_Location_Type_Tier 3</th>\n",
       "      <th>Outlet_Type_Supermarket Type1</th>\n",
       "      <th>Outlet_Type_Supermarket Type2</th>\n",
       "      <th>Outlet_Type_Supermarket Type3</th>\n",
       "      <th>New_Item_Identifier_FD</th>\n",
       "      <th>New_Item_Identifier_NC</th>\n",
       "    </tr>\n",
       "  </thead>\n",
       "  <tbody>\n",
       "    <tr>\n",
       "      <th>0</th>\n",
       "      <td>9.30</td>\n",
       "      <td>0.016047</td>\n",
       "      <td>4</td>\n",
       "      <td>249.8092</td>\n",
       "      <td>3735.1380</td>\n",
       "      <td>14</td>\n",
       "      <td>0</td>\n",
       "      <td>0</td>\n",
       "      <td>1</td>\n",
       "      <td>0</td>\n",
       "      <td>0</td>\n",
       "      <td>0</td>\n",
       "      <td>1</td>\n",
       "      <td>0</td>\n",
       "      <td>0</td>\n",
       "      <td>1</td>\n",
       "      <td>0</td>\n",
       "    </tr>\n",
       "    <tr>\n",
       "      <th>1</th>\n",
       "      <td>5.92</td>\n",
       "      <td>0.019278</td>\n",
       "      <td>14</td>\n",
       "      <td>48.2692</td>\n",
       "      <td>443.4228</td>\n",
       "      <td>4</td>\n",
       "      <td>1</td>\n",
       "      <td>0</td>\n",
       "      <td>1</td>\n",
       "      <td>0</td>\n",
       "      <td>0</td>\n",
       "      <td>1</td>\n",
       "      <td>0</td>\n",
       "      <td>1</td>\n",
       "      <td>0</td>\n",
       "      <td>0</td>\n",
       "      <td>0</td>\n",
       "    </tr>\n",
       "    <tr>\n",
       "      <th>2</th>\n",
       "      <td>17.50</td>\n",
       "      <td>0.016760</td>\n",
       "      <td>10</td>\n",
       "      <td>141.6180</td>\n",
       "      <td>2097.2700</td>\n",
       "      <td>14</td>\n",
       "      <td>0</td>\n",
       "      <td>0</td>\n",
       "      <td>0</td>\n",
       "      <td>1</td>\n",
       "      <td>0</td>\n",
       "      <td>0</td>\n",
       "      <td>1</td>\n",
       "      <td>0</td>\n",
       "      <td>0</td>\n",
       "      <td>1</td>\n",
       "      <td>0</td>\n",
       "    </tr>\n",
       "    <tr>\n",
       "      <th>3</th>\n",
       "      <td>19.20</td>\n",
       "      <td>0.065953</td>\n",
       "      <td>6</td>\n",
       "      <td>182.0950</td>\n",
       "      <td>732.3800</td>\n",
       "      <td>15</td>\n",
       "      <td>1</td>\n",
       "      <td>0</td>\n",
       "      <td>0</td>\n",
       "      <td>1</td>\n",
       "      <td>0</td>\n",
       "      <td>1</td>\n",
       "      <td>0</td>\n",
       "      <td>0</td>\n",
       "      <td>0</td>\n",
       "      <td>1</td>\n",
       "      <td>0</td>\n",
       "    </tr>\n",
       "    <tr>\n",
       "      <th>4</th>\n",
       "      <td>8.93</td>\n",
       "      <td>0.065953</td>\n",
       "      <td>9</td>\n",
       "      <td>53.8614</td>\n",
       "      <td>994.7052</td>\n",
       "      <td>26</td>\n",
       "      <td>0</td>\n",
       "      <td>1</td>\n",
       "      <td>0</td>\n",
       "      <td>0</td>\n",
       "      <td>0</td>\n",
       "      <td>1</td>\n",
       "      <td>1</td>\n",
       "      <td>0</td>\n",
       "      <td>0</td>\n",
       "      <td>0</td>\n",
       "      <td>1</td>\n",
       "    </tr>\n",
       "  </tbody>\n",
       "</table>\n",
       "</div>"
      ],
      "text/plain": [
       "   Item_Weight  Item_Visibility  Item_Type  Item_MRP  Item_Outlet_Sales  \\\n",
       "0         9.30         0.016047          4  249.8092          3735.1380   \n",
       "1         5.92         0.019278         14   48.2692           443.4228   \n",
       "2        17.50         0.016760         10  141.6180          2097.2700   \n",
       "3        19.20         0.065953          6  182.0950           732.3800   \n",
       "4         8.93         0.065953          9   53.8614           994.7052   \n",
       "\n",
       "   age_of_store  Item_Fat_Content_Regular  Item_Fat_Content_others  \\\n",
       "0            14                         0                        0   \n",
       "1             4                         1                        0   \n",
       "2            14                         0                        0   \n",
       "3            15                         1                        0   \n",
       "4            26                         0                        1   \n",
       "\n",
       "   Outlet_Size_Medium  Outlet_Size_Small  Outlet_Location_Type_Tier 2  \\\n",
       "0                   1                  0                            0   \n",
       "1                   1                  0                            0   \n",
       "2                   0                  1                            0   \n",
       "3                   0                  1                            0   \n",
       "4                   0                  0                            0   \n",
       "\n",
       "   Outlet_Location_Type_Tier 3  Outlet_Type_Supermarket Type1  \\\n",
       "0                            0                              1   \n",
       "1                            1                              0   \n",
       "2                            0                              1   \n",
       "3                            1                              0   \n",
       "4                            1                              1   \n",
       "\n",
       "   Outlet_Type_Supermarket Type2  Outlet_Type_Supermarket Type3  \\\n",
       "0                              0                              0   \n",
       "1                              1                              0   \n",
       "2                              0                              0   \n",
       "3                              0                              0   \n",
       "4                              0                              0   \n",
       "\n",
       "   New_Item_Identifier_FD  New_Item_Identifier_NC  \n",
       "0                       1                       0  \n",
       "1                       0                       0  \n",
       "2                       1                       0  \n",
       "3                       1                       0  \n",
       "4                       0                       1  "
      ]
     },
     "execution_count": 77,
     "metadata": {},
     "output_type": "execute_result"
    }
   ],
   "source": [
    "result_train.head()"
   ]
  },
  {
   "cell_type": "code",
   "execution_count": 78,
   "id": "955c0fda",
   "metadata": {
    "colab": {
     "background_save": true
    },
    "id": "955c0fda"
   },
   "outputs": [],
   "source": [
    "result_test.reset_index(drop=True,inplace=True)"
   ]
  },
  {
   "cell_type": "code",
   "execution_count": 79,
   "id": "82f6dc24",
   "metadata": {
    "colab": {
     "background_save": true
    },
    "id": "82f6dc24"
   },
   "outputs": [],
   "source": [
    "new_X_train=result_train.drop(['Item_Outlet_Sales','Item_Type'],axis=1)\n",
    "new_y_train=result_train['Item_Outlet_Sales']\n",
    "new_X_test=result_test.drop(['Item_Outlet_Sales','Item_Type'],axis=1)"
   ]
  },
  {
   "cell_type": "code",
   "execution_count": 80,
   "id": "1c70cf82",
   "metadata": {
    "colab": {
     "background_save": true,
     "base_uri": "https://localhost:8080/",
     "height": 288
    },
    "id": "1c70cf82",
    "outputId": "a7d2d72e-48e1-4352-d89f-8a8d4eb91f8e"
   },
   "outputs": [
    {
     "data": {
      "text/html": [
       "<div>\n",
       "<style scoped>\n",
       "    .dataframe tbody tr th:only-of-type {\n",
       "        vertical-align: middle;\n",
       "    }\n",
       "\n",
       "    .dataframe tbody tr th {\n",
       "        vertical-align: top;\n",
       "    }\n",
       "\n",
       "    .dataframe thead th {\n",
       "        text-align: right;\n",
       "    }\n",
       "</style>\n",
       "<table border=\"1\" class=\"dataframe\">\n",
       "  <thead>\n",
       "    <tr style=\"text-align: right;\">\n",
       "      <th></th>\n",
       "      <th>Item_Weight</th>\n",
       "      <th>Item_Visibility</th>\n",
       "      <th>Item_Type</th>\n",
       "      <th>Item_MRP</th>\n",
       "      <th>Item_Outlet_Sales</th>\n",
       "      <th>age_of_store</th>\n",
       "      <th>Item_Fat_Content_Regular</th>\n",
       "      <th>Item_Fat_Content_others</th>\n",
       "      <th>Outlet_Size_Medium</th>\n",
       "      <th>Outlet_Size_Small</th>\n",
       "      <th>Outlet_Location_Type_Tier 2</th>\n",
       "      <th>Outlet_Location_Type_Tier 3</th>\n",
       "      <th>Outlet_Type_Supermarket Type1</th>\n",
       "      <th>Outlet_Type_Supermarket Type2</th>\n",
       "      <th>Outlet_Type_Supermarket Type3</th>\n",
       "      <th>New_Item_Identifier_FD</th>\n",
       "      <th>New_Item_Identifier_NC</th>\n",
       "    </tr>\n",
       "  </thead>\n",
       "  <tbody>\n",
       "    <tr>\n",
       "      <th>0</th>\n",
       "      <td>20.750</td>\n",
       "      <td>0.007565</td>\n",
       "      <td>13</td>\n",
       "      <td>107.8622</td>\n",
       "      <td>NaN</td>\n",
       "      <td>14</td>\n",
       "      <td>0</td>\n",
       "      <td>0</td>\n",
       "      <td>1</td>\n",
       "      <td>0</td>\n",
       "      <td>0</td>\n",
       "      <td>0</td>\n",
       "      <td>1</td>\n",
       "      <td>0</td>\n",
       "      <td>0</td>\n",
       "      <td>1</td>\n",
       "      <td>0</td>\n",
       "    </tr>\n",
       "    <tr>\n",
       "      <th>1</th>\n",
       "      <td>8.300</td>\n",
       "      <td>0.038428</td>\n",
       "      <td>4</td>\n",
       "      <td>87.3198</td>\n",
       "      <td>NaN</td>\n",
       "      <td>6</td>\n",
       "      <td>1</td>\n",
       "      <td>0</td>\n",
       "      <td>1</td>\n",
       "      <td>0</td>\n",
       "      <td>1</td>\n",
       "      <td>0</td>\n",
       "      <td>1</td>\n",
       "      <td>0</td>\n",
       "      <td>0</td>\n",
       "      <td>1</td>\n",
       "      <td>0</td>\n",
       "    </tr>\n",
       "    <tr>\n",
       "      <th>2</th>\n",
       "      <td>14.600</td>\n",
       "      <td>0.099575</td>\n",
       "      <td>11</td>\n",
       "      <td>241.7538</td>\n",
       "      <td>NaN</td>\n",
       "      <td>15</td>\n",
       "      <td>0</td>\n",
       "      <td>1</td>\n",
       "      <td>0</td>\n",
       "      <td>1</td>\n",
       "      <td>0</td>\n",
       "      <td>1</td>\n",
       "      <td>0</td>\n",
       "      <td>0</td>\n",
       "      <td>0</td>\n",
       "      <td>0</td>\n",
       "      <td>1</td>\n",
       "    </tr>\n",
       "    <tr>\n",
       "      <th>3</th>\n",
       "      <td>7.315</td>\n",
       "      <td>0.015388</td>\n",
       "      <td>13</td>\n",
       "      <td>155.0340</td>\n",
       "      <td>NaN</td>\n",
       "      <td>6</td>\n",
       "      <td>0</td>\n",
       "      <td>0</td>\n",
       "      <td>0</td>\n",
       "      <td>1</td>\n",
       "      <td>1</td>\n",
       "      <td>0</td>\n",
       "      <td>1</td>\n",
       "      <td>0</td>\n",
       "      <td>0</td>\n",
       "      <td>1</td>\n",
       "      <td>0</td>\n",
       "    </tr>\n",
       "    <tr>\n",
       "      <th>4</th>\n",
       "      <td>8.930</td>\n",
       "      <td>0.118599</td>\n",
       "      <td>4</td>\n",
       "      <td>234.2300</td>\n",
       "      <td>NaN</td>\n",
       "      <td>28</td>\n",
       "      <td>1</td>\n",
       "      <td>0</td>\n",
       "      <td>1</td>\n",
       "      <td>0</td>\n",
       "      <td>0</td>\n",
       "      <td>1</td>\n",
       "      <td>0</td>\n",
       "      <td>0</td>\n",
       "      <td>1</td>\n",
       "      <td>1</td>\n",
       "      <td>0</td>\n",
       "    </tr>\n",
       "  </tbody>\n",
       "</table>\n",
       "</div>"
      ],
      "text/plain": [
       "   Item_Weight  Item_Visibility  Item_Type  Item_MRP  Item_Outlet_Sales  \\\n",
       "0       20.750         0.007565         13  107.8622                NaN   \n",
       "1        8.300         0.038428          4   87.3198                NaN   \n",
       "2       14.600         0.099575         11  241.7538                NaN   \n",
       "3        7.315         0.015388         13  155.0340                NaN   \n",
       "4        8.930         0.118599          4  234.2300                NaN   \n",
       "\n",
       "   age_of_store  Item_Fat_Content_Regular  Item_Fat_Content_others  \\\n",
       "0            14                         0                        0   \n",
       "1             6                         1                        0   \n",
       "2            15                         0                        1   \n",
       "3             6                         0                        0   \n",
       "4            28                         1                        0   \n",
       "\n",
       "   Outlet_Size_Medium  Outlet_Size_Small  Outlet_Location_Type_Tier 2  \\\n",
       "0                   1                  0                            0   \n",
       "1                   1                  0                            1   \n",
       "2                   0                  1                            0   \n",
       "3                   0                  1                            1   \n",
       "4                   1                  0                            0   \n",
       "\n",
       "   Outlet_Location_Type_Tier 3  Outlet_Type_Supermarket Type1  \\\n",
       "0                            0                              1   \n",
       "1                            0                              1   \n",
       "2                            1                              0   \n",
       "3                            0                              1   \n",
       "4                            1                              0   \n",
       "\n",
       "   Outlet_Type_Supermarket Type2  Outlet_Type_Supermarket Type3  \\\n",
       "0                              0                              0   \n",
       "1                              0                              0   \n",
       "2                              0                              0   \n",
       "3                              0                              0   \n",
       "4                              0                              1   \n",
       "\n",
       "   New_Item_Identifier_FD  New_Item_Identifier_NC  \n",
       "0                       1                       0  \n",
       "1                       1                       0  \n",
       "2                       0                       1  \n",
       "3                       1                       0  \n",
       "4                       1                       0  "
      ]
     },
     "execution_count": 80,
     "metadata": {},
     "output_type": "execute_result"
    }
   ],
   "source": [
    "result_test.head()"
   ]
  },
  {
   "cell_type": "code",
   "execution_count": 81,
   "id": "qkYGGqICsMpf",
   "metadata": {
    "colab": {
     "background_save": true,
     "base_uri": "https://localhost:8080/"
    },
    "id": "qkYGGqICsMpf",
    "outputId": "5d8b6a3a-dee8-4a45-afba-46623df1fac9"
   },
   "outputs": [
    {
     "data": {
      "text/plain": [
       "Index(['Item_Weight', 'Item_Visibility', 'Item_MRP', 'age_of_store',\n",
       "       'Item_Fat_Content_Regular', 'Item_Fat_Content_others',\n",
       "       'Outlet_Size_Medium', 'Outlet_Size_Small',\n",
       "       'Outlet_Location_Type_Tier 2', 'Outlet_Location_Type_Tier 3',\n",
       "       'Outlet_Type_Supermarket Type1', 'Outlet_Type_Supermarket Type2',\n",
       "       'Outlet_Type_Supermarket Type3', 'New_Item_Identifier_FD',\n",
       "       'New_Item_Identifier_NC'],\n",
       "      dtype='object')"
      ]
     },
     "execution_count": 81,
     "metadata": {},
     "output_type": "execute_result"
    }
   ],
   "source": [
    "new_X_train.columns"
   ]
  },
  {
   "cell_type": "code",
   "execution_count": 82,
   "id": "9jS5nS9csRzW",
   "metadata": {
    "colab": {
     "background_save": true,
     "base_uri": "https://localhost:8080/"
    },
    "id": "9jS5nS9csRzW",
    "outputId": "9a7956c6-e89c-401b-c6bb-c248edc2e782"
   },
   "outputs": [
    {
     "data": {
      "text/plain": [
       "Index(['Item_Weight', 'Item_Visibility', 'Item_Type', 'Item_MRP',\n",
       "       'Item_Outlet_Sales', 'age_of_store', 'Item_Fat_Content_Regular',\n",
       "       'Item_Fat_Content_others', 'Outlet_Size_Medium', 'Outlet_Size_Small',\n",
       "       'Outlet_Location_Type_Tier 2', 'Outlet_Location_Type_Tier 3',\n",
       "       'Outlet_Type_Supermarket Type1', 'Outlet_Type_Supermarket Type2',\n",
       "       'Outlet_Type_Supermarket Type3', 'New_Item_Identifier_FD',\n",
       "       'New_Item_Identifier_NC'],\n",
       "      dtype='object')"
      ]
     },
     "execution_count": 82,
     "metadata": {},
     "output_type": "execute_result"
    }
   ],
   "source": [
    "result_test.columns"
   ]
  },
  {
   "cell_type": "code",
   "execution_count": 83,
   "id": "V9JzAsVbsMWH",
   "metadata": {
    "colab": {
     "background_save": true
    },
    "id": "V9JzAsVbsMWH"
   },
   "outputs": [],
   "source": [
    "result_test.drop(['Item_Type','Item_Outlet_Sales'],axis=1,inplace=True)"
   ]
  },
  {
   "cell_type": "code",
   "execution_count": 84,
   "id": "afad84e2",
   "metadata": {
    "colab": {
     "background_save": true,
     "base_uri": "https://localhost:8080/",
     "height": 288
    },
    "id": "afad84e2",
    "outputId": "83f076ef-1133-4173-b3fb-3228cd24ba41",
    "scrolled": true
   },
   "outputs": [
    {
     "data": {
      "text/html": [
       "<div>\n",
       "<style scoped>\n",
       "    .dataframe tbody tr th:only-of-type {\n",
       "        vertical-align: middle;\n",
       "    }\n",
       "\n",
       "    .dataframe tbody tr th {\n",
       "        vertical-align: top;\n",
       "    }\n",
       "\n",
       "    .dataframe thead th {\n",
       "        text-align: right;\n",
       "    }\n",
       "</style>\n",
       "<table border=\"1\" class=\"dataframe\">\n",
       "  <thead>\n",
       "    <tr style=\"text-align: right;\">\n",
       "      <th></th>\n",
       "      <th>Item_Weight</th>\n",
       "      <th>Item_Visibility</th>\n",
       "      <th>Item_MRP</th>\n",
       "      <th>age_of_store</th>\n",
       "      <th>Item_Fat_Content_Regular</th>\n",
       "      <th>Item_Fat_Content_others</th>\n",
       "      <th>Outlet_Size_Medium</th>\n",
       "      <th>Outlet_Size_Small</th>\n",
       "      <th>Outlet_Location_Type_Tier 2</th>\n",
       "      <th>Outlet_Location_Type_Tier 3</th>\n",
       "      <th>Outlet_Type_Supermarket Type1</th>\n",
       "      <th>Outlet_Type_Supermarket Type2</th>\n",
       "      <th>Outlet_Type_Supermarket Type3</th>\n",
       "      <th>New_Item_Identifier_FD</th>\n",
       "      <th>New_Item_Identifier_NC</th>\n",
       "    </tr>\n",
       "  </thead>\n",
       "  <tbody>\n",
       "    <tr>\n",
       "      <th>0</th>\n",
       "      <td>-0.769246</td>\n",
       "      <td>-1.111110</td>\n",
       "      <td>1.747454</td>\n",
       "      <td>-0.139541</td>\n",
       "      <td>-0.738147</td>\n",
       "      <td>-0.480558</td>\n",
       "      <td>1.504748</td>\n",
       "      <td>-1.238991</td>\n",
       "      <td>-0.696678</td>\n",
       "      <td>-0.804732</td>\n",
       "      <td>0.726802</td>\n",
       "      <td>-0.349551</td>\n",
       "      <td>-0.351028</td>\n",
       "      <td>0.625708</td>\n",
       "      <td>-0.480558</td>\n",
       "    </tr>\n",
       "    <tr>\n",
       "      <th>1</th>\n",
       "      <td>-1.496813</td>\n",
       "      <td>-1.044820</td>\n",
       "      <td>-1.489023</td>\n",
       "      <td>-1.334103</td>\n",
       "      <td>1.354743</td>\n",
       "      <td>-0.480558</td>\n",
       "      <td>1.504748</td>\n",
       "      <td>-1.238991</td>\n",
       "      <td>-0.696678</td>\n",
       "      <td>1.242650</td>\n",
       "      <td>-1.375891</td>\n",
       "      <td>2.860816</td>\n",
       "      <td>-0.351028</td>\n",
       "      <td>-1.598190</td>\n",
       "      <td>-0.480558</td>\n",
       "    </tr>\n",
       "    <tr>\n",
       "      <th>2</th>\n",
       "      <td>0.995858</td>\n",
       "      <td>-1.096486</td>\n",
       "      <td>0.010040</td>\n",
       "      <td>-0.139541</td>\n",
       "      <td>-0.738147</td>\n",
       "      <td>-0.480558</td>\n",
       "      <td>-0.664563</td>\n",
       "      <td>0.807109</td>\n",
       "      <td>-0.696678</td>\n",
       "      <td>-0.804732</td>\n",
       "      <td>0.726802</td>\n",
       "      <td>-0.349551</td>\n",
       "      <td>-0.351028</td>\n",
       "      <td>0.625708</td>\n",
       "      <td>-0.480558</td>\n",
       "    </tr>\n",
       "    <tr>\n",
       "      <th>3</th>\n",
       "      <td>1.361794</td>\n",
       "      <td>-0.087185</td>\n",
       "      <td>0.660050</td>\n",
       "      <td>-0.020085</td>\n",
       "      <td>1.354743</td>\n",
       "      <td>-0.480558</td>\n",
       "      <td>-0.664563</td>\n",
       "      <td>0.807109</td>\n",
       "      <td>-0.696678</td>\n",
       "      <td>1.242650</td>\n",
       "      <td>-1.375891</td>\n",
       "      <td>-0.349551</td>\n",
       "      <td>-0.351028</td>\n",
       "      <td>0.625708</td>\n",
       "      <td>-0.480558</td>\n",
       "    </tr>\n",
       "    <tr>\n",
       "      <th>4</th>\n",
       "      <td>-0.848890</td>\n",
       "      <td>-0.087185</td>\n",
       "      <td>-1.399220</td>\n",
       "      <td>1.293934</td>\n",
       "      <td>-0.738147</td>\n",
       "      <td>2.080915</td>\n",
       "      <td>-0.664563</td>\n",
       "      <td>-1.238991</td>\n",
       "      <td>-0.696678</td>\n",
       "      <td>1.242650</td>\n",
       "      <td>0.726802</td>\n",
       "      <td>-0.349551</td>\n",
       "      <td>-0.351028</td>\n",
       "      <td>-1.598190</td>\n",
       "      <td>2.080915</td>\n",
       "    </tr>\n",
       "  </tbody>\n",
       "</table>\n",
       "</div>"
      ],
      "text/plain": [
       "   Item_Weight  Item_Visibility  Item_MRP  age_of_store  \\\n",
       "0    -0.769246        -1.111110  1.747454     -0.139541   \n",
       "1    -1.496813        -1.044820 -1.489023     -1.334103   \n",
       "2     0.995858        -1.096486  0.010040     -0.139541   \n",
       "3     1.361794        -0.087185  0.660050     -0.020085   \n",
       "4    -0.848890        -0.087185 -1.399220      1.293934   \n",
       "\n",
       "   Item_Fat_Content_Regular  Item_Fat_Content_others  Outlet_Size_Medium  \\\n",
       "0                 -0.738147                -0.480558            1.504748   \n",
       "1                  1.354743                -0.480558            1.504748   \n",
       "2                 -0.738147                -0.480558           -0.664563   \n",
       "3                  1.354743                -0.480558           -0.664563   \n",
       "4                 -0.738147                 2.080915           -0.664563   \n",
       "\n",
       "   Outlet_Size_Small  Outlet_Location_Type_Tier 2  \\\n",
       "0          -1.238991                    -0.696678   \n",
       "1          -1.238991                    -0.696678   \n",
       "2           0.807109                    -0.696678   \n",
       "3           0.807109                    -0.696678   \n",
       "4          -1.238991                    -0.696678   \n",
       "\n",
       "   Outlet_Location_Type_Tier 3  Outlet_Type_Supermarket Type1  \\\n",
       "0                    -0.804732                       0.726802   \n",
       "1                     1.242650                      -1.375891   \n",
       "2                    -0.804732                       0.726802   \n",
       "3                     1.242650                      -1.375891   \n",
       "4                     1.242650                       0.726802   \n",
       "\n",
       "   Outlet_Type_Supermarket Type2  Outlet_Type_Supermarket Type3  \\\n",
       "0                      -0.349551                      -0.351028   \n",
       "1                       2.860816                      -0.351028   \n",
       "2                      -0.349551                      -0.351028   \n",
       "3                      -0.349551                      -0.351028   \n",
       "4                      -0.349551                      -0.351028   \n",
       "\n",
       "   New_Item_Identifier_FD  New_Item_Identifier_NC  \n",
       "0                0.625708               -0.480558  \n",
       "1               -1.598190               -0.480558  \n",
       "2                0.625708               -0.480558  \n",
       "3                0.625708               -0.480558  \n",
       "4               -1.598190                2.080915  "
      ]
     },
     "execution_count": 84,
     "metadata": {},
     "output_type": "execute_result"
    }
   ],
   "source": [
    "from sklearn.preprocessing import StandardScaler\n",
    "sc=StandardScaler()\n",
    "\n",
    "sc_x_train=sc.fit_transform(new_X_train)\n",
    "sc_x_test=sc.transform(result_test)\n",
    "scaled_x_train=pd.DataFrame(sc_x_train,columns=new_X_train.columns)\n",
    "scaled_x_test=pd.DataFrame(sc_x_test,columns=new_X_test.columns)\n",
    "scaled_x_train.head()"
   ]
  },
  {
   "cell_type": "code",
   "execution_count": 85,
   "id": "8d546cd2",
   "metadata": {
    "colab": {
     "background_save": true,
     "base_uri": "https://localhost:8080/",
     "height": 297
    },
    "id": "8d546cd2",
    "outputId": "9d496cd5-365b-4d66-a94b-4638bb8de623"
   },
   "outputs": [
    {
     "data": {
      "text/plain": [
       "<Axes: xlabel='Item_Outlet_Sales', ylabel='Density'>"
      ]
     },
     "execution_count": 85,
     "metadata": {},
     "output_type": "execute_result"
    },
    {
     "data": {
      "image/png": "[encoded data removed]",
      "text/plain": [
       "<Figure size 640x480 with 1 Axes>"
      ]
     },
     "metadata": {},
     "output_type": "display_data"
    }
   ],
   "source": [
    "sns.distplot(result_train.Item_Outlet_Sales)"
   ]
  },
  {
   "cell_type": "code",
   "execution_count": 86,
   "id": "d815b48f",
   "metadata": {
    "colab": {
     "background_save": true,
     "base_uri": "https://localhost:8080/",
     "height": 297
    },
    "id": "d815b48f",
    "outputId": "8e228644-d952-4dff-9fe2-2547ae595f81"
   },
   "outputs": [
    {
     "data": {
      "text/plain": [
       "<Axes: xlabel='Item_Outlet_Sales', ylabel='Density'>"
      ]
     },
     "execution_count": 86,
     "metadata": {},
     "output_type": "execute_result"
    },
    {
     "data": {
      "image/png": "[encoded data removed]",
      "text/plain": [
       "<Figure size 640x480 with 1 Axes>"
      ]
     },
     "metadata": {},
     "output_type": "display_data"
    }
   ],
   "source": [
    "sns.distplot(np.sqrt(result_train.Item_Outlet_Sales))   "
   ]
  },
  {
   "cell_type": "code",
   "execution_count": 87,
   "id": "6fad6760",
   "metadata": {
    "colab": {
     "background_save": true
    },
    "id": "6fad6760"
   },
   "outputs": [],
   "source": [
    "new_y_train=np.sqrt(result_train.Item_Outlet_Sales)"
   ]
  },
  {
   "cell_type": "code",
   "execution_count": 88,
   "id": "4f2ef241",
   "metadata": {
    "colab": {
     "background_save": true,
     "base_uri": "https://localhost:8080/"
    },
    "id": "4f2ef241",
    "outputId": "755fbfcb-7905-443e-ecac-b1155cbe65db",
    "scrolled": true
   },
   "outputs": [
    {
     "data": {
      "text/plain": [
       "0    61.115775\n",
       "1    21.057607\n",
       "2    45.795961\n",
       "3    27.062520\n",
       "4    31.538947\n",
       "Name: Item_Outlet_Sales, dtype: float64"
      ]
     },
     "execution_count": 88,
     "metadata": {},
     "output_type": "execute_result"
    }
   ],
   "source": [
    "new_y_train.head()"
   ]
  },
  {
   "cell_type": "code",
   "execution_count": 89,
   "id": "_c4S56E_pLI7",
   "metadata": {
    "colab": {
     "background_save": true,
     "base_uri": "https://localhost:8080/"
    },
    "id": "_c4S56E_pLI7",
    "outputId": "e9cec768-d9e7-4f00-b179-1931c76de5c3"
   },
   "outputs": [
    {
     "name": "stdout",
     "output_type": "stream",
     "text": [
      "(8523, 15) (5681, 15)\n"
     ]
    }
   ],
   "source": [
    "print(scaled_x_train.shape,scaled_x_test.shape)    "
   ]
  },
  {
   "cell_type": "code",
   "execution_count": 90,
   "id": "j8uNTYHgoxS2",
   "metadata": {
    "colab": {
     "background_save": true,
     "base_uri": "https://localhost:8080/"
    },
    "id": "j8uNTYHgoxS2",
    "outputId": "41425424-fe66-404b-c2f7-51a85b9af32b"
   },
   "outputs": [
    {
     "name": "stdout",
     "output_type": "stream",
     "text": [
      "(8523,)\n"
     ]
    }
   ],
   "source": [
    "print(new_y_train.shape)"
   ]
  },
  {
   "cell_type": "code",
   "execution_count": 91,
   "id": "qGOXQIi6rrSY",
   "metadata": {
    "colab": {
     "background_save": true,
     "base_uri": "https://localhost:8080/",
     "height": 288
    },
    "id": "qGOXQIi6rrSY",
    "outputId": "df8d4782-06a7-4fb2-852d-9c36983eeb8b"
   },
   "outputs": [
    {
     "data": {
      "text/html": [
       "<div>\n",
       "<style scoped>\n",
       "    .dataframe tbody tr th:only-of-type {\n",
       "        vertical-align: middle;\n",
       "    }\n",
       "\n",
       "    .dataframe tbody tr th {\n",
       "        vertical-align: top;\n",
       "    }\n",
       "\n",
       "    .dataframe thead th {\n",
       "        text-align: right;\n",
       "    }\n",
       "</style>\n",
       "<table border=\"1\" class=\"dataframe\">\n",
       "  <thead>\n",
       "    <tr style=\"text-align: right;\">\n",
       "      <th></th>\n",
       "      <th>Item_Weight</th>\n",
       "      <th>Item_Visibility</th>\n",
       "      <th>Item_MRP</th>\n",
       "      <th>age_of_store</th>\n",
       "      <th>Item_Fat_Content_Regular</th>\n",
       "      <th>Item_Fat_Content_others</th>\n",
       "      <th>Outlet_Size_Medium</th>\n",
       "      <th>Outlet_Size_Small</th>\n",
       "      <th>Outlet_Location_Type_Tier 2</th>\n",
       "      <th>Outlet_Location_Type_Tier 3</th>\n",
       "      <th>Outlet_Type_Supermarket Type1</th>\n",
       "      <th>Outlet_Type_Supermarket Type2</th>\n",
       "      <th>Outlet_Type_Supermarket Type3</th>\n",
       "      <th>New_Item_Identifier_FD</th>\n",
       "      <th>New_Item_Identifier_NC</th>\n",
       "    </tr>\n",
       "  </thead>\n",
       "  <tbody>\n",
       "    <tr>\n",
       "      <th>0</th>\n",
       "      <td>20.750</td>\n",
       "      <td>0.007565</td>\n",
       "      <td>107.8622</td>\n",
       "      <td>14</td>\n",
       "      <td>0</td>\n",
       "      <td>0</td>\n",
       "      <td>1</td>\n",
       "      <td>0</td>\n",
       "      <td>0</td>\n",
       "      <td>0</td>\n",
       "      <td>1</td>\n",
       "      <td>0</td>\n",
       "      <td>0</td>\n",
       "      <td>1</td>\n",
       "      <td>0</td>\n",
       "    </tr>\n",
       "    <tr>\n",
       "      <th>1</th>\n",
       "      <td>8.300</td>\n",
       "      <td>0.038428</td>\n",
       "      <td>87.3198</td>\n",
       "      <td>6</td>\n",
       "      <td>1</td>\n",
       "      <td>0</td>\n",
       "      <td>1</td>\n",
       "      <td>0</td>\n",
       "      <td>1</td>\n",
       "      <td>0</td>\n",
       "      <td>1</td>\n",
       "      <td>0</td>\n",
       "      <td>0</td>\n",
       "      <td>1</td>\n",
       "      <td>0</td>\n",
       "    </tr>\n",
       "    <tr>\n",
       "      <th>2</th>\n",
       "      <td>14.600</td>\n",
       "      <td>0.099575</td>\n",
       "      <td>241.7538</td>\n",
       "      <td>15</td>\n",
       "      <td>0</td>\n",
       "      <td>1</td>\n",
       "      <td>0</td>\n",
       "      <td>1</td>\n",
       "      <td>0</td>\n",
       "      <td>1</td>\n",
       "      <td>0</td>\n",
       "      <td>0</td>\n",
       "      <td>0</td>\n",
       "      <td>0</td>\n",
       "      <td>1</td>\n",
       "    </tr>\n",
       "    <tr>\n",
       "      <th>3</th>\n",
       "      <td>7.315</td>\n",
       "      <td>0.015388</td>\n",
       "      <td>155.0340</td>\n",
       "      <td>6</td>\n",
       "      <td>0</td>\n",
       "      <td>0</td>\n",
       "      <td>0</td>\n",
       "      <td>1</td>\n",
       "      <td>1</td>\n",
       "      <td>0</td>\n",
       "      <td>1</td>\n",
       "      <td>0</td>\n",
       "      <td>0</td>\n",
       "      <td>1</td>\n",
       "      <td>0</td>\n",
       "    </tr>\n",
       "    <tr>\n",
       "      <th>4</th>\n",
       "      <td>8.930</td>\n",
       "      <td>0.118599</td>\n",
       "      <td>234.2300</td>\n",
       "      <td>28</td>\n",
       "      <td>1</td>\n",
       "      <td>0</td>\n",
       "      <td>1</td>\n",
       "      <td>0</td>\n",
       "      <td>0</td>\n",
       "      <td>1</td>\n",
       "      <td>0</td>\n",
       "      <td>0</td>\n",
       "      <td>1</td>\n",
       "      <td>1</td>\n",
       "      <td>0</td>\n",
       "    </tr>\n",
       "  </tbody>\n",
       "</table>\n",
       "</div>"
      ],
      "text/plain": [
       "   Item_Weight  Item_Visibility  Item_MRP  age_of_store  \\\n",
       "0       20.750         0.007565  107.8622            14   \n",
       "1        8.300         0.038428   87.3198             6   \n",
       "2       14.600         0.099575  241.7538            15   \n",
       "3        7.315         0.015388  155.0340             6   \n",
       "4        8.930         0.118599  234.2300            28   \n",
       "\n",
       "   Item_Fat_Content_Regular  Item_Fat_Content_others  Outlet_Size_Medium  \\\n",
       "0                         0                        0                   1   \n",
       "1                         1                        0                   1   \n",
       "2                         0                        1                   0   \n",
       "3                         0                        0                   0   \n",
       "4                         1                        0                   1   \n",
       "\n",
       "   Outlet_Size_Small  Outlet_Location_Type_Tier 2  \\\n",
       "0                  0                            0   \n",
       "1                  0                            1   \n",
       "2                  1                            0   \n",
       "3                  1                            1   \n",
       "4                  0                            0   \n",
       "\n",
       "   Outlet_Location_Type_Tier 3  Outlet_Type_Supermarket Type1  \\\n",
       "0                            0                              1   \n",
       "1                            0                              1   \n",
       "2                            1                              0   \n",
       "3                            0                              1   \n",
       "4                            1                              0   \n",
       "\n",
       "   Outlet_Type_Supermarket Type2  Outlet_Type_Supermarket Type3  \\\n",
       "0                              0                              0   \n",
       "1                              0                              0   \n",
       "2                              0                              0   \n",
       "3                              0                              0   \n",
       "4                              0                              1   \n",
       "\n",
       "   New_Item_Identifier_FD  New_Item_Identifier_NC  \n",
       "0                       1                       0  \n",
       "1                       1                       0  \n",
       "2                       0                       1  \n",
       "3                       1                       0  \n",
       "4                       1                       0  "
      ]
     },
     "execution_count": 91,
     "metadata": {},
     "output_type": "execute_result"
    }
   ],
   "source": [
    "result_test.head()"
   ]
  },
  {
   "cell_type": "code",
   "execution_count": 92,
   "id": "W_l2Wr68rrAl",
   "metadata": {
    "colab": {
     "background_save": true,
     "base_uri": "https://localhost:8080/",
     "height": 288
    },
    "id": "W_l2Wr68rrAl",
    "outputId": "fe8c8910-592f-4e27-89cc-7495fa033d74"
   },
   "outputs": [
    {
     "data": {
      "text/html": [
       "<div>\n",
       "<style scoped>\n",
       "    .dataframe tbody tr th:only-of-type {\n",
       "        vertical-align: middle;\n",
       "    }\n",
       "\n",
       "    .dataframe tbody tr th {\n",
       "        vertical-align: top;\n",
       "    }\n",
       "\n",
       "    .dataframe thead th {\n",
       "        text-align: right;\n",
       "    }\n",
       "</style>\n",
       "<table border=\"1\" class=\"dataframe\">\n",
       "  <thead>\n",
       "    <tr style=\"text-align: right;\">\n",
       "      <th></th>\n",
       "      <th>Item_Weight</th>\n",
       "      <th>Item_Visibility</th>\n",
       "      <th>Item_MRP</th>\n",
       "      <th>age_of_store</th>\n",
       "      <th>Item_Fat_Content_Regular</th>\n",
       "      <th>Item_Fat_Content_others</th>\n",
       "      <th>Outlet_Size_Medium</th>\n",
       "      <th>Outlet_Size_Small</th>\n",
       "      <th>Outlet_Location_Type_Tier 2</th>\n",
       "      <th>Outlet_Location_Type_Tier 3</th>\n",
       "      <th>Outlet_Type_Supermarket Type1</th>\n",
       "      <th>Outlet_Type_Supermarket Type2</th>\n",
       "      <th>Outlet_Type_Supermarket Type3</th>\n",
       "      <th>New_Item_Identifier_FD</th>\n",
       "      <th>New_Item_Identifier_NC</th>\n",
       "    </tr>\n",
       "  </thead>\n",
       "  <tbody>\n",
       "    <tr>\n",
       "      <th>0</th>\n",
       "      <td>1.695442</td>\n",
       "      <td>-1.285146</td>\n",
       "      <td>-0.532035</td>\n",
       "      <td>-0.139541</td>\n",
       "      <td>-0.738147</td>\n",
       "      <td>-0.480558</td>\n",
       "      <td>1.504748</td>\n",
       "      <td>-1.238991</td>\n",
       "      <td>-0.696678</td>\n",
       "      <td>-0.804732</td>\n",
       "      <td>0.726802</td>\n",
       "      <td>-0.349551</td>\n",
       "      <td>-0.351028</td>\n",
       "      <td>0.625708</td>\n",
       "      <td>-0.480558</td>\n",
       "    </tr>\n",
       "    <tr>\n",
       "      <th>1</th>\n",
       "      <td>-0.984502</td>\n",
       "      <td>-0.651927</td>\n",
       "      <td>-0.861920</td>\n",
       "      <td>-1.095190</td>\n",
       "      <td>1.354743</td>\n",
       "      <td>-0.480558</td>\n",
       "      <td>1.504748</td>\n",
       "      <td>-1.238991</td>\n",
       "      <td>1.435383</td>\n",
       "      <td>-0.804732</td>\n",
       "      <td>0.726802</td>\n",
       "      <td>-0.349551</td>\n",
       "      <td>-0.351028</td>\n",
       "      <td>0.625708</td>\n",
       "      <td>-0.480558</td>\n",
       "    </tr>\n",
       "    <tr>\n",
       "      <th>2</th>\n",
       "      <td>0.371614</td>\n",
       "      <td>0.602643</td>\n",
       "      <td>1.618094</td>\n",
       "      <td>-0.020085</td>\n",
       "      <td>-0.738147</td>\n",
       "      <td>2.080915</td>\n",
       "      <td>-0.664563</td>\n",
       "      <td>0.807109</td>\n",
       "      <td>-0.696678</td>\n",
       "      <td>1.242650</td>\n",
       "      <td>-1.375891</td>\n",
       "      <td>-0.349551</td>\n",
       "      <td>-0.351028</td>\n",
       "      <td>-1.598190</td>\n",
       "      <td>2.080915</td>\n",
       "    </tr>\n",
       "    <tr>\n",
       "      <th>3</th>\n",
       "      <td>-1.196530</td>\n",
       "      <td>-1.124629</td>\n",
       "      <td>0.225484</td>\n",
       "      <td>-1.095190</td>\n",
       "      <td>-0.738147</td>\n",
       "      <td>-0.480558</td>\n",
       "      <td>-0.664563</td>\n",
       "      <td>0.807109</td>\n",
       "      <td>1.435383</td>\n",
       "      <td>-0.804732</td>\n",
       "      <td>0.726802</td>\n",
       "      <td>-0.349551</td>\n",
       "      <td>-0.351028</td>\n",
       "      <td>0.625708</td>\n",
       "      <td>-0.480558</td>\n",
       "    </tr>\n",
       "    <tr>\n",
       "      <th>4</th>\n",
       "      <td>-0.848890</td>\n",
       "      <td>0.992970</td>\n",
       "      <td>1.497272</td>\n",
       "      <td>1.532846</td>\n",
       "      <td>1.354743</td>\n",
       "      <td>-0.480558</td>\n",
       "      <td>1.504748</td>\n",
       "      <td>-1.238991</td>\n",
       "      <td>-0.696678</td>\n",
       "      <td>1.242650</td>\n",
       "      <td>-1.375891</td>\n",
       "      <td>-0.349551</td>\n",
       "      <td>2.848773</td>\n",
       "      <td>0.625708</td>\n",
       "      <td>-0.480558</td>\n",
       "    </tr>\n",
       "  </tbody>\n",
       "</table>\n",
       "</div>"
      ],
      "text/plain": [
       "   Item_Weight  Item_Visibility  Item_MRP  age_of_store  \\\n",
       "0     1.695442        -1.285146 -0.532035     -0.139541   \n",
       "1    -0.984502        -0.651927 -0.861920     -1.095190   \n",
       "2     0.371614         0.602643  1.618094     -0.020085   \n",
       "3    -1.196530        -1.124629  0.225484     -1.095190   \n",
       "4    -0.848890         0.992970  1.497272      1.532846   \n",
       "\n",
       "   Item_Fat_Content_Regular  Item_Fat_Content_others  Outlet_Size_Medium  \\\n",
       "0                 -0.738147                -0.480558            1.504748   \n",
       "1                  1.354743                -0.480558            1.504748   \n",
       "2                 -0.738147                 2.080915           -0.664563   \n",
       "3                 -0.738147                -0.480558           -0.664563   \n",
       "4                  1.354743                -0.480558            1.504748   \n",
       "\n",
       "   Outlet_Size_Small  Outlet_Location_Type_Tier 2  \\\n",
       "0          -1.238991                    -0.696678   \n",
       "1          -1.238991                     1.435383   \n",
       "2           0.807109                    -0.696678   \n",
       "3           0.807109                     1.435383   \n",
       "4          -1.238991                    -0.696678   \n",
       "\n",
       "   Outlet_Location_Type_Tier 3  Outlet_Type_Supermarket Type1  \\\n",
       "0                    -0.804732                       0.726802   \n",
       "1                    -0.804732                       0.726802   \n",
       "2                     1.242650                      -1.375891   \n",
       "3                    -0.804732                       0.726802   \n",
       "4                     1.242650                      -1.375891   \n",
       "\n",
       "   Outlet_Type_Supermarket Type2  Outlet_Type_Supermarket Type3  \\\n",
       "0                      -0.349551                      -0.351028   \n",
       "1                      -0.349551                      -0.351028   \n",
       "2                      -0.349551                      -0.351028   \n",
       "3                      -0.349551                      -0.351028   \n",
       "4                      -0.349551                       2.848773   \n",
       "\n",
       "   New_Item_Identifier_FD  New_Item_Identifier_NC  \n",
       "0                0.625708               -0.480558  \n",
       "1                0.625708               -0.480558  \n",
       "2               -1.598190                2.080915  \n",
       "3                0.625708               -0.480558  \n",
       "4                0.625708               -0.480558  "
      ]
     },
     "execution_count": 92,
     "metadata": {},
     "output_type": "execute_result"
    }
   ],
   "source": [
    "scaled_x_test.head()"
   ]
  },
  {
   "cell_type": "markdown",
   "id": "hFX0BuVWEOnw",
   "metadata": {
    "id": "hFX0BuVWEOnw"
   },
   "source": [
    "Now we are Performing for the Entire train and test Data"
   ]
  },
  {
   "cell_type": "code",
   "execution_count": 93,
   "id": "YcDUNSKUuDLF",
   "metadata": {
    "colab": {
     "background_save": true,
     "base_uri": "https://localhost:8080/"
    },
    "id": "YcDUNSKUuDLF",
    "outputId": "ea9e59f1-8ef1-45e1-a080-3bebd1d5d06b"
   },
   "outputs": [
    {
     "name": "stdout",
     "output_type": "stream",
     "text": [
      "(8523, 15) (8523,) (5681, 15)\n"
     ]
    }
   ],
   "source": [
    "print(scaled_x_train.shape,new_y_train.shape,scaled_x_test.shape)"
   ]
  },
  {
   "cell_type": "code",
   "execution_count": 94,
   "id": "4eb8c173",
   "metadata": {
    "colab": {
     "base_uri": "https://localhost:8080/"
    },
    "id": "4eb8c173",
    "outputId": "efaafeb8-4d95-4f76-fee5-d1daceee5e5c"
   },
   "outputs": [
    {
     "name": "stdout",
     "output_type": "stream",
     "text": [
      "MSE_train = 92.27205220750723\n",
      "RMSE_train = 9.605834279619195\n",
      "r2_score_train = 0.7262241619977101\n"
     ]
    }
   ],
   "source": [
    "model5.fit(scaled_x_train,new_y_train)\n",
    "y_train_pred=model5.predict(scaled_x_train)\n",
    "y_test_pred=model5.predict(scaled_x_test)\n",
    "MSE_train= mean_squared_error(new_y_train,y_train_pred)\n",
    "print('MSE_train =',MSE_train)\n",
    "RMSE_train=np.sqrt(MSE_train)\n",
    "print('RMSE_train =',RMSE_train)\n",
    "r2_score_train=r2_score(new_y_train,y_train_pred)\n",
    "print('r2_score_train =',r2_score_train)"
   ]
  },
  {
   "cell_type": "code",
   "execution_count": 95,
   "id": "f70237c4",
   "metadata": {
    "colab": {
     "base_uri": "https://localhost:8080/",
     "height": 112
    },
    "id": "f70237c4",
    "outputId": "800ab502-bf93-439c-8591-c297abab9eb5"
   },
   "outputs": [
    {
     "data": {
      "text/html": [
       "<div>\n",
       "<style scoped>\n",
       "    .dataframe tbody tr th:only-of-type {\n",
       "        vertical-align: middle;\n",
       "    }\n",
       "\n",
       "    .dataframe tbody tr th {\n",
       "        vertical-align: top;\n",
       "    }\n",
       "\n",
       "    .dataframe thead th {\n",
       "        text-align: right;\n",
       "    }\n",
       "</style>\n",
       "<table border=\"1\" class=\"dataframe\">\n",
       "  <thead>\n",
       "    <tr style=\"text-align: right;\">\n",
       "      <th></th>\n",
       "      <th>0</th>\n",
       "    </tr>\n",
       "  </thead>\n",
       "  <tbody>\n",
       "    <tr>\n",
       "      <th>0</th>\n",
       "      <td>1536.721680</td>\n",
       "    </tr>\n",
       "    <tr>\n",
       "      <th>1</th>\n",
       "      <td>1258.972305</td>\n",
       "    </tr>\n",
       "  </tbody>\n",
       "</table>\n",
       "</div>"
      ],
      "text/plain": [
       "             0\n",
       "0  1536.721680\n",
       "1  1258.972305"
      ]
     },
     "execution_count": 95,
     "metadata": {},
     "output_type": "execute_result"
    }
   ],
   "source": [
    "actual_test_pred=pd.DataFrame((y_test_pred)**2)\n",
    "actual_test_pred.head(2)"
   ]
  },
  {
   "cell_type": "code",
   "execution_count": 96,
   "id": "affdb98d",
   "metadata": {
    "colab": {
     "base_uri": "https://localhost:8080/"
    },
    "id": "affdb98d",
    "outputId": "aa5f91f0-8a0d-4e87-ce8f-0c7cec6692f4"
   },
   "outputs": [
    {
     "data": {
      "text/plain": [
       "array([['FDW58', 'OUT049'],\n",
       "       ['FDW14', 'OUT017'],\n",
       "       ['NCN55', 'OUT010'],\n",
       "       ...,\n",
       "       ['NCO17', 'OUT045'],\n",
       "       ['FDJ26', 'OUT017'],\n",
       "       ['FDU37', 'OUT045']], dtype=object)"
      ]
     },
     "execution_count": 96,
     "metadata": {},
     "output_type": "execute_result"
    }
   ],
   "source": [
    "df_sample = pd.read_csv('sample_submission_8RXa3c6.csv')\n",
    "df_name = pd.DataFrame(df_sample.values[:,:-1])\n",
    "df_name.values\n"
   ]
  },
  {
   "cell_type": "code",
   "execution_count": 97,
   "id": "1397146d",
   "metadata": {
    "colab": {
     "background_save": true
    },
    "id": "1397146d",
    "outputId": "38bcfd20-215a-4534-aa4f-1c1b08dce652"
   },
   "outputs": [
    {
     "data": {
      "text/html": [
       "<div>\n",
       "<style scoped>\n",
       "    .dataframe tbody tr th:only-of-type {\n",
       "        vertical-align: middle;\n",
       "    }\n",
       "\n",
       "    .dataframe tbody tr th {\n",
       "        vertical-align: top;\n",
       "    }\n",
       "\n",
       "    .dataframe thead th {\n",
       "        text-align: right;\n",
       "    }\n",
       "</style>\n",
       "<table border=\"1\" class=\"dataframe\">\n",
       "  <thead>\n",
       "    <tr style=\"text-align: right;\">\n",
       "      <th></th>\n",
       "      <th>0</th>\n",
       "      <th>1</th>\n",
       "      <th>0</th>\n",
       "    </tr>\n",
       "  </thead>\n",
       "  <tbody>\n",
       "    <tr>\n",
       "      <th>0</th>\n",
       "      <td>FDW58</td>\n",
       "      <td>OUT049</td>\n",
       "      <td>1536.721680</td>\n",
       "    </tr>\n",
       "    <tr>\n",
       "      <th>1</th>\n",
       "      <td>FDW14</td>\n",
       "      <td>OUT017</td>\n",
       "      <td>1258.972305</td>\n",
       "    </tr>\n",
       "    <tr>\n",
       "      <th>2</th>\n",
       "      <td>NCN55</td>\n",
       "      <td>OUT010</td>\n",
       "      <td>579.364205</td>\n",
       "    </tr>\n",
       "    <tr>\n",
       "      <th>3</th>\n",
       "      <td>FDQ58</td>\n",
       "      <td>OUT017</td>\n",
       "      <td>2235.071563</td>\n",
       "    </tr>\n",
       "    <tr>\n",
       "      <th>4</th>\n",
       "      <td>FDY38</td>\n",
       "      <td>OUT027</td>\n",
       "      <td>6014.935683</td>\n",
       "    </tr>\n",
       "    <tr>\n",
       "      <th>...</th>\n",
       "      <td>...</td>\n",
       "      <td>...</td>\n",
       "      <td>...</td>\n",
       "    </tr>\n",
       "    <tr>\n",
       "      <th>5676</th>\n",
       "      <td>FDB58</td>\n",
       "      <td>OUT046</td>\n",
       "      <td>2138.153794</td>\n",
       "    </tr>\n",
       "    <tr>\n",
       "      <th>5677</th>\n",
       "      <td>FDD47</td>\n",
       "      <td>OUT018</td>\n",
       "      <td>2324.100962</td>\n",
       "    </tr>\n",
       "    <tr>\n",
       "      <th>5678</th>\n",
       "      <td>NCO17</td>\n",
       "      <td>OUT045</td>\n",
       "      <td>1802.726284</td>\n",
       "    </tr>\n",
       "    <tr>\n",
       "      <th>5679</th>\n",
       "      <td>FDJ26</td>\n",
       "      <td>OUT017</td>\n",
       "      <td>3641.838314</td>\n",
       "    </tr>\n",
       "    <tr>\n",
       "      <th>5680</th>\n",
       "      <td>FDU37</td>\n",
       "      <td>OUT045</td>\n",
       "      <td>1281.509869</td>\n",
       "    </tr>\n",
       "  </tbody>\n",
       "</table>\n",
       "<p>5681 rows × 3 columns</p>\n",
       "</div>"
      ],
      "text/plain": [
       "          0       1            0\n",
       "0     FDW58  OUT049  1536.721680\n",
       "1     FDW14  OUT017  1258.972305\n",
       "2     NCN55  OUT010   579.364205\n",
       "3     FDQ58  OUT017  2235.071563\n",
       "4     FDY38  OUT027  6014.935683\n",
       "...     ...     ...          ...\n",
       "5676  FDB58  OUT046  2138.153794\n",
       "5677  FDD47  OUT018  2324.100962\n",
       "5678  NCO17  OUT045  1802.726284\n",
       "5679  FDJ26  OUT017  3641.838314\n",
       "5680  FDU37  OUT045  1281.509869\n",
       "\n",
       "[5681 rows x 3 columns]"
      ]
     },
     "execution_count": 97,
     "metadata": {},
     "output_type": "execute_result"
    }
   ],
   "source": [
    "Test_predicted = pd.concat([df_name,actual_test_pred],axis=1 )\n",
    "Test_predicted"
   ]
  },
  {
   "cell_type": "code",
   "execution_count": 98,
   "id": "fa583a5a",
   "metadata": {
    "id": "fa583a5a"
   },
   "outputs": [],
   "source": [
    "Test_predicted.columns = [\"Item_Identifier\", \"Outlet_Identifier\",\"Item_Outlet_Sales\"]"
   ]
  },
  {
   "cell_type": "code",
   "execution_count": 99,
   "id": "df102ca9",
   "metadata": {
    "id": "df102ca9"
   },
   "outputs": [
    {
     "data": {
      "text/html": [
       "<div>\n",
       "<style scoped>\n",
       "    .dataframe tbody tr th:only-of-type {\n",
       "        vertical-align: middle;\n",
       "    }\n",
       "\n",
       "    .dataframe tbody tr th {\n",
       "        vertical-align: top;\n",
       "    }\n",
       "\n",
       "    .dataframe thead th {\n",
       "        text-align: right;\n",
       "    }\n",
       "</style>\n",
       "<table border=\"1\" class=\"dataframe\">\n",
       "  <thead>\n",
       "    <tr style=\"text-align: right;\">\n",
       "      <th></th>\n",
       "      <th>Item_Identifier</th>\n",
       "      <th>Outlet_Identifier</th>\n",
       "      <th>Item_Outlet_Sales</th>\n",
       "    </tr>\n",
       "  </thead>\n",
       "  <tbody>\n",
       "    <tr>\n",
       "      <th>0</th>\n",
       "      <td>FDW58</td>\n",
       "      <td>OUT049</td>\n",
       "      <td>1536.721680</td>\n",
       "    </tr>\n",
       "    <tr>\n",
       "      <th>1</th>\n",
       "      <td>FDW14</td>\n",
       "      <td>OUT017</td>\n",
       "      <td>1258.972305</td>\n",
       "    </tr>\n",
       "    <tr>\n",
       "      <th>2</th>\n",
       "      <td>NCN55</td>\n",
       "      <td>OUT010</td>\n",
       "      <td>579.364205</td>\n",
       "    </tr>\n",
       "    <tr>\n",
       "      <th>3</th>\n",
       "      <td>FDQ58</td>\n",
       "      <td>OUT017</td>\n",
       "      <td>2235.071563</td>\n",
       "    </tr>\n",
       "    <tr>\n",
       "      <th>4</th>\n",
       "      <td>FDY38</td>\n",
       "      <td>OUT027</td>\n",
       "      <td>6014.935683</td>\n",
       "    </tr>\n",
       "  </tbody>\n",
       "</table>\n",
       "</div>"
      ],
      "text/plain": [
       "  Item_Identifier Outlet_Identifier  Item_Outlet_Sales\n",
       "0           FDW58            OUT049        1536.721680\n",
       "1           FDW14            OUT017        1258.972305\n",
       "2           NCN55            OUT010         579.364205\n",
       "3           FDQ58            OUT017        2235.071563\n",
       "4           FDY38            OUT027        6014.935683"
      ]
     },
     "execution_count": 99,
     "metadata": {},
     "output_type": "execute_result"
    }
   ],
   "source": [
    "Test_predicted.head()"
   ]
  },
  {
   "cell_type": "code",
   "execution_count": 100,
   "id": "65bcce66",
   "metadata": {
    "id": "65bcce66"
   },
   "outputs": [],
   "source": [
    "Test_predicted.to_csv('final_predicted_data.csv',index = False)"
   ]
  },
  {
   "cell_type": "markdown",
   "id": "ABQWoHs1FQX6",
   "metadata": {
    "id": "ABQWoHs1FQX6"
   },
   "source": [
    "Now Will perform is their any multicolinearity present in the data or not\n",
    "\n",
    "By using VIF[Variance Inflation Factor]"
   ]
  },
  {
   "cell_type": "code",
   "execution_count": 101,
   "id": "WebVPBJQNKoi",
   "metadata": {
    "id": "WebVPBJQNKoi"
   },
   "outputs": [
    {
     "data": {
      "text/html": [
       "<div>\n",
       "<style scoped>\n",
       "    .dataframe tbody tr th:only-of-type {\n",
       "        vertical-align: middle;\n",
       "    }\n",
       "\n",
       "    .dataframe tbody tr th {\n",
       "        vertical-align: top;\n",
       "    }\n",
       "\n",
       "    .dataframe thead th {\n",
       "        text-align: right;\n",
       "    }\n",
       "</style>\n",
       "<table border=\"1\" class=\"dataframe\">\n",
       "  <thead>\n",
       "    <tr style=\"text-align: right;\">\n",
       "      <th></th>\n",
       "      <th>Item_Weight</th>\n",
       "      <th>Item_Visibility</th>\n",
       "      <th>Item_MRP</th>\n",
       "      <th>age_of_store</th>\n",
       "      <th>Item_Fat_Content_Regular</th>\n",
       "      <th>Item_Fat_Content_others</th>\n",
       "      <th>Outlet_Size_Medium</th>\n",
       "      <th>Outlet_Size_Small</th>\n",
       "      <th>Outlet_Location_Type_Tier 2</th>\n",
       "      <th>Outlet_Location_Type_Tier 3</th>\n",
       "      <th>Outlet_Type_Supermarket Type1</th>\n",
       "      <th>Outlet_Type_Supermarket Type2</th>\n",
       "      <th>Outlet_Type_Supermarket Type3</th>\n",
       "      <th>New_Item_Identifier_FD</th>\n",
       "      <th>New_Item_Identifier_NC</th>\n",
       "    </tr>\n",
       "  </thead>\n",
       "  <tbody>\n",
       "    <tr>\n",
       "      <th>0</th>\n",
       "      <td>-0.769246</td>\n",
       "      <td>-1.111110</td>\n",
       "      <td>1.747454</td>\n",
       "      <td>-0.139541</td>\n",
       "      <td>-0.738147</td>\n",
       "      <td>-0.480558</td>\n",
       "      <td>1.504748</td>\n",
       "      <td>-1.238991</td>\n",
       "      <td>-0.696678</td>\n",
       "      <td>-0.804732</td>\n",
       "      <td>0.726802</td>\n",
       "      <td>-0.349551</td>\n",
       "      <td>-0.351028</td>\n",
       "      <td>0.625708</td>\n",
       "      <td>-0.480558</td>\n",
       "    </tr>\n",
       "    <tr>\n",
       "      <th>1</th>\n",
       "      <td>-1.496813</td>\n",
       "      <td>-1.044820</td>\n",
       "      <td>-1.489023</td>\n",
       "      <td>-1.334103</td>\n",
       "      <td>1.354743</td>\n",
       "      <td>-0.480558</td>\n",
       "      <td>1.504748</td>\n",
       "      <td>-1.238991</td>\n",
       "      <td>-0.696678</td>\n",
       "      <td>1.242650</td>\n",
       "      <td>-1.375891</td>\n",
       "      <td>2.860816</td>\n",
       "      <td>-0.351028</td>\n",
       "      <td>-1.598190</td>\n",
       "      <td>-0.480558</td>\n",
       "    </tr>\n",
       "    <tr>\n",
       "      <th>2</th>\n",
       "      <td>0.995858</td>\n",
       "      <td>-1.096486</td>\n",
       "      <td>0.010040</td>\n",
       "      <td>-0.139541</td>\n",
       "      <td>-0.738147</td>\n",
       "      <td>-0.480558</td>\n",
       "      <td>-0.664563</td>\n",
       "      <td>0.807109</td>\n",
       "      <td>-0.696678</td>\n",
       "      <td>-0.804732</td>\n",
       "      <td>0.726802</td>\n",
       "      <td>-0.349551</td>\n",
       "      <td>-0.351028</td>\n",
       "      <td>0.625708</td>\n",
       "      <td>-0.480558</td>\n",
       "    </tr>\n",
       "    <tr>\n",
       "      <th>3</th>\n",
       "      <td>1.361794</td>\n",
       "      <td>-0.087185</td>\n",
       "      <td>0.660050</td>\n",
       "      <td>-0.020085</td>\n",
       "      <td>1.354743</td>\n",
       "      <td>-0.480558</td>\n",
       "      <td>-0.664563</td>\n",
       "      <td>0.807109</td>\n",
       "      <td>-0.696678</td>\n",
       "      <td>1.242650</td>\n",
       "      <td>-1.375891</td>\n",
       "      <td>-0.349551</td>\n",
       "      <td>-0.351028</td>\n",
       "      <td>0.625708</td>\n",
       "      <td>-0.480558</td>\n",
       "    </tr>\n",
       "    <tr>\n",
       "      <th>4</th>\n",
       "      <td>-0.848890</td>\n",
       "      <td>-0.087185</td>\n",
       "      <td>-1.399220</td>\n",
       "      <td>1.293934</td>\n",
       "      <td>-0.738147</td>\n",
       "      <td>2.080915</td>\n",
       "      <td>-0.664563</td>\n",
       "      <td>-1.238991</td>\n",
       "      <td>-0.696678</td>\n",
       "      <td>1.242650</td>\n",
       "      <td>0.726802</td>\n",
       "      <td>-0.349551</td>\n",
       "      <td>-0.351028</td>\n",
       "      <td>-1.598190</td>\n",
       "      <td>2.080915</td>\n",
       "    </tr>\n",
       "  </tbody>\n",
       "</table>\n",
       "</div>"
      ],
      "text/plain": [
       "   Item_Weight  Item_Visibility  Item_MRP  age_of_store  \\\n",
       "0    -0.769246        -1.111110  1.747454     -0.139541   \n",
       "1    -1.496813        -1.044820 -1.489023     -1.334103   \n",
       "2     0.995858        -1.096486  0.010040     -0.139541   \n",
       "3     1.361794        -0.087185  0.660050     -0.020085   \n",
       "4    -0.848890        -0.087185 -1.399220      1.293934   \n",
       "\n",
       "   Item_Fat_Content_Regular  Item_Fat_Content_others  Outlet_Size_Medium  \\\n",
       "0                 -0.738147                -0.480558            1.504748   \n",
       "1                  1.354743                -0.480558            1.504748   \n",
       "2                 -0.738147                -0.480558           -0.664563   \n",
       "3                  1.354743                -0.480558           -0.664563   \n",
       "4                 -0.738147                 2.080915           -0.664563   \n",
       "\n",
       "   Outlet_Size_Small  Outlet_Location_Type_Tier 2  \\\n",
       "0          -1.238991                    -0.696678   \n",
       "1          -1.238991                    -0.696678   \n",
       "2           0.807109                    -0.696678   \n",
       "3           0.807109                    -0.696678   \n",
       "4          -1.238991                    -0.696678   \n",
       "\n",
       "   Outlet_Location_Type_Tier 3  Outlet_Type_Supermarket Type1  \\\n",
       "0                    -0.804732                       0.726802   \n",
       "1                     1.242650                      -1.375891   \n",
       "2                    -0.804732                       0.726802   \n",
       "3                     1.242650                      -1.375891   \n",
       "4                     1.242650                       0.726802   \n",
       "\n",
       "   Outlet_Type_Supermarket Type2  Outlet_Type_Supermarket Type3  \\\n",
       "0                      -0.349551                      -0.351028   \n",
       "1                       2.860816                      -0.351028   \n",
       "2                      -0.349551                      -0.351028   \n",
       "3                      -0.349551                      -0.351028   \n",
       "4                      -0.349551                      -0.351028   \n",
       "\n",
       "   New_Item_Identifier_FD  New_Item_Identifier_NC  \n",
       "0                0.625708               -0.480558  \n",
       "1               -1.598190               -0.480558  \n",
       "2                0.625708               -0.480558  \n",
       "3                0.625708               -0.480558  \n",
       "4               -1.598190                2.080915  "
      ]
     },
     "execution_count": 101,
     "metadata": {},
     "output_type": "execute_result"
    }
   ],
   "source": [
    "scaled_x_train.head()"
   ]
  },
  {
   "cell_type": "code",
   "execution_count": 102,
   "id": "YugpDbawFqHv",
   "metadata": {
    "id": "YugpDbawFqHv"
   },
   "outputs": [
    {
     "data": {
      "text/html": [
       "<div>\n",
       "<style scoped>\n",
       "    .dataframe tbody tr th:only-of-type {\n",
       "        vertical-align: middle;\n",
       "    }\n",
       "\n",
       "    .dataframe tbody tr th {\n",
       "        vertical-align: top;\n",
       "    }\n",
       "\n",
       "    .dataframe thead th {\n",
       "        text-align: right;\n",
       "    }\n",
       "</style>\n",
       "<table border=\"1\" class=\"dataframe\">\n",
       "  <thead>\n",
       "    <tr style=\"text-align: right;\">\n",
       "      <th></th>\n",
       "      <th>Feature</th>\n",
       "      <th>VIF</th>\n",
       "    </tr>\n",
       "  </thead>\n",
       "  <tbody>\n",
       "    <tr>\n",
       "      <th>0</th>\n",
       "      <td>Item_Weight</td>\n",
       "      <td>1.006786</td>\n",
       "    </tr>\n",
       "    <tr>\n",
       "      <th>1</th>\n",
       "      <td>Item_Visibility</td>\n",
       "      <td>1.107456</td>\n",
       "    </tr>\n",
       "    <tr>\n",
       "      <th>2</th>\n",
       "      <td>Item_MRP</td>\n",
       "      <td>1.003568</td>\n",
       "    </tr>\n",
       "    <tr>\n",
       "      <th>3</th>\n",
       "      <td>age_of_store</td>\n",
       "      <td>9.041291</td>\n",
       "    </tr>\n",
       "    <tr>\n",
       "      <th>4</th>\n",
       "      <td>Item_Fat_Content_Regular</td>\n",
       "      <td>1.222731</td>\n",
       "    </tr>\n",
       "    <tr>\n",
       "      <th>5</th>\n",
       "      <td>Item_Fat_Content_others</td>\n",
       "      <td>inf</td>\n",
       "    </tr>\n",
       "    <tr>\n",
       "      <th>6</th>\n",
       "      <td>Outlet_Size_Medium</td>\n",
       "      <td>16.538765</td>\n",
       "    </tr>\n",
       "    <tr>\n",
       "      <th>7</th>\n",
       "      <td>Outlet_Size_Small</td>\n",
       "      <td>12.819369</td>\n",
       "    </tr>\n",
       "    <tr>\n",
       "      <th>8</th>\n",
       "      <td>Outlet_Location_Type_Tier 2</td>\n",
       "      <td>4.548076</td>\n",
       "    </tr>\n",
       "    <tr>\n",
       "      <th>9</th>\n",
       "      <td>Outlet_Location_Type_Tier 3</td>\n",
       "      <td>5.389807</td>\n",
       "    </tr>\n",
       "    <tr>\n",
       "      <th>10</th>\n",
       "      <td>Outlet_Type_Supermarket Type1</td>\n",
       "      <td>5.108170</td>\n",
       "    </tr>\n",
       "    <tr>\n",
       "      <th>11</th>\n",
       "      <td>Outlet_Type_Supermarket Type2</td>\n",
       "      <td>5.853740</td>\n",
       "    </tr>\n",
       "    <tr>\n",
       "      <th>12</th>\n",
       "      <td>Outlet_Type_Supermarket Type3</td>\n",
       "      <td>6.283044</td>\n",
       "    </tr>\n",
       "    <tr>\n",
       "      <th>13</th>\n",
       "      <td>New_Item_Identifier_FD</td>\n",
       "      <td>2.617144</td>\n",
       "    </tr>\n",
       "    <tr>\n",
       "      <th>14</th>\n",
       "      <td>New_Item_Identifier_NC</td>\n",
       "      <td>inf</td>\n",
       "    </tr>\n",
       "  </tbody>\n",
       "</table>\n",
       "</div>"
      ],
      "text/plain": [
       "                          Feature        VIF\n",
       "0                     Item_Weight   1.006786\n",
       "1                 Item_Visibility   1.107456\n",
       "2                        Item_MRP   1.003568\n",
       "3                    age_of_store   9.041291\n",
       "4        Item_Fat_Content_Regular   1.222731\n",
       "5         Item_Fat_Content_others        inf\n",
       "6              Outlet_Size_Medium  16.538765\n",
       "7               Outlet_Size_Small  12.819369\n",
       "8     Outlet_Location_Type_Tier 2   4.548076\n",
       "9     Outlet_Location_Type_Tier 3   5.389807\n",
       "10  Outlet_Type_Supermarket Type1   5.108170\n",
       "11  Outlet_Type_Supermarket Type2   5.853740\n",
       "12  Outlet_Type_Supermarket Type3   6.283044\n",
       "13         New_Item_Identifier_FD   2.617144\n",
       "14         New_Item_Identifier_NC        inf"
      ]
     },
     "execution_count": 102,
     "metadata": {},
     "output_type": "execute_result"
    }
   ],
   "source": [
    "from statsmodels.stats.outliers_influence import variance_inflation_factor\n",
    "\n",
    "data_vif=pd.DataFrame()\n",
    "data_vif['Feature']=scaled_x_train.columns\n",
    "\n",
    "data_vif['VIF']=[variance_inflation_factor(scaled_x_train.values,i)  for i in range(len(scaled_x_train.columns))]\n",
    "data_vif"
   ]
  },
  {
   "cell_type": "code",
   "execution_count": 103,
   "id": "fAZc3ynoLehY",
   "metadata": {
    "id": "fAZc3ynoLehY"
   },
   "outputs": [],
   "source": [
    "X_train=scaled_x_train.copy(deep=True)\n",
    "X_test=scaled_x_test.copy(deep=True)"
   ]
  },
  {
   "cell_type": "code",
   "execution_count": 104,
   "id": "g_F2_AibFp-8",
   "metadata": {
    "id": "g_F2_AibFp-8"
   },
   "outputs": [],
   "source": [
    "X_train.drop(['Item_Fat_Content_others','New_Item_Identifier_NC'],axis=1,inplace=True)"
   ]
  },
  {
   "cell_type": "code",
   "execution_count": 105,
   "id": "B_AucsBQFp1t",
   "metadata": {
    "id": "B_AucsBQFp1t"
   },
   "outputs": [],
   "source": [
    "X_test.drop(['Item_Fat_Content_others','New_Item_Identifier_NC'],axis=1,inplace=True)"
   ]
  },
  {
   "cell_type": "code",
   "execution_count": 106,
   "id": "SRki9nybFpvM",
   "metadata": {
    "id": "SRki9nybFpvM"
   },
   "outputs": [
    {
     "name": "stdout",
     "output_type": "stream",
     "text": [
      "MSE_train = 92.27406256281054\n",
      "RMSE_train = 9.605938921459503\n",
      "r2_score_train = 0.7262181971720161\n"
     ]
    }
   ],
   "source": [
    "model5.fit(X_train,new_y_train)\n",
    "y_train_pred=model5.predict(X_train)\n",
    "y_test_pred=model5.predict(X_test)\n",
    "MSE_train= mean_squared_error(new_y_train,y_train_pred)\n",
    "print('MSE_train =',MSE_train)\n",
    "RMSE_train=np.sqrt(MSE_train)\n",
    "print('RMSE_train =',RMSE_train)\n",
    "r2_score_train=r2_score(new_y_train,y_train_pred)\n",
    "print('r2_score_train =',r2_score_train)"
   ]
  },
  {
   "cell_type": "code",
   "execution_count": 107,
   "id": "i69pr_X0Fppd",
   "metadata": {
    "id": "i69pr_X0Fppd"
   },
   "outputs": [
    {
     "data": {
      "text/plain": [
       "array([1505.44815789, 1267.8812687 ,  565.44960635, 2205.62939953,\n",
       "       6061.69903169])"
      ]
     },
     "execution_count": 107,
     "metadata": {},
     "output_type": "execute_result"
    }
   ],
   "source": [
    "y_test_pred[:5]**2"
   ]
  },
  {
   "cell_type": "code",
   "execution_count": 108,
   "id": "PjYkjr7XFpbo",
   "metadata": {
    "colab": {
     "background_save": true
    },
    "id": "PjYkjr7XFpbo"
   },
   "outputs": [],
   "source": [
    "Rand = RandomForestRegressor(n_estimators = 500) \n",
    "random_forest = Rand.fit(X_train, new_y_train)"
   ]
  },
  {
   "cell_type": "code",
   "execution_count": 109,
   "id": "d5hO0cgUFpVl",
   "metadata": {
    "colab": {
     "background_save": true
    },
    "id": "d5hO0cgUFpVl"
   },
   "outputs": [],
   "source": [
    "data = pd.DataFrame({'feature': list(X_train.columns),\n",
    "                   'importance': random_forest.feature_importances_*100}).\\\n",
    "                    sort_values('importance', ascending = False)"
   ]
  },
  {
   "cell_type": "code",
   "execution_count": 110,
   "id": "S8f7b-VfQOIk",
   "metadata": {
    "colab": {
     "background_save": true
    },
    "id": "S8f7b-VfQOIk",
    "outputId": "76d4ef89-831e-4ee5-9ebd-7984edc05261"
   },
   "outputs": [
    {
     "data": {
      "text/html": [
       "<div>\n",
       "<style scoped>\n",
       "    .dataframe tbody tr th:only-of-type {\n",
       "        vertical-align: middle;\n",
       "    }\n",
       "\n",
       "    .dataframe tbody tr th {\n",
       "        vertical-align: top;\n",
       "    }\n",
       "\n",
       "    .dataframe thead th {\n",
       "        text-align: right;\n",
       "    }\n",
       "</style>\n",
       "<table border=\"1\" class=\"dataframe\">\n",
       "  <thead>\n",
       "    <tr style=\"text-align: right;\">\n",
       "      <th></th>\n",
       "      <th>feature</th>\n",
       "      <th>importance</th>\n",
       "    </tr>\n",
       "  </thead>\n",
       "  <tbody>\n",
       "    <tr>\n",
       "      <th>2</th>\n",
       "      <td>Item_MRP</td>\n",
       "      <td>43.021820</td>\n",
       "    </tr>\n",
       "    <tr>\n",
       "      <th>9</th>\n",
       "      <td>Outlet_Type_Supermarket Type1</td>\n",
       "      <td>15.050190</td>\n",
       "    </tr>\n",
       "    <tr>\n",
       "      <th>1</th>\n",
       "      <td>Item_Visibility</td>\n",
       "      <td>9.470614</td>\n",
       "    </tr>\n",
       "    <tr>\n",
       "      <th>11</th>\n",
       "      <td>Outlet_Type_Supermarket Type3</td>\n",
       "      <td>8.791658</td>\n",
       "    </tr>\n",
       "    <tr>\n",
       "      <th>0</th>\n",
       "      <td>Item_Weight</td>\n",
       "      <td>7.145685</td>\n",
       "    </tr>\n",
       "    <tr>\n",
       "      <th>5</th>\n",
       "      <td>Outlet_Size_Medium</td>\n",
       "      <td>4.465180</td>\n",
       "    </tr>\n",
       "    <tr>\n",
       "      <th>10</th>\n",
       "      <td>Outlet_Type_Supermarket Type2</td>\n",
       "      <td>4.167858</td>\n",
       "    </tr>\n",
       "    <tr>\n",
       "      <th>3</th>\n",
       "      <td>age_of_store</td>\n",
       "      <td>3.690592</td>\n",
       "    </tr>\n",
       "    <tr>\n",
       "      <th>6</th>\n",
       "      <td>Outlet_Size_Small</td>\n",
       "      <td>1.937940</td>\n",
       "    </tr>\n",
       "    <tr>\n",
       "      <th>4</th>\n",
       "      <td>Item_Fat_Content_Regular</td>\n",
       "      <td>0.837853</td>\n",
       "    </tr>\n",
       "    <tr>\n",
       "      <th>12</th>\n",
       "      <td>New_Item_Identifier_FD</td>\n",
       "      <td>0.773828</td>\n",
       "    </tr>\n",
       "    <tr>\n",
       "      <th>7</th>\n",
       "      <td>Outlet_Location_Type_Tier 2</td>\n",
       "      <td>0.331898</td>\n",
       "    </tr>\n",
       "    <tr>\n",
       "      <th>8</th>\n",
       "      <td>Outlet_Location_Type_Tier 3</td>\n",
       "      <td>0.314882</td>\n",
       "    </tr>\n",
       "  </tbody>\n",
       "</table>\n",
       "</div>"
      ],
      "text/plain": [
       "                          feature  importance\n",
       "2                        Item_MRP   43.021820\n",
       "9   Outlet_Type_Supermarket Type1   15.050190\n",
       "1                 Item_Visibility    9.470614\n",
       "11  Outlet_Type_Supermarket Type3    8.791658\n",
       "0                     Item_Weight    7.145685\n",
       "5              Outlet_Size_Medium    4.465180\n",
       "10  Outlet_Type_Supermarket Type2    4.167858\n",
       "3                    age_of_store    3.690592\n",
       "6               Outlet_Size_Small    1.937940\n",
       "4        Item_Fat_Content_Regular    0.837853\n",
       "12         New_Item_Identifier_FD    0.773828\n",
       "7     Outlet_Location_Type_Tier 2    0.331898\n",
       "8     Outlet_Location_Type_Tier 3    0.314882"
      ]
     },
     "execution_count": 110,
     "metadata": {},
     "output_type": "execute_result"
    }
   ],
   "source": [
    "data"
   ]
  },
  {
   "cell_type": "code",
   "execution_count": 111,
   "id": "n3on5MobQmY8",
   "metadata": {
    "colab": {
     "background_save": true
    },
    "id": "n3on5MobQmY8",
    "outputId": "cf0fcfe8-6b0e-41da-db4e-a86d39422ef0"
   },
   "outputs": [
    {
     "data": {
      "text/plain": [
       "array(['Item_MRP', 'Outlet_Type_Supermarket Type1', 'Item_Visibility',\n",
       "       'Outlet_Type_Supermarket Type3', 'Item_Weight',\n",
       "       'Outlet_Size_Medium', 'Outlet_Type_Supermarket Type2',\n",
       "       'age_of_store', 'Outlet_Size_Small'], dtype=object)"
      ]
     },
     "execution_count": 111,
     "metadata": {},
     "output_type": "execute_result"
    }
   ],
   "source": [
    "# we can build the model by keeping only the important features which are contributing more to the target [Status]\n",
    "\n",
    "important_features=data.feature[data['importance']>1].values\n",
    "important_features"
   ]
  },
  {
   "cell_type": "code",
   "execution_count": 112,
   "id": "coORoRWuQmE8",
   "metadata": {
    "colab": {
     "background_save": true
    },
    "id": "coORoRWuQmE8"
   },
   "outputs": [],
   "source": [
    "new_X_train=X_train[important_features]\n",
    "new_X_test=X_test[important_features]\n"
   ]
  },
  {
   "cell_type": "code",
   "execution_count": 113,
   "id": "csOnS9_1Qlwm",
   "metadata": {
    "id": "csOnS9_1Qlwm"
   },
   "outputs": [
    {
     "name": "stdout",
     "output_type": "stream",
     "text": [
      "MSE_train = 92.4208786827367\n",
      "RMSE_train = 9.613577829441892\n",
      "r2_score_train = 0.725782586330993\n"
     ]
    }
   ],
   "source": [
    "model5.fit(new_X_train,new_y_train)\n",
    "y_train_pred=model5.predict(new_X_train)\n",
    "y_test_pred=model5.predict(new_X_test)\n",
    "MSE_train= mean_squared_error(new_y_train,y_train_pred)\n",
    "print('MSE_train =',MSE_train)\n",
    "RMSE_train=np.sqrt(MSE_train)\n",
    "print('RMSE_train =',RMSE_train)\n",
    "r2_score_train=r2_score(new_y_train,y_train_pred)\n",
    "print('r2_score_train =',r2_score_train)"
   ]
  },
  {
   "cell_type": "markdown",
   "id": "ADlXdZmQTumV",
   "metadata": {
    "id": "ADlXdZmQTumV"
   },
   "source": [
    "Now will Perform Hyperparametertuning to imporve the accracy of the model "
   ]
  },
  {
   "cell_type": "code",
   "execution_count": 114,
   "id": "TpxzRsMJTbML",
   "metadata": {
    "id": "TpxzRsMJTbML"
   },
   "outputs": [],
   "source": [
    "from sklearn.model_selection import GridSearchCV\n",
    "# Create the parameter grid based on the results of random search \n",
    "param_grid = {\n",
    "    'bootstrap': [True],\n",
    "    'max_depth': [80, 90, 100, 110],\n",
    "    'max_features': [2, 3],\n",
    "    'min_samples_leaf': [3, 4, 5],\n",
    "    'min_samples_split': [8, 10, 12],\n",
    "    'n_estimators': [100, 200, 300]\n",
    "}\n",
    "# Create a based model\n",
    "rf = RandomForestRegressor()\n",
    "# Instantiate the grid search model\n",
    "grid_search = GridSearchCV(estimator = rf, param_grid = param_grid, \n",
    "                          cv = 5, n_jobs = -1, verbose = 2)"
   ]
  },
  {
   "cell_type": "code",
   "execution_count": 115,
   "id": "-kDu7ie8TgU8",
   "metadata": {
    "colab": {
     "background_save": true
    },
    "id": "-kDu7ie8TgU8",
    "outputId": "0ecdac46-102d-4541-ee95-87cd95e7117b"
   },
   "outputs": [
    {
     "name": "stdout",
     "output_type": "stream",
     "text": [
      "Fitting 5 folds for each of 216 candidates, totalling 1080 fits\n"
     ]
    },
    {
     "data": {
      "text/html": [
       "<style>#sk-container-id-1 {color: black;background-color: white;}#sk-container-id-1 pre{padding: 0;}#sk-container-id-1 div.sk-toggleable {background-color: white;}#sk-container-id-1 label.sk-toggleable__label {cursor: pointer;display: block;width: 100%;margin-bottom: 0;padding: 0.3em;box-sizing: border-box;text-align: center;}#sk-container-id-1 label.sk-toggleable__label-arrow:before {content: \"▸\";float: left;margin-right: 0.25em;color: #696969;}#sk-container-id-1 label.sk-toggleable__label-arrow:hover:before {color: black;}#sk-container-id-1 div.sk-estimator:hover label.sk-toggleable__label-arrow:before {color: black;}#sk-container-id-1 div.sk-toggleable__content {max-height: 0;max-width: 0;overflow: hidden;text-align: left;background-color: #f0f8ff;}#sk-container-id-1 div.sk-toggleable__content pre {margin: 0.2em;color: black;border-radius: 0.25em;background-color: #f0f8ff;}#sk-container-id-1 input.sk-toggleable__control:checked~div.sk-toggleable__content {max-height: 200px;max-width: 100%;overflow: auto;}#sk-container-id-1 input.sk-toggleable__control:checked~label.sk-toggleable__label-arrow:before {content: \"▾\";}#sk-container-id-1 div.sk-estimator input.sk-toggleable__control:checked~label.sk-toggleable__label {background-color: #d4ebff;}#sk-container-id-1 div.sk-label input.sk-toggleable__control:checked~label.sk-toggleable__label {background-color: #d4ebff;}#sk-container-id-1 input.sk-hidden--visually {border: 0;clip: rect(1px 1px 1px 1px);clip: rect(1px, 1px, 1px, 1px);height: 1px;margin: -1px;overflow: hidden;padding: 0;position: absolute;width: 1px;}#sk-container-id-1 div.sk-estimator {font-family: monospace;background-color: #f0f8ff;border: 1px dotted black;border-radius: 0.25em;box-sizing: border-box;margin-bottom: 0.5em;}#sk-container-id-1 div.sk-estimator:hover {background-color: #d4ebff;}#sk-container-id-1 div.sk-parallel-item::after {content: \"\";width: 100%;border-bottom: 1px solid gray;flex-grow: 1;}#sk-container-id-1 div.sk-label:hover label.sk-toggleable__label {background-color: #d4ebff;}#sk-container-id-1 div.sk-serial::before {content: \"\";position: absolute;border-left: 1px solid gray;box-sizing: border-box;top: 0;bottom: 0;left: 50%;z-index: 0;}#sk-container-id-1 div.sk-serial {display: flex;flex-direction: column;align-items: center;background-color: white;padding-right: 0.2em;padding-left: 0.2em;position: relative;}#sk-container-id-1 div.sk-item {position: relative;z-index: 1;}#sk-container-id-1 div.sk-parallel {display: flex;align-items: stretch;justify-content: center;background-color: white;position: relative;}#sk-container-id-1 div.sk-item::before, #sk-container-id-1 div.sk-parallel-item::before {content: \"\";position: absolute;border-left: 1px solid gray;box-sizing: border-box;top: 0;bottom: 0;left: 50%;z-index: -1;}#sk-container-id-1 div.sk-parallel-item {display: flex;flex-direction: column;z-index: 1;position: relative;background-color: white;}#sk-container-id-1 div.sk-parallel-item:first-child::after {align-self: flex-end;width: 50%;}#sk-container-id-1 div.sk-parallel-item:last-child::after {align-self: flex-start;width: 50%;}#sk-container-id-1 div.sk-parallel-item:only-child::after {width: 0;}#sk-container-id-1 div.sk-dashed-wrapped {border: 1px dashed gray;margin: 0 0.4em 0.5em 0.4em;box-sizing: border-box;padding-bottom: 0.4em;background-color: white;}#sk-container-id-1 div.sk-label label {font-family: monospace;font-weight: bold;display: inline-block;line-height: 1.2em;}#sk-container-id-1 div.sk-label-container {text-align: center;}#sk-container-id-1 div.sk-container {/* jupyter's `normalize.less` sets `[hidden] { display: none; }` but bootstrap.min.css set `[hidden] { display: none !important; }` so we also need the `!important` here to be able to override the default hidden behavior on the sphinx rendered scikit-learn.org. See: https://github.com/scikit-learn/scikit-learn/issues/21755 */display: inline-block !important;position: relative;}#sk-container-id-1 div.sk-text-repr-fallback {display: none;}</style><div id=\"sk-container-id-1\" class=\"sk-top-container\"><div class=\"sk-text-repr-fallback\"><pre>GridSearchCV(cv=5, estimator=RandomForestRegressor(), n_jobs=-1,\n",
       "             param_grid={&#x27;bootstrap&#x27;: [True], &#x27;max_depth&#x27;: [80, 90, 100, 110],\n",
       "                         &#x27;max_features&#x27;: [2, 3], &#x27;min_samples_leaf&#x27;: [3, 4, 5],\n",
       "                         &#x27;min_samples_split&#x27;: [8, 10, 12],\n",
       "                         &#x27;n_estimators&#x27;: [100, 200, 300]},\n",
       "             verbose=2)</pre><b>In a Jupyter environment, please rerun this cell to show the HTML representation or trust the notebook. <br />On GitHub, the HTML representation is unable to render, please try loading this page with nbviewer.org.</b></div><div class=\"sk-container\" hidden><div class=\"sk-item sk-dashed-wrapped\"><div class=\"sk-label-container\"><div class=\"sk-label sk-toggleable\"><input class=\"sk-toggleable__control sk-hidden--visually\" id=\"sk-estimator-id-1\" type=\"checkbox\" ><label for=\"sk-estimator-id-1\" class=\"sk-toggleable__label sk-toggleable__label-arrow\">GridSearchCV</label><div class=\"sk-toggleable__content\"><pre>GridSearchCV(cv=5, estimator=RandomForestRegressor(), n_jobs=-1,\n",
       "             param_grid={&#x27;bootstrap&#x27;: [True], &#x27;max_depth&#x27;: [80, 90, 100, 110],\n",
       "                         &#x27;max_features&#x27;: [2, 3], &#x27;min_samples_leaf&#x27;: [3, 4, 5],\n",
       "                         &#x27;min_samples_split&#x27;: [8, 10, 12],\n",
       "                         &#x27;n_estimators&#x27;: [100, 200, 300]},\n",
       "             verbose=2)</pre></div></div></div><div class=\"sk-parallel\"><div class=\"sk-parallel-item\"><div class=\"sk-item\"><div class=\"sk-label-container\"><div class=\"sk-label sk-toggleable\"><input class=\"sk-toggleable__control sk-hidden--visually\" id=\"sk-estimator-id-2\" type=\"checkbox\" ><label for=\"sk-estimator-id-2\" class=\"sk-toggleable__label sk-toggleable__label-arrow\">estimator: RandomForestRegressor</label><div class=\"sk-toggleable__content\"><pre>RandomForestRegressor()</pre></div></div></div><div class=\"sk-serial\"><div class=\"sk-item\"><div class=\"sk-estimator sk-toggleable\"><input class=\"sk-toggleable__control sk-hidden--visually\" id=\"sk-estimator-id-3\" type=\"checkbox\" ><label for=\"sk-estimator-id-3\" class=\"sk-toggleable__label sk-toggleable__label-arrow\">RandomForestRegressor</label><div class=\"sk-toggleable__content\"><pre>RandomForestRegressor()</pre></div></div></div></div></div></div></div></div></div></div>"
      ],
      "text/plain": [
       "GridSearchCV(cv=5, estimator=RandomForestRegressor(), n_jobs=-1,\n",
       "             param_grid={'bootstrap': [True], 'max_depth': [80, 90, 100, 110],\n",
       "                         'max_features': [2, 3], 'min_samples_leaf': [3, 4, 5],\n",
       "                         'min_samples_split': [8, 10, 12],\n",
       "                         'n_estimators': [100, 200, 300]},\n",
       "             verbose=2)"
      ]
     },
     "execution_count": 115,
     "metadata": {},
     "output_type": "execute_result"
    }
   ],
   "source": [
    "grid_search.fit(new_X_train,new_y_train)"
   ]
  },
  {
   "cell_type": "code",
   "execution_count": 116,
   "id": "p1yEw041Tj9m",
   "metadata": {
    "colab": {
     "background_save": true
    },
    "id": "p1yEw041Tj9m",
    "outputId": "292cdb6e-91b6-400f-e4f0-b709647e1f66"
   },
   "outputs": [
    {
     "data": {
      "text/plain": [
       "{'bootstrap': True,\n",
       " 'max_depth': 80,\n",
       " 'max_features': 3,\n",
       " 'min_samples_leaf': 5,\n",
       " 'min_samples_split': 12,\n",
       " 'n_estimators': 300}"
      ]
     },
     "execution_count": 116,
     "metadata": {},
     "output_type": "execute_result"
    }
   ],
   "source": [
    "grid_search.best_params_"
   ]
  },
  {
   "cell_type": "code",
   "execution_count": 117,
   "id": "-LubmkznX4mm",
   "metadata": {
    "colab": {
     "background_save": true
    },
    "id": "-LubmkznX4mm",
    "outputId": "eb1a3b1b-6fab-4b97-e168-a70362a4cf99"
   },
   "outputs": [
    {
     "name": "stdout",
     "output_type": "stream",
     "text": [
      "MSE_train = 70.94258584305435\n",
      "RMSE_train = 8.422742180730356\n",
      "r2_score_train = 0.7895097656920717\n"
     ]
    }
   ],
   "source": [
    "model6=RandomForestRegressor(bootstrap=True,max_depth=100,max_features=3,min_samples_leaf=5,min_samples_split=12,n_estimators=300)\n",
    "model6.fit(new_X_train,new_y_train)\n",
    "y_train_pred=model6.predict(new_X_train)\n",
    "y_test_pred=model6.predict(new_X_test)\n",
    "MSE_train= mean_squared_error(new_y_train,y_train_pred)\n",
    "print('MSE_train =',MSE_train)\n",
    "RMSE_train=np.sqrt(MSE_train)\n",
    "print('RMSE_train =',RMSE_train)\n",
    "r2_score_train=r2_score(new_y_train,y_train_pred)\n",
    "print('r2_score_train =',r2_score_train)"
   ]
  },
  {
   "cell_type": "code",
   "execution_count": 118,
   "id": "z7uARjS5X4hl",
   "metadata": {
    "colab": {
     "background_save": true
    },
    "id": "z7uARjS5X4hl",
    "outputId": "7adc4f58-3325-4b2d-c5f7-cdc651a9e143"
   },
   "outputs": [
    {
     "data": {
      "text/plain": [
       "array([1627.11764144, 1231.55410361,  521.8500937 , 2021.22103876])"
      ]
     },
     "execution_count": 118,
     "metadata": {},
     "output_type": "execute_result"
    }
   ],
   "source": [
    "y_test_pred[:4]**2"
   ]
  },
  {
   "cell_type": "code",
   "execution_count": 119,
   "id": "W07UVF8KYn_v",
   "metadata": {
    "colab": {
     "background_save": true
    },
    "id": "W07UVF8KYn_v",
    "outputId": "f92b86d7-2aac-4c78-c84f-20df32788a38"
   },
   "outputs": [
    {
     "data": {
      "text/html": [
       "<div>\n",
       "<style scoped>\n",
       "    .dataframe tbody tr th:only-of-type {\n",
       "        vertical-align: middle;\n",
       "    }\n",
       "\n",
       "    .dataframe tbody tr th {\n",
       "        vertical-align: top;\n",
       "    }\n",
       "\n",
       "    .dataframe thead th {\n",
       "        text-align: right;\n",
       "    }\n",
       "</style>\n",
       "<table border=\"1\" class=\"dataframe\">\n",
       "  <thead>\n",
       "    <tr style=\"text-align: right;\">\n",
       "      <th></th>\n",
       "      <th>0</th>\n",
       "    </tr>\n",
       "  </thead>\n",
       "  <tbody>\n",
       "    <tr>\n",
       "      <th>0</th>\n",
       "      <td>1627.117641</td>\n",
       "    </tr>\n",
       "    <tr>\n",
       "      <th>1</th>\n",
       "      <td>1231.554104</td>\n",
       "    </tr>\n",
       "  </tbody>\n",
       "</table>\n",
       "</div>"
      ],
      "text/plain": [
       "             0\n",
       "0  1627.117641\n",
       "1  1231.554104"
      ]
     },
     "execution_count": 119,
     "metadata": {},
     "output_type": "execute_result"
    }
   ],
   "source": [
    "actual_test_pred=pd.DataFrame((y_test_pred)**2)\n",
    "actual_test_pred.head(2)\n"
   ]
  },
  {
   "cell_type": "code",
   "execution_count": 120,
   "id": "LTgkB8asZSRl",
   "metadata": {
    "colab": {
     "background_save": true
    },
    "id": "LTgkB8asZSRl",
    "outputId": "a8770db6-1fba-446f-befd-a7af54017f44"
   },
   "outputs": [
    {
     "data": {
      "text/html": [
       "<div>\n",
       "<style scoped>\n",
       "    .dataframe tbody tr th:only-of-type {\n",
       "        vertical-align: middle;\n",
       "    }\n",
       "\n",
       "    .dataframe tbody tr th {\n",
       "        vertical-align: top;\n",
       "    }\n",
       "\n",
       "    .dataframe thead th {\n",
       "        text-align: right;\n",
       "    }\n",
       "</style>\n",
       "<table border=\"1\" class=\"dataframe\">\n",
       "  <thead>\n",
       "    <tr style=\"text-align: right;\">\n",
       "      <th></th>\n",
       "      <th>0</th>\n",
       "      <th>1</th>\n",
       "      <th>0</th>\n",
       "    </tr>\n",
       "  </thead>\n",
       "  <tbody>\n",
       "    <tr>\n",
       "      <th>0</th>\n",
       "      <td>FDW58</td>\n",
       "      <td>OUT049</td>\n",
       "      <td>1627.117641</td>\n",
       "    </tr>\n",
       "    <tr>\n",
       "      <th>1</th>\n",
       "      <td>FDW14</td>\n",
       "      <td>OUT017</td>\n",
       "      <td>1231.554104</td>\n",
       "    </tr>\n",
       "    <tr>\n",
       "      <th>2</th>\n",
       "      <td>NCN55</td>\n",
       "      <td>OUT010</td>\n",
       "      <td>521.850094</td>\n",
       "    </tr>\n",
       "    <tr>\n",
       "      <th>3</th>\n",
       "      <td>FDQ58</td>\n",
       "      <td>OUT017</td>\n",
       "      <td>2021.221039</td>\n",
       "    </tr>\n",
       "    <tr>\n",
       "      <th>4</th>\n",
       "      <td>FDY38</td>\n",
       "      <td>OUT027</td>\n",
       "      <td>5588.351884</td>\n",
       "    </tr>\n",
       "    <tr>\n",
       "      <th>...</th>\n",
       "      <td>...</td>\n",
       "      <td>...</td>\n",
       "      <td>...</td>\n",
       "    </tr>\n",
       "    <tr>\n",
       "      <th>5676</th>\n",
       "      <td>FDB58</td>\n",
       "      <td>OUT046</td>\n",
       "      <td>1950.855897</td>\n",
       "    </tr>\n",
       "    <tr>\n",
       "      <th>5677</th>\n",
       "      <td>FDD47</td>\n",
       "      <td>OUT018</td>\n",
       "      <td>2331.783755</td>\n",
       "    </tr>\n",
       "    <tr>\n",
       "      <th>5678</th>\n",
       "      <td>NCO17</td>\n",
       "      <td>OUT045</td>\n",
       "      <td>1596.150854</td>\n",
       "    </tr>\n",
       "    <tr>\n",
       "      <th>5679</th>\n",
       "      <td>FDJ26</td>\n",
       "      <td>OUT017</td>\n",
       "      <td>3470.260762</td>\n",
       "    </tr>\n",
       "    <tr>\n",
       "      <th>5680</th>\n",
       "      <td>FDU37</td>\n",
       "      <td>OUT045</td>\n",
       "      <td>1339.234950</td>\n",
       "    </tr>\n",
       "  </tbody>\n",
       "</table>\n",
       "<p>5681 rows × 3 columns</p>\n",
       "</div>"
      ],
      "text/plain": [
       "          0       1            0\n",
       "0     FDW58  OUT049  1627.117641\n",
       "1     FDW14  OUT017  1231.554104\n",
       "2     NCN55  OUT010   521.850094\n",
       "3     FDQ58  OUT017  2021.221039\n",
       "4     FDY38  OUT027  5588.351884\n",
       "...     ...     ...          ...\n",
       "5676  FDB58  OUT046  1950.855897\n",
       "5677  FDD47  OUT018  2331.783755\n",
       "5678  NCO17  OUT045  1596.150854\n",
       "5679  FDJ26  OUT017  3470.260762\n",
       "5680  FDU37  OUT045  1339.234950\n",
       "\n",
       "[5681 rows x 3 columns]"
      ]
     },
     "execution_count": 120,
     "metadata": {},
     "output_type": "execute_result"
    }
   ],
   "source": [
    "Test_predicted = pd.concat([df_name,actual_test_pred],axis=1 )\n",
    "Test_predicted\n"
   ]
  },
  {
   "cell_type": "code",
   "execution_count": 121,
   "id": "Oteok6oZZSKM",
   "metadata": {
    "colab": {
     "background_save": true
    },
    "id": "Oteok6oZZSKM"
   },
   "outputs": [],
   "source": [
    "Test_predicted.columns = [\"Item_Identifier\", \"Outlet_Identifier\",\"Item_Outlet_Sales\"]\n"
   ]
  },
  {
   "cell_type": "code",
   "execution_count": 122,
   "id": "Ao5p-kszZSBC",
   "metadata": {
    "colab": {
     "background_save": true
    },
    "id": "Ao5p-kszZSBC"
   },
   "outputs": [],
   "source": [
    "Test_predicted.to_csv('new_final_predicted_data.csv',index = False)\n"
   ]
  },
  {
   "cell_type": "markdown",
   "id": "O9VkN80HcF7n",
   "metadata": {
    "id": "O9VkN80HcF7n"
   },
   "source": [
    "Now will perform PCA"
   ]
  },
  {
   "cell_type": "markdown",
   "id": "L4GAiv_ecTRF",
   "metadata": {
    "id": "L4GAiv_ecTRF"
   },
   "source": [
    "we want to perform from here if we want to improvise our model till now i got 78.94% accuracy after performing hyperparameter tuning and we have selected only few features to build the model to over come curse of dimentionality "
   ]
  },
  {
   "cell_type": "code",
   "execution_count": null,
   "id": "rhgIdbf3cShz",
   "metadata": {
    "colab": {
     "background_save": true
    },
    "id": "rhgIdbf3cShz"
   },
   "outputs": [],
   "source": []
  },
  {
   "cell_type": "code",
   "execution_count": 123,
   "id": "d18b6253",
   "metadata": {
    "colab": {
     "background_save": true
    },
    "id": "d18b6253"
   },
   "outputs": [],
   "source": [
    "# Performing the pca\n",
    "from sklearn.preprocessing import StandardScaler"
   ]
  },
  {
   "cell_type": "code",
   "execution_count": 124,
   "id": "3c4ea089",
   "metadata": {
    "colab": {
     "background_save": true
    },
    "id": "3c4ea089",
    "outputId": "1649b38b-d8ff-4517-d7d6-f24dd3e22e9a"
   },
   "outputs": [
    {
     "data": {
      "text/html": [
       "<div>\n",
       "<style scoped>\n",
       "    .dataframe tbody tr th:only-of-type {\n",
       "        vertical-align: middle;\n",
       "    }\n",
       "\n",
       "    .dataframe tbody tr th {\n",
       "        vertical-align: top;\n",
       "    }\n",
       "\n",
       "    .dataframe thead th {\n",
       "        text-align: right;\n",
       "    }\n",
       "</style>\n",
       "<table border=\"1\" class=\"dataframe\">\n",
       "  <thead>\n",
       "    <tr style=\"text-align: right;\">\n",
       "      <th></th>\n",
       "      <th>Item_Weight</th>\n",
       "      <th>Item_Visibility</th>\n",
       "      <th>Item_MRP</th>\n",
       "      <th>age_of_store</th>\n",
       "      <th>Item_Fat_Content_Regular</th>\n",
       "      <th>Item_Fat_Content_others</th>\n",
       "      <th>Outlet_Size_Medium</th>\n",
       "      <th>Outlet_Size_Small</th>\n",
       "      <th>Outlet_Location_Type_Tier 2</th>\n",
       "      <th>Outlet_Location_Type_Tier 3</th>\n",
       "      <th>Outlet_Type_Supermarket Type1</th>\n",
       "      <th>Outlet_Type_Supermarket Type2</th>\n",
       "      <th>Outlet_Type_Supermarket Type3</th>\n",
       "      <th>New_Item_Identifier_FD</th>\n",
       "      <th>New_Item_Identifier_NC</th>\n",
       "    </tr>\n",
       "  </thead>\n",
       "  <tbody>\n",
       "    <tr>\n",
       "      <th>0</th>\n",
       "      <td>-0.769246</td>\n",
       "      <td>-1.111110</td>\n",
       "      <td>1.747454</td>\n",
       "      <td>-0.139541</td>\n",
       "      <td>-0.738147</td>\n",
       "      <td>-0.480558</td>\n",
       "      <td>1.504748</td>\n",
       "      <td>-1.238991</td>\n",
       "      <td>-0.696678</td>\n",
       "      <td>-0.804732</td>\n",
       "      <td>0.726802</td>\n",
       "      <td>-0.349551</td>\n",
       "      <td>-0.351028</td>\n",
       "      <td>0.625708</td>\n",
       "      <td>-0.480558</td>\n",
       "    </tr>\n",
       "    <tr>\n",
       "      <th>1</th>\n",
       "      <td>-1.496813</td>\n",
       "      <td>-1.044820</td>\n",
       "      <td>-1.489023</td>\n",
       "      <td>-1.334103</td>\n",
       "      <td>1.354743</td>\n",
       "      <td>-0.480558</td>\n",
       "      <td>1.504748</td>\n",
       "      <td>-1.238991</td>\n",
       "      <td>-0.696678</td>\n",
       "      <td>1.242650</td>\n",
       "      <td>-1.375891</td>\n",
       "      <td>2.860816</td>\n",
       "      <td>-0.351028</td>\n",
       "      <td>-1.598190</td>\n",
       "      <td>-0.480558</td>\n",
       "    </tr>\n",
       "    <tr>\n",
       "      <th>2</th>\n",
       "      <td>0.995858</td>\n",
       "      <td>-1.096486</td>\n",
       "      <td>0.010040</td>\n",
       "      <td>-0.139541</td>\n",
       "      <td>-0.738147</td>\n",
       "      <td>-0.480558</td>\n",
       "      <td>-0.664563</td>\n",
       "      <td>0.807109</td>\n",
       "      <td>-0.696678</td>\n",
       "      <td>-0.804732</td>\n",
       "      <td>0.726802</td>\n",
       "      <td>-0.349551</td>\n",
       "      <td>-0.351028</td>\n",
       "      <td>0.625708</td>\n",
       "      <td>-0.480558</td>\n",
       "    </tr>\n",
       "    <tr>\n",
       "      <th>3</th>\n",
       "      <td>1.361794</td>\n",
       "      <td>-0.087185</td>\n",
       "      <td>0.660050</td>\n",
       "      <td>-0.020085</td>\n",
       "      <td>1.354743</td>\n",
       "      <td>-0.480558</td>\n",
       "      <td>-0.664563</td>\n",
       "      <td>0.807109</td>\n",
       "      <td>-0.696678</td>\n",
       "      <td>1.242650</td>\n",
       "      <td>-1.375891</td>\n",
       "      <td>-0.349551</td>\n",
       "      <td>-0.351028</td>\n",
       "      <td>0.625708</td>\n",
       "      <td>-0.480558</td>\n",
       "    </tr>\n",
       "    <tr>\n",
       "      <th>4</th>\n",
       "      <td>-0.848890</td>\n",
       "      <td>-0.087185</td>\n",
       "      <td>-1.399220</td>\n",
       "      <td>1.293934</td>\n",
       "      <td>-0.738147</td>\n",
       "      <td>2.080915</td>\n",
       "      <td>-0.664563</td>\n",
       "      <td>-1.238991</td>\n",
       "      <td>-0.696678</td>\n",
       "      <td>1.242650</td>\n",
       "      <td>0.726802</td>\n",
       "      <td>-0.349551</td>\n",
       "      <td>-0.351028</td>\n",
       "      <td>-1.598190</td>\n",
       "      <td>2.080915</td>\n",
       "    </tr>\n",
       "  </tbody>\n",
       "</table>\n",
       "</div>"
      ],
      "text/plain": [
       "   Item_Weight  Item_Visibility  Item_MRP  age_of_store  \\\n",
       "0    -0.769246        -1.111110  1.747454     -0.139541   \n",
       "1    -1.496813        -1.044820 -1.489023     -1.334103   \n",
       "2     0.995858        -1.096486  0.010040     -0.139541   \n",
       "3     1.361794        -0.087185  0.660050     -0.020085   \n",
       "4    -0.848890        -0.087185 -1.399220      1.293934   \n",
       "\n",
       "   Item_Fat_Content_Regular  Item_Fat_Content_others  Outlet_Size_Medium  \\\n",
       "0                 -0.738147                -0.480558            1.504748   \n",
       "1                  1.354743                -0.480558            1.504748   \n",
       "2                 -0.738147                -0.480558           -0.664563   \n",
       "3                  1.354743                -0.480558           -0.664563   \n",
       "4                 -0.738147                 2.080915           -0.664563   \n",
       "\n",
       "   Outlet_Size_Small  Outlet_Location_Type_Tier 2  \\\n",
       "0          -1.238991                    -0.696678   \n",
       "1          -1.238991                    -0.696678   \n",
       "2           0.807109                    -0.696678   \n",
       "3           0.807109                    -0.696678   \n",
       "4          -1.238991                    -0.696678   \n",
       "\n",
       "   Outlet_Location_Type_Tier 3  Outlet_Type_Supermarket Type1  \\\n",
       "0                    -0.804732                       0.726802   \n",
       "1                     1.242650                      -1.375891   \n",
       "2                    -0.804732                       0.726802   \n",
       "3                     1.242650                      -1.375891   \n",
       "4                     1.242650                       0.726802   \n",
       "\n",
       "   Outlet_Type_Supermarket Type2  Outlet_Type_Supermarket Type3  \\\n",
       "0                      -0.349551                      -0.351028   \n",
       "1                       2.860816                      -0.351028   \n",
       "2                      -0.349551                      -0.351028   \n",
       "3                      -0.349551                      -0.351028   \n",
       "4                      -0.349551                      -0.351028   \n",
       "\n",
       "   New_Item_Identifier_FD  New_Item_Identifier_NC  \n",
       "0                0.625708               -0.480558  \n",
       "1               -1.598190               -0.480558  \n",
       "2                0.625708               -0.480558  \n",
       "3                0.625708               -0.480558  \n",
       "4               -1.598190                2.080915  "
      ]
     },
     "execution_count": 124,
     "metadata": {},
     "output_type": "execute_result"
    }
   ],
   "source": [
    "sc=StandardScaler()\n",
    "\n",
    "sc_x=sc.fit_transform(new_X)\n",
    "\n",
    "scaled_x=pd.DataFrame(sc_x,columns=new_X.columns)\n",
    "scaled_x.head()"
   ]
  },
  {
   "cell_type": "code",
   "execution_count": 125,
   "id": "7c28f2b4",
   "metadata": {
    "colab": {
     "background_save": true
    },
    "id": "7c28f2b4"
   },
   "outputs": [],
   "source": [
    "from sklearn.decomposition import PCA\n",
    "\n",
    "pca_bc = PCA(.95, random_state = 100)\n",
    "pca_data = pca_bc.fit_transform(scaled_x)"
   ]
  },
  {
   "cell_type": "code",
   "execution_count": 126,
   "id": "c6bb7d64",
   "metadata": {
    "colab": {
     "background_save": true
    },
    "id": "c6bb7d64",
    "outputId": "043332f7-d35b-44e7-90ee-428eadb24299"
   },
   "outputs": [
    {
     "data": {
      "text/html": [
       "<div>\n",
       "<style scoped>\n",
       "    .dataframe tbody tr th:only-of-type {\n",
       "        vertical-align: middle;\n",
       "    }\n",
       "\n",
       "    .dataframe tbody tr th {\n",
       "        vertical-align: top;\n",
       "    }\n",
       "\n",
       "    .dataframe thead th {\n",
       "        text-align: right;\n",
       "    }\n",
       "</style>\n",
       "<table border=\"1\" class=\"dataframe\">\n",
       "  <thead>\n",
       "    <tr style=\"text-align: right;\">\n",
       "      <th></th>\n",
       "      <th>PC1</th>\n",
       "      <th>PC2</th>\n",
       "      <th>PC3</th>\n",
       "      <th>PC4</th>\n",
       "      <th>PC5</th>\n",
       "      <th>PC6</th>\n",
       "      <th>PC7</th>\n",
       "      <th>PC8</th>\n",
       "      <th>PC9</th>\n",
       "      <th>PC10</th>\n",
       "    </tr>\n",
       "  </thead>\n",
       "  <tbody>\n",
       "    <tr>\n",
       "      <th>0</th>\n",
       "      <td>0.546625</td>\n",
       "      <td>-0.595849</td>\n",
       "      <td>0.451533</td>\n",
       "      <td>-1.750504</td>\n",
       "      <td>0.632935</td>\n",
       "      <td>1.751624</td>\n",
       "      <td>-0.766924</td>\n",
       "      <td>-0.905633</td>\n",
       "      <td>1.468363</td>\n",
       "      <td>-0.815873</td>\n",
       "    </tr>\n",
       "    <tr>\n",
       "      <th>1</th>\n",
       "      <td>2.725948</td>\n",
       "      <td>-0.121171</td>\n",
       "      <td>3.264666</td>\n",
       "      <td>-0.142549</td>\n",
       "      <td>-2.149606</td>\n",
       "      <td>0.042695</td>\n",
       "      <td>1.226648</td>\n",
       "      <td>-0.315540</td>\n",
       "      <td>-0.759888</td>\n",
       "      <td>-0.169435</td>\n",
       "    </tr>\n",
       "    <tr>\n",
       "      <th>2</th>\n",
       "      <td>-1.177754</td>\n",
       "      <td>-0.512986</td>\n",
       "      <td>-0.253404</td>\n",
       "      <td>-0.831778</td>\n",
       "      <td>0.703973</td>\n",
       "      <td>-0.767666</td>\n",
       "      <td>-0.748790</td>\n",
       "      <td>-1.126242</td>\n",
       "      <td>-0.316998</td>\n",
       "      <td>-0.815964</td>\n",
       "    </tr>\n",
       "    <tr>\n",
       "      <th>3</th>\n",
       "      <td>0.505607</td>\n",
       "      <td>-1.224572</td>\n",
       "      <td>-0.338232</td>\n",
       "      <td>0.836059</td>\n",
       "      <td>1.594382</td>\n",
       "      <td>-0.606367</td>\n",
       "      <td>0.968994</td>\n",
       "      <td>-0.258982</td>\n",
       "      <td>-1.680970</td>\n",
       "      <td>-0.034292</td>\n",
       "    </tr>\n",
       "    <tr>\n",
       "      <th>4</th>\n",
       "      <td>0.792624</td>\n",
       "      <td>3.384604</td>\n",
       "      <td>-1.080133</td>\n",
       "      <td>0.183364</td>\n",
       "      <td>-1.577650</td>\n",
       "      <td>-0.230825</td>\n",
       "      <td>0.786723</td>\n",
       "      <td>-1.484477</td>\n",
       "      <td>0.389782</td>\n",
       "      <td>1.368417</td>\n",
       "    </tr>\n",
       "  </tbody>\n",
       "</table>\n",
       "</div>"
      ],
      "text/plain": [
       "        PC1       PC2       PC3       PC4       PC5       PC6       PC7  \\\n",
       "0  0.546625 -0.595849  0.451533 -1.750504  0.632935  1.751624 -0.766924   \n",
       "1  2.725948 -0.121171  3.264666 -0.142549 -2.149606  0.042695  1.226648   \n",
       "2 -1.177754 -0.512986 -0.253404 -0.831778  0.703973 -0.767666 -0.748790   \n",
       "3  0.505607 -1.224572 -0.338232  0.836059  1.594382 -0.606367  0.968994   \n",
       "4  0.792624  3.384604 -1.080133  0.183364 -1.577650 -0.230825  0.786723   \n",
       "\n",
       "        PC8       PC9      PC10  \n",
       "0 -0.905633  1.468363 -0.815873  \n",
       "1 -0.315540 -0.759888 -0.169435  \n",
       "2 -1.126242 -0.316998 -0.815964  \n",
       "3 -0.258982 -1.680970 -0.034292  \n",
       "4 -1.484477  0.389782  1.368417  "
      ]
     },
     "execution_count": 126,
     "metadata": {},
     "output_type": "execute_result"
    }
   ],
   "source": [
    "df_bc_subset = pd.DataFrame(pca_data, columns= ['PC' + str(i+1) for i in range(10)])\n",
    "df_bc_subset.head()"
   ]
  },
  {
   "cell_type": "code",
   "execution_count": 127,
   "id": "17967007",
   "metadata": {
    "colab": {
     "background_save": true
    },
    "id": "17967007"
   },
   "outputs": [],
   "source": [
    "X=df_bc_subset\n",
    "y=y"
   ]
  },
  {
   "cell_type": "code",
   "execution_count": 128,
   "id": "f413cebb",
   "metadata": {
    "colab": {
     "background_save": true
    },
    "id": "f413cebb"
   },
   "outputs": [],
   "source": [
    "# will split the data into train_test_split\n",
    "from sklearn.model_selection import train_test_split\n",
    "\n",
    "X_train,X_test,y_train,y_test=train_test_split(X,y,test_size=0.2,random_state=42)"
   ]
  },
  {
   "cell_type": "code",
   "execution_count": 129,
   "id": "31931ade",
   "metadata": {
    "colab": {
     "background_save": true
    },
    "id": "31931ade",
    "outputId": "727bf7bb-132e-4da3-9466-c080fed783aa"
   },
   "outputs": [
    {
     "data": {
      "text/plain": [
       "(6818, 10)"
      ]
     },
     "execution_count": 129,
     "metadata": {},
     "output_type": "execute_result"
    }
   ],
   "source": [
    "X_train.shape"
   ]
  },
  {
   "cell_type": "code",
   "execution_count": 130,
   "id": "7ce9f383",
   "metadata": {
    "colab": {
     "background_save": true
    },
    "id": "7ce9f383",
    "outputId": "08dc2b25-759c-406c-ec2a-90c712448941"
   },
   "outputs": [
    {
     "name": "stdout",
     "output_type": "stream",
     "text": [
      "MSE_train = 100.842343007006\n",
      "MSE_test = 106.63914363968092\n",
      "RMSE_train = 10.042028829225995\n",
      "RMSE_test = 10.326623051108282\n",
      "r2_score_train = 0.7024300452262463\n",
      "r2_score_test = 0.6755102241653461\n"
     ]
    }
   ],
   "source": [
    "model6=RandomForestRegressor(criterion='squared_error',max_depth=8,max_features='auto',n_estimators=500)\n",
    "\n",
    "\n",
    "model6.fit(X_train,y_train)\n",
    "y_train_pred=model6.predict(X_train)\n",
    "y_test_pred=model6.predict(X_test)\n",
    "MSE_train= mean_squared_error(y_train,y_train_pred)\n",
    "MSE_test= mean_squared_error(y_test,y_test_pred)\n",
    "print('MSE_train =',MSE_train)\n",
    "print('MSE_test =',MSE_test)\n",
    "RMSE_train=np.sqrt(MSE_train)\n",
    "RMSE_test=np.sqrt(MSE_test)\n",
    "print('RMSE_train =',RMSE_train)\n",
    "print('RMSE_test =',RMSE_test)\n",
    "r2_score_train=r2_score(y_train,y_train_pred)\n",
    "r2_score_test=r2_score(y_test,y_test_pred)\n",
    "print('r2_score_train =',r2_score_train)\n",
    "print('r2_score_test =',r2_score_test)"
   ]
  },
  {
   "cell_type": "code",
   "execution_count": 131,
   "id": "6e3f0dca",
   "metadata": {
    "colab": {
     "background_save": true
    },
    "id": "6e3f0dca",
    "outputId": "ce34bd88-3400-4fbd-ce2a-8234385b2e5d"
   },
   "outputs": [
    {
     "ename": "ModuleNotFoundError",
     "evalue": "No module named 'xgboost'",
     "output_type": "error",
     "traceback": [
      "\u001b[1;31m---------------------------------------------------------------------------\u001b[0m",
      "\u001b[1;31mModuleNotFoundError\u001b[0m                       Traceback (most recent call last)",
      "Cell \u001b[1;32mIn[131], line 1\u001b[0m\n\u001b[1;32m----> 1\u001b[0m \u001b[38;5;28;01mimport\u001b[39;00m \u001b[38;5;21;01mxgboost\u001b[39;00m \u001b[38;5;28;01mas\u001b[39;00m \u001b[38;5;21;01mxgb\u001b[39;00m\n\u001b[0;32m      2\u001b[0m model7 \u001b[38;5;241m=\u001b[39m xgb\u001b[38;5;241m.\u001b[39mXGBRegressor()\n\u001b[0;32m      5\u001b[0m model7\u001b[38;5;241m.\u001b[39mfit(X_train,y_train)\n",
      "\u001b[1;31mModuleNotFoundError\u001b[0m: No module named 'xgboost'"
     ]
    }
   ],
   "source": [
    "import xgboost as xgb\n",
    "model7 = xgb.XGBRegressor()\n",
    "\n",
    "\n",
    "model7.fit(X_train,y_train)\n",
    "y_train_pred=model7.predict(X_train)\n",
    "y_test_pred=model7.predict(X_test)\n",
    "MSE_train= mean_squared_error(y_train,y_train_pred)\n",
    "MSE_test= mean_squared_error(y_test,y_test_pred)\n",
    "print('MSE_train =',MSE_train)\n",
    "print('MSE_test =',MSE_test)\n",
    "RMSE_train=np.sqrt(MSE_train)\n",
    "RMSE_test=np.sqrt(MSE_test)\n",
    "print('RMSE_train =',RMSE_train)\n",
    "print('RMSE_test =',RMSE_test)\n",
    "r2_score_train=r2_score(y_train,y_train_pred)\n",
    "r2_score_test=r2_score(y_test,y_test_pred)\n",
    "print('r2_score_train =',r2_score_train)\n",
    "print('r2_score_test =',r2_score_test)"
   ]
  },
  {
   "cell_type": "code",
   "execution_count": null,
   "id": "68fb6559",
   "metadata": {
    "colab": {
     "background_save": true
    },
    "id": "68fb6559",
    "outputId": "e0a9a2d1-2697-4510-af55-8e3e7d9d6748"
   },
   "outputs": [],
   "source": [
    "from sklearn.model_selection import RandomizedSearchCV\n",
    "\n",
    "gbm_param_grid = {\n",
    "    'n_estimators': [25,50],\n",
    "    'max_depth': range(2, 12),\n",
    "    'colsample_bytree':[0.3,0.4,0.5,0.6,0.7]\n",
    "}\n",
    "\n",
    "gbm = xgb.XGBRegressor(n_estimators=10)\n",
    "\n",
    "# Perform random search: grid_mse\n",
    "randomized_mse = RandomizedSearchCV(estimator=gbm,param_distributions=gbm_param_grid, scoring='neg_mean_squared_error', n_iter=5,cv=4,verbose=1)\n",
    "\n",
    "\n",
    "# Fit randomized_mse to the data\n",
    "randomized_mse.fit(X,y)\n",
    "\n",
    "# Print the best parameters and lowest RMSE\n",
    "print(\"Best parameters found: \", randomized_mse.best_params_)\n",
    "print(\"Lowest RMSE found: \", np.sqrt(np.abs(randomized_mse.best_score_)))\n"
   ]
  },
  {
   "cell_type": "code",
   "execution_count": null,
   "id": "a1253b4e",
   "metadata": {
    "colab": {
     "background_save": true
    },
    "id": "a1253b4e",
    "outputId": "42fda328-edaf-439e-e81d-bfc2129ef7ed"
   },
   "outputs": [],
   "source": [
    "model8= xgb.XGBRegressor(n_estimators=25, max_depth= 6, colsample_bytree= 0.5)\n",
    "model8.fit(X_train,y_train)\n",
    "y_train_pred=model8.predict(X_train)\n",
    "y_test_pred=model8.predict(X_test)\n",
    "MSE_train= mean_squared_error(y_train,y_train_pred)\n",
    "MSE_test= mean_squared_error(y_test,y_test_pred)\n",
    "print('MSE_train =',MSE_train)\n",
    "print('MSE_test =',MSE_test)\n",
    "RMSE_train=np.sqrt(MSE_train)\n",
    "RMSE_test=np.sqrt(MSE_test)\n",
    "print('RMSE_train =',RMSE_train)\n",
    "print('RMSE_test =',RMSE_test)\n",
    "r2_score_train=r2_score(y_train,y_train_pred)\n",
    "r2_score_test=r2_score(y_test,y_test_pred)\n",
    "print('r2_score_train =',r2_score_train)\n",
    "print('r2_score_test =',r2_score_test)"
   ]
  },
  {
   "cell_type": "code",
   "execution_count": null,
   "id": "98be9fb8",
   "metadata": {
    "colab": {
     "background_save": true
    },
    "id": "98be9fb8"
   },
   "outputs": [],
   "source": []
  },
  {
   "cell_type": "code",
   "execution_count": null,
   "id": "19641c2f",
   "metadata": {
    "colab": {
     "background_save": true
    },
    "id": "19641c2f"
   },
   "outputs": [],
   "source": []
  },
  {
   "cell_type": "code",
   "execution_count": null,
   "id": "a640d4e1",
   "metadata": {
    "colab": {
     "background_save": true
    },
    "id": "a640d4e1"
   },
   "outputs": [],
   "source": [
    "# no need to use this technique here just for rough use we have written below code for reference purpose"
   ]
  },
  {
   "cell_type": "code",
   "execution_count": null,
   "id": "1aaa11b5",
   "metadata": {
    "id": "1aaa11b5"
   },
   "outputs": [],
   "source": [
    "from sklearn.linear_model import Ridge, Lasso\n",
    "from sklearn.tree import DecisionTreeRegressor\n",
    "from sklearn.neighbors import KNeighborsRegressor\n",
    "from sklearn.ensemble import RandomForestRegressor\n",
    "import xgboost as xgb\n",
    "from sklearn.svm import SVR\n"
   ]
  },
  {
   "cell_type": "code",
   "execution_count": null,
   "id": "KSAfmwzmlhdP",
   "metadata": {
    "id": "KSAfmwzmlhdP"
   },
   "outputs": [],
   "source": []
  },
  {
   "cell_type": "code",
   "execution_count": null,
   "id": "ldxgfbiJjwmW",
   "metadata": {
    "id": "ldxgfbiJjwmW"
   },
   "outputs": [],
   "source": []
  },
  {
   "cell_type": "code",
   "execution_count": null,
   "id": "abb62257",
   "metadata": {
    "id": "abb62257"
   },
   "outputs": [],
   "source": [
    "algos = [LinearRegression(), Ridge(), Lasso(), DecisionTreeRegressor(), KNeighborsRegressor(),RandomForestRegressor(),xgb.XGBRegressor(),SVR()]\n",
    "names = ['Linear Regression', 'Ridge Regression', 'Lasso Regression', 'K Neighbors Regression', 'Decision Tree Regression','RandomForestRegressor','XGBoost','SVR']\n",
    "rmse_list = []\n",
    "r2_s = []\n",
    "r2_t=[]"
   ]
  },
  {
   "cell_type": "code",
   "execution_count": null,
   "id": "e0e9097a",
   "metadata": {
    "colab": {
     "base_uri": "https://localhost:8080/"
    },
    "id": "e0e9097a",
    "outputId": "3b57a552-2d87-4df7-b9de-50fd859d5dd0"
   },
   "outputs": [],
   "source": [
    "from sklearn import metrics\n",
    "\n",
    "for name in algos:\n",
    "    model = name\n",
    "    model.fit(X_train, y_train)\n",
    "    y_train_pred=model.predict(X_train)\n",
    "    y_pred = model.predict(X_test)\n",
    "    MSE = metrics.mean_squared_error(y_test, y_pred)\n",
    "    rmse = np.sqrt(MSE)\n",
    "    rmse_list.append(rmse)\n",
    "    r2_train = r2_score(y_train,y_train_pred)\n",
    "    r2_t.append(r2_train)\n",
    "    r2 = r2_score(y_test,y_pred)\n",
    "    r2_s.append(r2)"
   ]
  },
  {
   "cell_type": "code",
   "execution_count": null,
   "id": "20a473d2",
   "metadata": {
    "id": "20a473d2"
   },
   "outputs": [],
   "source": [
    "evaluation = pd.DataFrame({'Model': names, 'RMSE': rmse_list,'r2_Score Train':r2_t, 'r2_Score': r2_s,})"
   ]
  },
  {
   "cell_type": "code",
   "execution_count": null,
   "id": "e2574df4",
   "metadata": {
    "colab": {
     "base_uri": "https://localhost:8080/",
     "height": 300
    },
    "id": "e2574df4",
    "outputId": "0a3fef2d-2d83-4f44-eb59-d40c5f89990c"
   },
   "outputs": [],
   "source": [
    "evaluation"
   ]
  },
  {
   "cell_type": "code",
   "execution_count": 132,
   "id": "c6d84b2e",
   "metadata": {
    "colab": {
     "background_save": true
    },
    "id": "c6d84b2e"
   },
   "outputs": [
    {
     "name": "stdout",
     "output_type": "stream",
     "text": [
      "The angle the line joining the tops makes with the ground is approximately 18.93 degrees.\n"
     ]
    }
   ],
   "source": [
    "import math\n",
    "\n",
    "# Given data\n",
    "height_tower1 = 25\n",
    "height_tower2 = 10\n",
    "distance = 15\n",
    "\n",
    "# Calculate the length of the line joining the tops of the towers\n",
    "length = math.sqrt(height_tower1**2 + distance**2)\n",
    "\n",
    "# Calculate the angle using the arctangent function\n",
    "angle = math.degrees(math.atan(height_tower2 / length))\n",
    "\n",
    "# Print the angle\n",
    "print(f\"The angle the line joining the tops makes with the ground is approximately {angle:.2f} degrees.\")"
   ]
  },
  {
   "cell_type": "code",
   "execution_count": null,
   "id": "cd6209ba",
   "metadata": {},
   "outputs": [],
   "source": []
  }
 ],
 "metadata": {
  "accelerator": "GPU",
  "colab": {
   "collapsed_sections": [],
   "name": "Big Mart by Jeevan final data for submission.ipynb",
   "provenance": [],
   "toc_visible": true
  },
  "kernelspec": {
   "display_name": "Python 3 (ipykernel)",
   "language": "python",
   "name": "python3"
  },
  "language_info": {
   "codemirror_mode": {
    "name": "ipython",
    "version": 3
   },
   "file_extension": ".py",
   "mimetype": "text/x-python",
   "name": "python",
   "nbconvert_exporter": "python",
   "pygments_lexer": "ipython3",
   "version": "3.10.9"
  }
 },
 "nbformat": 4,
 "nbformat_minor": 5
}
